{
 "cells": [
  {
   "cell_type": "markdown",
   "metadata": {},
   "source": [
    "# Interactive Hyper-parameter Configuration\n",
    "This is a use case provided by RLzoo to support an interactive hyper-parameter configuration process. It is built with *ipywidgets* package, so make sure you have the package installed:\n",
    "\n",
    "```! pip3 install ipywidgets==7.5.1```\n",
    "\n",
    "You just need to **run** each cell (Shift+Enter) and **select** the sliders or dropdown lists to configure the hyper-parameters for the learning process, for whichever algorithm and environment supported in RLzoo. \n",
    "\n",
    "It follows four steps:\n",
    "1. Environment Configuration\n",
    "2. Environment Information Display and Algorithm Configuration\n",
    "3. Algorithm Parameters Display and Learning Parameters Configuration\n",
    "4. Launch Learning with Visualization \n",
    "\n",
    "Tips:\n",
    "To stop the learning process and start a new one, you needs to restart the kernel (always work) or interrupt the kernel (not always work). \n",
    "\n",
    "Have fun!"
   ]
  },
  {
   "cell_type": "code",
   "execution_count": null,
   "metadata": {},
   "outputs": [],
   "source": [
    "\"\"\"\n",
    "1. Environment Configuration\n",
    "-----------------------------\n",
    "Run a environment selector and select a environment you like.\n",
    "\n",
    "Tips: no need to rerun after selection, directly go to next cell.\n",
    "\"\"\"\n",
    "\n",
    "from rlzoo.interactive.common import *\n",
    "from rlzoo.interactive.components import *\n",
    "from rlzoo.algorithms import *\n",
    "from rlzoo.common.env_wrappers import build_env, close_env\n",
    "env_sel = EnvironmentSelector()\n",
    "display(env_sel)"
   ]
  },
  {
   "cell_type": "code",
   "execution_count": null,
   "metadata": {},
   "outputs": [],
   "source": [
    "\"\"\"\n",
    "2. Environment Information Display and Algorithm Configuration\n",
    "--------------------------------------------------------------\n",
    "Run this code to create the enivronment instance.\n",
    "\n",
    "Tips: need to rerun every time you want to create a new environment with above cell, \\\n",
    "because this cell builds the environment.\n",
    "\"\"\"\n",
    "\n",
    "try:\n",
    "    close_env(env)  # close the previous environment\n",
    "except:\n",
    "    pass\n",
    "env = build_env(**env_sel.value)\n",
    "print('Environment created!')\n",
    "display(EnvInfoViewer(env))\n",
    "\n",
    "# run a algorithm selector and select a RL algorithm\n",
    "alog_sel = AlgorithmSelector(env)\n",
    "display(alog_sel)"
   ]
  },
  {
   "cell_type": "code",
   "execution_count": null,
   "metadata": {},
   "outputs": [],
   "source": [
    "\"\"\"\n",
    "3. Algorithm Parameters Display and Learning Parameters Configuration\n",
    "----------------------------------------------------------------------\n",
    "Call the default parameters of the selected algorithm in our environment and display them, \\\n",
    "then select learning parameters.\n",
    "\n",
    "Tips: need to rerun after you created a different algorithm or environment.\n",
    "\"\"\"\n",
    "\n",
    "EnvType, AlgName = env_sel.value['env_type'], alog_sel.value\n",
    "alg_params, learn_params = call_default_params(env, EnvType, AlgName)\n",
    "print('Default parameters loaded!')\n",
    "\n",
    "# see the networks, optimizers and adjust other parameters\n",
    "algiv = AlgoInfoViewer(alog_sel, alg_params, learn_params)\n",
    "display(algiv)\n",
    "\n",
    "# run this to generate the algorithm instance with the algorithm parameter settings above\n",
    "alg_params = algiv.alg_params\n",
    "alg = eval(AlgName+'(**alg_params)')\n",
    "print('Algorithm instance created!')"
   ]
  },
  {
   "cell_type": "code",
   "execution_count": null,
   "metadata": {},
   "outputs": [],
   "source": [
    "\"\"\"\n",
    "4. Launch Learning with Visualization \n",
    "---------------------------------------\n",
    "Run the cell to train the algorithm with the configurations above.\n",
    "\"\"\"\n",
    "\n",
    "learn_params = algiv.learn_params\n",
    "om = OutputMonitor(learn_params, smooth_factor=algiv.smooth_factor)\n",
    "display(om)\n",
    "with om.print_out:\n",
    "    alg.learn(env=env, plot_func=om.plot_func, **learn_params)"
   ]
  },
  {
   "cell_type": "code",
   "execution_count": null,
   "metadata": {},
   "outputs": [],
   "source": [
    "# whenever leaving the page, please close the environment by the way\n",
    "close_env(env)\n",
    "print('Environment closed')"
   ]
  },
  {
   "cell_type": "code",
   "execution_count": null,
   "metadata": {},
   "outputs": [],
   "source": []
  }
 ],
 "metadata": {
  "kernelspec": {
   "display_name": "Python 3",
   "language": "python",
   "name": "python3"
  },
  "language_info": {
   "codemirror_mode": {
    "name": "ipython",
    "version": 3
   },
   "file_extension": ".py",
   "mimetype": "text/x-python",
   "name": "python",
   "nbconvert_exporter": "python",
   "pygments_lexer": "ipython3",
   "version": "3.6.10"
  },
  "widgets": {
   "application/vnd.jupyter.widget-state+json": {
    "state": {
     "00663174be1342fbbd29bc99cdd6d3aa": {
      "model_module": "@jupyter-widgets/base",
      "model_module_version": "1.2.0",
      "model_name": "LayoutModel",
      "state": {}
     },
     "00ead8f3c1ea4020930b11c3bde3dd48": {
      "model_module": "@jupyter-widgets/controls",
      "model_module_version": "1.5.0",
      "model_name": "LabelModel",
      "state": {
       "layout": "IPY_MODEL_543b543dd8bb4fcb9dc9f4a16ac4bd6e",
       "style": "IPY_MODEL_f63f7fca433e4d32ad6252416895155b",
       "value": "max_steps"
      }
     },
     "0106cced0fe54fbb9a3a261b11941cce": {
      "model_module": "@jupyter-widgets/controls",
      "model_module_version": "1.5.0",
      "model_name": "HTMLModel",
      "state": {
       "layout": "IPY_MODEL_593926166a704759992244f9732d0f8d",
       "style": "IPY_MODEL_4a1bc5d7007848cb89e08eff1479ddf8",
       "value": "<font size=4><B>Learn Parameters</B>"
      }
     },
     "012eeb7c3bab46d9baa05356cd4ff0f6": {
      "model_module": "@jupyter-widgets/controls",
      "model_module_version": "1.5.0",
      "model_name": "DescriptionStyleModel",
      "state": {
       "description_width": ""
      }
     },
     "0143906a10054b1594675c3674642d83": {
      "model_module": "@jupyter-widgets/controls",
      "model_module_version": "1.5.0",
      "model_name": "DescriptionStyleModel",
      "state": {
       "description_width": ""
      }
     },
     "014bf4270fea44b6aad4c80c7a5979b7": {
      "model_module": "@jupyter-widgets/controls",
      "model_module_version": "1.5.0",
      "model_name": "DescriptionStyleModel",
      "state": {
       "description_width": ""
      }
     },
     "019cd764de374cb382236f88a5d204af": {
      "model_module": "@jupyter-widgets/base",
      "model_module_version": "1.2.0",
      "model_name": "LayoutModel",
      "state": {}
     },
     "01cece59d650454b9cf09d03e85a6a10": {
      "model_module": "@jupyter-widgets/controls",
      "model_module_version": "1.5.0",
      "model_name": "LabelModel",
      "state": {
       "layout": "IPY_MODEL_81d1f55272ef4977b06be173bdd59b8c",
       "style": "IPY_MODEL_e62a214128d34799be2e1cc2cdb98b8c",
       "value": "Network information:"
      }
     },
     "0201bde3e922471d9bb86857be61df95": {
      "model_module": "@jupyter-widgets/controls",
      "model_module_version": "1.5.0",
      "model_name": "FloatTextModel",
      "state": {
       "description": "Manual input:",
       "layout": "IPY_MODEL_8178676fb5e441ec92464938695643a8",
       "step": null,
       "style": "IPY_MODEL_0143906a10054b1594675c3674642d83",
       "value": 24
      }
     },
     "02904d8bc2d442deb3da0b5e6e0363a9": {
      "model_module": "@jupyter-widgets/controls",
      "model_module_version": "1.5.0",
      "model_name": "DescriptionStyleModel",
      "state": {
       "description_width": ""
      }
     },
     "04461564de8c45d6af4c6055f7b4c17f": {
      "model_module": "@jupyter-widgets/controls",
      "model_module_version": "1.5.0",
      "model_name": "RadioButtonsModel",
      "state": {
       "_options_labels": [
        "train",
        "test"
       ],
       "index": 0,
       "layout": "IPY_MODEL_520b2e1af36547edbae1352d82099fda",
       "style": "IPY_MODEL_2c9a721e0f084f8f8f437a5d4d875e3f"
      }
     },
     "04abdee05e514880bb74dfe64bca36ff": {
      "model_module": "@jupyter-widgets/controls",
      "model_module_version": "1.5.0",
      "model_name": "LabelModel",
      "state": {
       "layout": "IPY_MODEL_9384c24875c24e5b8be37d4c55e04820",
       "style": "IPY_MODEL_bebb739676c74aacb396889de39592e6",
       "value": "0.9"
      }
     },
     "0580852520e142a89d7b42c50bfef6a1": {
      "model_module": "@jupyter-widgets/controls",
      "model_module_version": "1.5.0",
      "model_name": "DescriptionStyleModel",
      "state": {
       "description_width": ""
      }
     },
     "066c122ea5f64991b7347279a79e8061": {
      "model_module": "@jupyter-widgets/controls",
      "model_module_version": "1.5.0",
      "model_name": "SliderStyleModel",
      "state": {
       "description_width": ""
      }
     },
     "06d5c4249f3d404793fe2defc8eb0051": {
      "model_module": "@jupyter-widgets/controls",
      "model_module_version": "1.5.0",
      "model_name": "VBoxModel",
      "state": {
       "children": [
        "IPY_MODEL_5af1a3e17ac64264905701b109c013e2",
        "IPY_MODEL_691c17934ca3435eb36a2d84d15ecdf7"
       ],
       "layout": "IPY_MODEL_7d163d682d5744d6ac7be041fb66c158"
      }
     },
     "070bc781a91449c6a7fb227586d347e6": {
      "model_module": "@jupyter-widgets/controls",
      "model_module_version": "1.5.0",
      "model_name": "LabelModel",
      "state": {
       "layout": "IPY_MODEL_494deb5503e842b78948ed2c14e28e3e",
       "style": "IPY_MODEL_2d1f0d1b81ee4e1f85ae2f777dcd0db9",
       "value": "beta_2"
      }
     },
     "07377f1ec0e74dd4897d484914a44f99": {
      "model_module": "@jupyter-widgets/base",
      "model_module_version": "1.2.0",
      "model_name": "LayoutModel",
      "state": {}
     },
     "077609b632e64492acbc9a009222e086": {
      "model_module": "@jupyter-widgets/controls",
      "model_module_version": "1.5.0",
      "model_name": "DescriptionStyleModel",
      "state": {
       "description_width": ""
      }
     },
     "078c44ca72d24661bbeb9921196ddace": {
      "model_module": "@jupyter-widgets/controls",
      "model_module_version": "1.5.0",
      "model_name": "DescriptionStyleModel",
      "state": {
       "description_width": ""
      }
     },
     "07b040199f664673b2cb1b45c5a5af34": {
      "model_module": "@jupyter-widgets/controls",
      "model_module_version": "1.5.0",
      "model_name": "LabelModel",
      "state": {
       "layout": "IPY_MODEL_47513573787c4ab1bfafee8a38450355",
       "style": "IPY_MODEL_0abdf6aca8e44b2f96d9e278ce60a016",
       "value": "Dense(n_units=1, tanh, in_channels='64', name='dense_2')"
      }
     },
     "07b0e1377c414989a1d7ce1bf1da1c4e": {
      "model_module": "@jupyter-widgets/controls",
      "model_module_version": "1.5.0",
      "model_name": "LabelModel",
      "state": {
       "layout": "IPY_MODEL_0bd6e0b89391415fa6fc2c7f7fbf3bd3",
       "style": "IPY_MODEL_da04b8e9a4464f7ea141e41904fa3b0f",
       "value": "0.999"
      }
     },
     "080346c4f0ae457182549d3c68aaaaea": {
      "model_module": "@jupyter-widgets/output",
      "model_module_version": "1.0.0",
      "model_name": "OutputModel",
      "state": {
       "layout": "IPY_MODEL_23d66d78336541bf8b3f863dc3e554d4",
       "outputs": [
        {
         "name": "stdout",
         "output_type": "stream",
         "text": "Training...  | Algorithm: AC  | Environment: Pendulum-v0\nEpisode: 0/10  | Episode Reward: -1730.5698  | Running Time: 1.6412\n[TL] [*] Saving TL weights into ./model/AC-Pendulum-v0/model_actor\n[TL] [*] Saved\n[TL] [*] Saving TL weights into ./model/AC-Pendulum-v0/model_critic\n[TL] [*] Saved\nEpisode: 1/10  | Episode Reward: -1738.3357  | Running Time: 3.3340\nEpisode: 2/10  | Episode Reward: -1744.1233  | Running Time: 4.9608\nEpisode: 3/10  | Episode Reward: -1854.8743  | Running Time: 6.5518\nEpisode: 4/10  | Episode Reward: -1678.3274  | Running Time: 8.1632\nEpisode: 5/10  | Episode Reward: -1833.9245  | Running Time: 9.7298\nEpisode: 6/10  | Episode Reward: -1805.7677  | Running Time: 11.3628\nEpisode: 7/10  | Episode Reward: -1822.8594  | Running Time: 12.9569\nEpisode: 8/10  | Episode Reward: -1409.2653  | Running Time: 14.5867\nEpisode: 9/10  | Episode Reward: -1752.4231  | Running Time: 16.2574\n[TL] [*] Saving TL weights into ./model/AC-Pendulum-v0/model_actor\n[TL] [*] Saved\n[TL] [*] Saving TL weights into ./model/AC-Pendulum-v0/model_critic\n[TL] [*] Saved\n"
        }
       ]
      }
     },
     "081136f1075542a3999ce83eba68fdb5": {
      "model_module": "@jupyter-widgets/controls",
      "model_module_version": "1.5.0",
      "model_name": "VBoxModel",
      "state": {
       "children": [
        "IPY_MODEL_1ef9aa26484548e99e94bb3d8aae3cce",
        "IPY_MODEL_45847f561d154d999d93f170524e2bdf",
        "IPY_MODEL_9ce0362f9fac4e45a87ebe7a085a24af"
       ],
       "layout": "IPY_MODEL_ab2e3b3dc5024debb0c00c3d27d48a8b"
      }
     },
     "08f5684d8e194916ac04ed379e2bf022": {
      "model_module": "@jupyter-widgets/controls",
      "model_module_version": "1.5.0",
      "model_name": "FloatTextModel",
      "state": {
       "description": "Manual input:",
       "layout": "IPY_MODEL_019cd764de374cb382236f88a5d204af",
       "step": null,
       "style": "IPY_MODEL_c4662ffdadef4c7d82aba5ddca1fbfda",
       "value": 0.9
      }
     },
     "093fd11986764d78ad5dcf1429a496c9": {
      "model_module": "@jupyter-widgets/output",
      "model_module_version": "1.0.0",
      "model_name": "OutputModel",
      "state": {
       "layout": "IPY_MODEL_0b19536128d34993b9a3354b2a05e2dc",
       "msg_id": "8f19b370e7f641249abb608a3c84b213",
       "outputs": [
        {
         "name": "stdout",
         "output_type": "stream",
         "text": "Training...  | Algorithm: AC  | Environment: Pendulum-v0\nEpisode: 0/100  | Episode Reward: -1730.5698  | Running Time: 1.6647\n[TL] [*] Saving TL weights into ./model/AC-Pendulum-v0/model_actor\n[TL] [*] Saved\n[TL] [*] Saving TL weights into ./model/AC-Pendulum-v0/model_critic\n[TL] [*] Saved\nEpisode: 1/100  | Episode Reward: -1738.3357  | Running Time: 3.3156\nEpisode: 2/100  | Episode Reward: -1744.1233  | Running Time: 4.9611\nEpisode: 3/100  | Episode Reward: -1854.8743  | Running Time: 6.5757\nEpisode: 4/100  | Episode Reward: -1678.3274  | Running Time: 8.2029\nEpisode: 5/100  | Episode Reward: -1833.9245  | Running Time: 9.7915\nEpisode: 6/100  | Episode Reward: -1805.7677  | Running Time: 11.3793\nEpisode: 7/100  | Episode Reward: -1822.8594  | Running Time: 12.9897\nEpisode: 8/100  | Episode Reward: -1409.2653  | Running Time: 14.5941\nEpisode: 9/100  | Episode Reward: -1752.4231  | Running Time: 16.2545\nEpisode: 10/100  | Episode Reward: -1595.9812  | Running Time: 17.8784\nEpisode: 11/100  | Episode Reward: -1750.5559  | Running Time: 19.4594\nEpisode: 12/100  | Episode Reward: -1780.9001  | Running Time: 21.0874\nEpisode: 13/100  | Episode Reward: -1645.4007  | Running Time: 22.7261\nEpisode: 14/100  | Episode Reward: -1684.3441  | Running Time: 24.3810\nEpisode: 15/100  | Episode Reward: -1764.5074  | Running Time: 25.9965\nEpisode: 16/100  | Episode Reward: -1688.8096  | Running Time: 27.6359\nEpisode: 17/100  | Episode Reward: -1582.7040  | Running Time: 29.2999\n"
        }
       ]
      }
     },
     "094d34956035446984a6cb8a6efc22a7": {
      "model_module": "@jupyter-widgets/controls",
      "model_module_version": "1.5.0",
      "model_name": "DescriptionStyleModel",
      "state": {
       "description_width": ""
      }
     },
     "09c74a8b5d1a43828034e148d2edfbfc": {
      "model_module": "@jupyter-widgets/base",
      "model_module_version": "1.2.0",
      "model_name": "LayoutModel",
      "state": {}
     },
     "09eb8f946d00416dace2ee661ad55fbd": {
      "model_module": "@jupyter-widgets/base",
      "model_module_version": "1.2.0",
      "model_name": "LayoutModel",
      "state": {
       "grid_area": "widget001"
      }
     },
     "0a179f0e33df4522b9286a546e181b60": {
      "model_module": "@jupyter-widgets/controls",
      "model_module_version": "1.5.0",
      "model_name": "LabelModel",
      "state": {
       "layout": "IPY_MODEL_f2ffc80dd5074916b1a69e9de91149f9",
       "style": "IPY_MODEL_8784dbc322c7455aaef2b352bae2f205",
       "value": "name"
      }
     },
     "0a21d0f35913467a9b266a75d2af8db0": {
      "model_module": "@jupyter-widgets/controls",
      "model_module_version": "1.5.0",
      "model_name": "DescriptionStyleModel",
      "state": {
       "description_width": ""
      }
     },
     "0a575cd57803474a9574922e07d3d316": {
      "model_module": "@jupyter-widgets/controls",
      "model_module_version": "1.5.0",
      "model_name": "LabelModel",
      "state": {
       "layout": "IPY_MODEL_5532430429754176a10d6ab53ba4b6d9",
       "style": "IPY_MODEL_e35bce23c28f4af3b0d4dce2266ed2e8",
       "value": "Learning curve"
      }
     },
     "0abdf6aca8e44b2f96d9e278ce60a016": {
      "model_module": "@jupyter-widgets/controls",
      "model_module_version": "1.5.0",
      "model_name": "DescriptionStyleModel",
      "state": {
       "description_width": ""
      }
     },
     "0af6103ca9e44bb4a44c62b84b39415f": {
      "model_module": "@jupyter-widgets/controls",
      "model_module_version": "1.5.0",
      "model_name": "VBoxModel",
      "state": {
       "children": [
        "IPY_MODEL_4112e1653afc41a795418fc54377af6c",
        "IPY_MODEL_10d4f1af65b0492594efc926d9976e59"
       ],
       "layout": "IPY_MODEL_1e197bc7d05a4518969ee7d3f97f211c"
      }
     },
     "0b081708649d446ab37f522f5a019e19": {
      "model_module": "@jupyter-widgets/base",
      "model_module_version": "1.2.0",
      "model_name": "LayoutModel",
      "state": {}
     },
     "0b19536128d34993b9a3354b2a05e2dc": {
      "model_module": "@jupyter-widgets/base",
      "model_module_version": "1.2.0",
      "model_name": "LayoutModel",
      "state": {
       "border": "1px solid black",
       "height": "300px",
       "overflow": "scroll",
       "width": "60%"
      }
     },
     "0b1a53d081f547f8ab913cd15fe70058": {
      "model_module": "@jupyter-widgets/output",
      "model_module_version": "1.0.0",
      "model_name": "OutputModel",
      "state": {
       "layout": "IPY_MODEL_d99dceda8ae6483f8df298525d45be82"
      }
     },
     "0bd6e0b89391415fa6fc2c7f7fbf3bd3": {
      "model_module": "@jupyter-widgets/base",
      "model_module_version": "1.2.0",
      "model_name": "LayoutModel",
      "state": {
       "grid_area": "widget010"
      }
     },
     "0c0d922d9ed14199ab9b8f48b9e8ba1d": {
      "model_module": "@jupyter-widgets/controls",
      "model_module_version": "1.5.0",
      "model_name": "IntTextModel",
      "state": {
       "description": "multi envs:",
       "layout": "IPY_MODEL_f2db93e6094b47d0bfce3821b33d707a",
       "step": 1,
       "style": "IPY_MODEL_454f999c2ca44e7b86263594806f6191",
       "value": 1
      }
     },
     "0c64eb2046714b6c885261124bcb09f8": {
      "model_module": "@jupyter-widgets/controls",
      "model_module_version": "1.5.0",
      "model_name": "LabelModel",
      "state": {
       "layout": "IPY_MODEL_167de1c7956c4ede9fa6a584404bc568",
       "style": "IPY_MODEL_5469680f21e44e77b1092b8354d9aee0",
       "value": "Dense(n_units=1, No Activation, in_channels='64', name='dense_1')"
      }
     },
     "0cabfd585d5d4421a05805698bc1c8ad": {
      "model_module": "@jupyter-widgets/controls",
      "model_module_version": "1.5.0",
      "model_name": "DescriptionStyleModel",
      "state": {
       "description_width": ""
      }
     },
     "0d95601931d94f8cac55349f5886038a": {
      "model_module": "@jupyter-widgets/base",
      "model_module_version": "1.2.0",
      "model_name": "LayoutModel",
      "state": {}
     },
     "0dc03ae5db46484a85272ce1899e53c0": {
      "model_module": "@jupyter-widgets/controls",
      "model_module_version": "1.5.0",
      "model_name": "VBoxModel",
      "state": {
       "children": [
        "IPY_MODEL_8ca1f8992583484a8a0ff2f7f46afee2",
        "IPY_MODEL_99ac959475eb4f75b586ed6599b99113",
        "IPY_MODEL_2ab7b4c8b49a4163b5521127d8329674",
        "IPY_MODEL_9689f9977c7f455282a9831bcd81905c"
       ],
       "layout": "IPY_MODEL_eb5fdb48aa1d483fa9acf05a229ef307"
      }
     },
     "0e74af77352a4b40b0f9e5163d92a836": {
      "model_module": "@jupyter-widgets/base",
      "model_module_version": "1.2.0",
      "model_name": "LayoutModel",
      "state": {
       "grid_area": "widget007"
      }
     },
     "0eb34e6e2b07401dae9a2bfa4f1d49df": {
      "model_module": "@jupyter-widgets/controls",
      "model_module_version": "1.5.0",
      "model_name": "LabelModel",
      "state": {
       "layout": "IPY_MODEL_47ed36f4da904759bb9adcf9f1f1685b",
       "style": "IPY_MODEL_7dc1333733194435934e6ca098ede1ad",
       "value": "False"
      }
     },
     "0ec6f6b7c7c84bb4b54e92db8342ce85": {
      "model_module": "@jupyter-widgets/controls",
      "model_module_version": "1.5.0",
      "model_name": "DropdownModel",
      "state": {
       "_options_labels": [
        "atari",
        "classic_control",
        "box2d",
        "mujoco",
        "robotics",
        "dm_control",
        "rlbench"
       ],
       "description": "env type:",
       "index": 1,
       "layout": "IPY_MODEL_bfdfc9d77a654743a9ebdfc08ab167da",
       "style": "IPY_MODEL_ce5b0166c393435a840819472b761b8c"
      }
     },
     "0fb529fd883648edb15d72a94813126e": {
      "model_module": "@jupyter-widgets/controls",
      "model_module_version": "1.5.0",
      "model_name": "VBoxModel",
      "state": {
       "children": [
        "IPY_MODEL_a01f34500cfc486289f3334e3cd222df",
        "IPY_MODEL_d6ddb43e654a421ead72beacfae7145e",
        "IPY_MODEL_b106f6f6a7f047a4a11ec9f9a23804e2"
       ],
       "layout": "IPY_MODEL_ffce2434eb114cd1a7f6961dd71ff755"
      }
     },
     "1022056a831a477e91366a9deda960de": {
      "model_module": "@jupyter-widgets/controls",
      "model_module_version": "1.5.0",
      "model_name": "LabelModel",
      "state": {
       "layout": "IPY_MODEL_ecc6da99cf7944f5a5a6cfd1f0516aa6",
       "style": "IPY_MODEL_ebff747fea3f4cf2abb9efcd9f998ddb",
       "value": "Dense(n_units=64, relu, in_channels='3', name='hidden_layer1')"
      }
     },
     "10685777c5384041b62b4ce3aa26bf6e": {
      "model_module": "@jupyter-widgets/controls",
      "model_module_version": "1.5.0",
      "model_name": "DescriptionStyleModel",
      "state": {
       "description_width": ""
      }
     },
     "10b2a84971164564ac50d9f53bd98579": {
      "model_module": "@jupyter-widgets/controls",
      "model_module_version": "1.5.0",
      "model_name": "DescriptionStyleModel",
      "state": {
       "description_width": ""
      }
     },
     "10d4f1af65b0492594efc926d9976e59": {
      "model_module": "@jupyter-widgets/controls",
      "model_module_version": "1.5.0",
      "model_name": "GridBoxModel",
      "state": {
       "children": [
        "IPY_MODEL_50ce374ed2fc4f2ebc2c156c16ba4f38",
        "IPY_MODEL_11337137fc3b4e19b06d48508495d2ce",
        "IPY_MODEL_fc6a2f4827034d64b99a15547f3d9f43",
        "IPY_MODEL_1846a28797b64a7a8266f33f497550d4",
        "IPY_MODEL_00ead8f3c1ea4020930b11c3bde3dd48",
        "IPY_MODEL_89ae5379ee8b4e2d92f116a018b9420e",
        "IPY_MODEL_d6a04d9b77b54ae89af21fa5551e205e",
        "IPY_MODEL_b42c755dec514e6fa26ca97f3f0ef923",
        "IPY_MODEL_d915d378018e4bd085cf4a0a935e2aaa",
        "IPY_MODEL_162bfef08113403d82be4e50b362acb9",
        "IPY_MODEL_30d87705b48648089aaa078817a89da2",
        "IPY_MODEL_bdb404863da84bdf870e550898f54848"
       ],
       "layout": "IPY_MODEL_81a50427a5384feeaaee374a19ad5931"
      }
     },
     "11337137fc3b4e19b06d48508495d2ce": {
      "model_module": "@jupyter-widgets/controls",
      "model_module_version": "1.5.0",
      "model_name": "RadioButtonsModel",
      "state": {
       "_options_labels": [
        "train",
        "test"
       ],
       "index": 0,
       "layout": "IPY_MODEL_da5694fd870b41e79f41ebc7d7b8db5e",
       "style": "IPY_MODEL_3a389cd3e9254722a3bef185d92c9ac4"
      }
     },
     "1202663af1bf4653bc967824c8574e1a": {
      "model_module": "@jupyter-widgets/controls",
      "model_module_version": "1.5.0",
      "model_name": "LabelModel",
      "state": {
       "layout": "IPY_MODEL_98f2c9b34e884cada9e2eedac93e1912",
       "style": "IPY_MODEL_67a79ba4cbf84418967857e237a5a1be",
       "value": "Environment name:"
      }
     },
     "1222c8a942134f83aa262d9b321ee413": {
      "model_module": "@jupyter-widgets/controls",
      "model_module_version": "1.5.0",
      "model_name": "DescriptionStyleModel",
      "state": {
       "description_width": ""
      }
     },
     "125f5c3fd35e49339e558a30a39a9f8a": {
      "model_module": "@jupyter-widgets/controls",
      "model_module_version": "1.5.0",
      "model_name": "LabelModel",
      "state": {
       "layout": "IPY_MODEL_fc83fd9df36b4c0fa6ee544fe520cde7",
       "style": "IPY_MODEL_3f7607f9884f482498bb28a91df5ab02",
       "value": "beta_1"
      }
     },
     "12a0f20f2ecd423889594f36b15647f1": {
      "model_module": "@jupyter-widgets/controls",
      "model_module_version": "1.5.0",
      "model_name": "SliderStyleModel",
      "state": {
       "description_width": ""
      }
     },
     "12e50eba7f3e4e9f888416f46172b60f": {
      "model_module": "@jupyter-widgets/base",
      "model_module_version": "1.2.0",
      "model_name": "LayoutModel",
      "state": {}
     },
     "145001c5826a41cd989997ea61244ca1": {
      "model_module": "@jupyter-widgets/base",
      "model_module_version": "1.2.0",
      "model_name": "LayoutModel",
      "state": {}
     },
     "14a01344ad1b48b3becfe74fa709a0c6": {
      "model_module": "@jupyter-widgets/controls",
      "model_module_version": "1.5.0",
      "model_name": "LabelModel",
      "state": {
       "layout": "IPY_MODEL_40848c8562dc485fa88be8cf89c7a5e2",
       "style": "IPY_MODEL_a7d8b17ff9fd43298bc30e0471ade94f",
       "value": "Input(shape=(None, 3), name='input_layer')"
      }
     },
     "1537ab75a9dd4f429ffb3812c485116f": {
      "model_module": "@jupyter-widgets/controls",
      "model_module_version": "1.5.0",
      "model_name": "GridBoxModel",
      "state": {
       "children": [
        "IPY_MODEL_0a179f0e33df4522b9286a546e181b60",
        "IPY_MODEL_91d86c9ddbfa4acdaf18e13d8adf3862",
        "IPY_MODEL_b4d945e45eae41ceb40de345939615ad",
        "IPY_MODEL_715b10d741354c8db506fb8ba945a074",
        "IPY_MODEL_b92bc4065ee4473aa6e1b4051e044dee",
        "IPY_MODEL_c2160078393b421d9f3a4343f37307e2",
        "IPY_MODEL_125f5c3fd35e49339e558a30a39a9f8a",
        "IPY_MODEL_04abdee05e514880bb74dfe64bca36ff",
        "IPY_MODEL_070bc781a91449c6a7fb227586d347e6",
        "IPY_MODEL_2bb83c7012914171b4b76d559b92034c",
        "IPY_MODEL_fa3877a284354fd08f33d320314b6765",
        "IPY_MODEL_5446746816dd4edf8dffb29995d15715",
        "IPY_MODEL_3755df840c214a33941879b316489adf",
        "IPY_MODEL_776cdbcecc004924a856eb45ec0a5699"
       ],
       "layout": "IPY_MODEL_4b5dc49fbc1743c8abe6cded3f9ed703"
      }
     },
     "159f94f25de5436aafa6fec3c88e3356": {
      "model_module": "@jupyter-widgets/controls",
      "model_module_version": "1.5.0",
      "model_name": "VBoxModel",
      "state": {
       "children": [
        "IPY_MODEL_0106cced0fe54fbb9a3a261b11941cce",
        "IPY_MODEL_cfb6b6bcedad4f61893206fb1eb28385"
       ],
       "layout": "IPY_MODEL_89880b2c3e03469da53b8a7e9e2e930b"
      }
     },
     "15ae64b32d794189a34bba91e2f7a15b": {
      "model_module": "@jupyter-widgets/controls",
      "model_module_version": "1.5.0",
      "model_name": "DescriptionStyleModel",
      "state": {
       "description_width": ""
      }
     },
     "162bfef08113403d82be4e50b362acb9": {
      "model_module": "@jupyter-widgets/controls",
      "model_module_version": "1.5.0",
      "model_name": "HBoxModel",
      "state": {
       "children": [
        "IPY_MODEL_474e0de897334eb69236cc05ae69f164",
        "IPY_MODEL_aafbebe0ec5b4425acf54f0ad9f6c80f"
       ],
       "layout": "IPY_MODEL_66bc7fd58a2743a0960e9dd5df378998"
      }
     },
     "167816e5912f4ea18d96b6e468d82ae7": {
      "model_module": "@jupyter-widgets/controls",
      "model_module_version": "1.5.0",
      "model_name": "DescriptionStyleModel",
      "state": {
       "description_width": ""
      }
     },
     "167de1c7956c4ede9fa6a584404bc568": {
      "model_module": "@jupyter-widgets/base",
      "model_module_version": "1.2.0",
      "model_name": "LayoutModel",
      "state": {}
     },
     "1764805129704afcb7c170e877b81788": {
      "model_module": "@jupyter-widgets/controls",
      "model_module_version": "1.5.0",
      "model_name": "HBoxModel",
      "state": {
       "children": [
        "IPY_MODEL_fe547223f16e423fa8493d4c6ae577ba",
        "IPY_MODEL_093fd11986764d78ad5dcf1429a496c9"
       ],
       "layout": "IPY_MODEL_2bea049f9ec74da0bcf2a7eeffce8720"
      }
     },
     "182107ee16aa4bfba497dd033e347d65": {
      "model_module": "@jupyter-widgets/controls",
      "model_module_version": "1.5.0",
      "model_name": "LabelModel",
      "state": {
       "layout": "IPY_MODEL_e6958eae462d43d8bdb9c6227deddcc7",
       "style": "IPY_MODEL_f9a9a8529629435f926e28c9e2ff6d21",
       "value": "Observation space:"
      }
     },
     "1826b147229c4a96b6603cc13978a090": {
      "model_module": "@jupyter-widgets/controls",
      "model_module_version": "1.5.0",
      "model_name": "DescriptionStyleModel",
      "state": {
       "description_width": ""
      }
     },
     "182c5797541f4476bb02c95a710f1bca": {
      "model_module": "@jupyter-widgets/base",
      "model_module_version": "1.2.0",
      "model_name": "LayoutModel",
      "state": {}
     },
     "1846a28797b64a7a8266f33f497550d4": {
      "model_module": "@jupyter-widgets/controls",
      "model_module_version": "1.5.0",
      "model_name": "CheckboxModel",
      "state": {
       "disabled": false,
       "indent": false,
       "layout": "IPY_MODEL_e8b87d816ccb409083b0c522ef0bd9dd",
       "style": "IPY_MODEL_167816e5912f4ea18d96b6e468d82ae7",
       "value": false
      }
     },
     "18470dca56a94ced8388c8eec402515f": {
      "model_module": "@jupyter-widgets/controls",
      "model_module_version": "1.5.0",
      "model_name": "GridBoxModel",
      "state": {
       "children": [
        "IPY_MODEL_294896e2ec5f413e9e23d9ec81e6bbbf",
        "IPY_MODEL_8c59866961674911b2157bded443e366",
        "IPY_MODEL_261d86e673814c6b9c6ed7b921861867",
        "IPY_MODEL_6d5b0a5b26874cfd874c4a0bdf307eff"
       ],
       "layout": "IPY_MODEL_b58381d8050044ee9df6c0857e3a06e4"
      }
     },
     "18a7121ba72e42af9a496a39fb8c6f6a": {
      "model_module": "@jupyter-widgets/controls",
      "model_module_version": "1.5.0",
      "model_name": "DescriptionStyleModel",
      "state": {
       "description_width": ""
      }
     },
     "18ea002dd43344a5864f8a8651ceeaeb": {
      "model_module": "@jupyter-widgets/base",
      "model_module_version": "1.2.0",
      "model_name": "LayoutModel",
      "state": {
       "grid_area": "widget007"
      }
     },
     "19b0d8173d9141e0a0db8d0b2110c98c": {
      "model_module": "@jupyter-widgets/base",
      "model_module_version": "1.2.0",
      "model_name": "LayoutModel",
      "state": {
       "grid_template_areas": "\"widget001 widget002\"\n\"widget003 widget004\"\n\"widget005 widget006\"\n\"widget007 widget008\"\n\"widget009 widget010\"\n\"widget011 widget012\"",
       "grid_template_columns": "repeat(2, 1fr)",
       "grid_template_rows": "repeat(6, 1fr)"
      }
     },
     "1a3aa6da2cad4cfd9696b32125ab645b": {
      "model_module": "@jupyter-widgets/controls",
      "model_module_version": "1.5.0",
      "model_name": "DescriptionStyleModel",
      "state": {
       "description_width": ""
      }
     },
     "1adbcde168d04bcdaed1c410feae74ac": {
      "model_module": "@jupyter-widgets/base",
      "model_module_version": "1.2.0",
      "model_name": "LayoutModel",
      "state": {}
     },
     "1b48b0f90cef4077aa20b9ee8be52e9b": {
      "model_module": "@jupyter-widgets/base",
      "model_module_version": "1.2.0",
      "model_name": "LayoutModel",
      "state": {
       "grid_area": "widget002"
      }
     },
     "1c09f9523eb2469ab864ddcd5f15f417": {
      "model_module": "@jupyter-widgets/base",
      "model_module_version": "1.2.0",
      "model_name": "LayoutModel",
      "state": {}
     },
     "1c75d4a07143476588ce4826116ea8ee": {
      "model_module": "@jupyter-widgets/base",
      "model_module_version": "1.2.0",
      "model_name": "LayoutModel",
      "state": {}
     },
     "1cb1d8e98bef410e85502ad2edb46c45": {
      "model_module": "@jupyter-widgets/base",
      "model_module_version": "1.2.0",
      "model_name": "LayoutModel",
      "state": {
       "grid_template_areas": "\"widget001 widget002\"\n\"widget003 widget004\"",
       "grid_template_columns": "repeat(2, 1fr)",
       "grid_template_rows": "repeat(2, 1fr)"
      }
     },
     "1cb88e139a0642afb2f3c958dff539aa": {
      "model_module": "@jupyter-widgets/controls",
      "model_module_version": "1.5.0",
      "model_name": "LabelModel",
      "state": {
       "layout": "IPY_MODEL_9705108e9dd540fa8e02c1933e03eadd",
       "style": "IPY_MODEL_2126fce329534e2b98f039a35e99344a",
       "value": "Dense(n_units=64, relu, in_channels='3', name='hidden_layer1')"
      }
     },
     "1d03aaf95d45497ca74e337a82632cee": {
      "model_module": "@jupyter-widgets/controls",
      "model_module_version": "1.5.0",
      "model_name": "LabelModel",
      "state": {
       "layout": "IPY_MODEL_2ee89b46bdc146f9b9f4f48f5874a349",
       "style": "IPY_MODEL_e0a1f12f4f0e4e31adc281b1fe6dee11",
       "value": "0.9"
      }
     },
     "1db128fafd984258b040b5295b477f0d": {
      "model_module": "@jupyter-widgets/base",
      "model_module_version": "1.2.0",
      "model_name": "LayoutModel",
      "state": {}
     },
     "1dbbcf0744194117b3463d5ae8af00ef": {
      "model_module": "@jupyter-widgets/controls",
      "model_module_version": "1.5.0",
      "model_name": "DescriptionStyleModel",
      "state": {
       "description_width": ""
      }
     },
     "1e197bc7d05a4518969ee7d3f97f211c": {
      "model_module": "@jupyter-widgets/base",
      "model_module_version": "1.2.0",
      "model_name": "LayoutModel",
      "state": {}
     },
     "1e327c8e4b844c2fbb017a5544fa678e": {
      "model_module": "@jupyter-widgets/base",
      "model_module_version": "1.2.0",
      "model_name": "LayoutModel",
      "state": {
       "grid_area": "widget004"
      }
     },
     "1e6d0c80ceaa4e58846e9f554371b363": {
      "model_module": "@jupyter-widgets/controls",
      "model_module_version": "1.5.0",
      "model_name": "DescriptionStyleModel",
      "state": {
       "description_width": ""
      }
     },
     "1eec2203d3bf49c2876604c21291cc18": {
      "model_module": "@jupyter-widgets/controls",
      "model_module_version": "1.5.0",
      "model_name": "LabelModel",
      "state": {
       "layout": "IPY_MODEL_d20f2266d6fc44df988c78b63b202a81",
       "style": "IPY_MODEL_5228a7a8160f421f846e2d7d06c9d159",
       "value": "1e-07"
      }
     },
     "1ef9aa26484548e99e94bb3d8aae3cce": {
      "model_module": "@jupyter-widgets/controls",
      "model_module_version": "1.5.0",
      "model_name": "LabelModel",
      "state": {
       "layout": "IPY_MODEL_5ac9e6a121a3488ea93f85f5589429a0",
       "style": "IPY_MODEL_698f9329e3754e7482dc32690ba58f4a",
       "value": "Environment settings"
      }
     },
     "1f0e424278554da08fbb15138e571a62": {
      "model_module": "@jupyter-widgets/controls",
      "model_module_version": "1.5.0",
      "model_name": "DescriptionStyleModel",
      "state": {
       "description_width": ""
      }
     },
     "1f37fdacb85646a1b5ff9a2b1d6ab38a": {
      "model_module": "@jupyter-widgets/base",
      "model_module_version": "1.2.0",
      "model_name": "LayoutModel",
      "state": {}
     },
     "2126fce329534e2b98f039a35e99344a": {
      "model_module": "@jupyter-widgets/controls",
      "model_module_version": "1.5.0",
      "model_name": "DescriptionStyleModel",
      "state": {
       "description_width": ""
      }
     },
     "214c87e57eb641bb89644c9f465889ca": {
      "model_module": "@jupyter-widgets/base",
      "model_module_version": "1.2.0",
      "model_name": "LayoutModel",
      "state": {
       "grid_area": "widget007"
      }
     },
     "2205db5769754bf0948d81dde160eab4": {
      "model_module": "@jupyter-widgets/controls",
      "model_module_version": "1.5.0",
      "model_name": "DescriptionStyleModel",
      "state": {
       "description_width": ""
      }
     },
     "22126658c9d54cfab48b63029798c705": {
      "model_module": "@jupyter-widgets/controls",
      "model_module_version": "1.5.0",
      "model_name": "SliderStyleModel",
      "state": {
       "description_width": ""
      }
     },
     "223fd915d3a5472aabdde3b5dd47a5f1": {
      "model_module": "@jupyter-widgets/base",
      "model_module_version": "1.2.0",
      "model_name": "LayoutModel",
      "state": {}
     },
     "22ff0e7129b04334b71044d77e3c9298": {
      "model_module": "@jupyter-widgets/controls",
      "model_module_version": "1.5.0",
      "model_name": "BoxModel",
      "state": {
       "children": [
        "IPY_MODEL_eef437964b4e4fa29ea42afc6b9a69ce"
       ],
       "layout": "IPY_MODEL_759c11789beb46f798f3b48c4cf88577"
      }
     },
     "23424247d797485dba0788eb6b7614aa": {
      "model_module": "@jupyter-widgets/controls",
      "model_module_version": "1.5.0",
      "model_name": "DescriptionStyleModel",
      "state": {
       "description_width": ""
      }
     },
     "235af533ab1c41a6b82350c6f3a88426": {
      "model_module": "@jupyter-widgets/base",
      "model_module_version": "1.2.0",
      "model_name": "LayoutModel",
      "state": {
       "grid_area": "widget010"
      }
     },
     "23d66d78336541bf8b3f863dc3e554d4": {
      "model_module": "@jupyter-widgets/base",
      "model_module_version": "1.2.0",
      "model_name": "LayoutModel",
      "state": {
       "border": "1px solid black",
       "height": "300px",
       "overflow": "scroll",
       "width": "60%"
      }
     },
     "24f450d31f2d47a68aa2c58be28170fb": {
      "model_module": "@jupyter-widgets/controls",
      "model_module_version": "1.5.0",
      "model_name": "LabelModel",
      "state": {
       "layout": "IPY_MODEL_09eb8f946d00416dace2ee661ad55fbd",
       "style": "IPY_MODEL_f8a20f2f4b8b4c03857bcd85bf96b136",
       "value": "name"
      }
     },
     "254576dd293543d384c9e5620c3db225": {
      "model_module": "@jupyter-widgets/base",
      "model_module_version": "1.2.0",
      "model_name": "LayoutModel",
      "state": {
       "grid_area": "widget005"
      }
     },
     "26036b1a064245a6a1cef60ec7d39376": {
      "model_module": "@jupyter-widgets/controls",
      "model_module_version": "1.5.0",
      "model_name": "VBoxModel",
      "state": {
       "children": [
        "IPY_MODEL_b18ac7a05b7c4d58813a3e735173a3ca",
        "IPY_MODEL_0ec6f6b7c7c84bb4b54e92db8342ce85",
        "IPY_MODEL_467644544d33439284f04fe2a9883182"
       ],
       "layout": "IPY_MODEL_f9b983bef3a14087b6d1f966b8b041ed"
      }
     },
     "261d86e673814c6b9c6ed7b921861867": {
      "model_module": "@jupyter-widgets/controls",
      "model_module_version": "1.5.0",
      "model_name": "LabelModel",
      "state": {
       "layout": "IPY_MODEL_e9794b57be6c4c0e981a017d3fa82a36",
       "style": "IPY_MODEL_946c2a2e7e8f4e36b0311e922520272f",
       "value": "Optimizer information:"
      }
     },
     "266e10703ed340a78b259c7d3ddc8836": {
      "model_module": "@jupyter-widgets/controls",
      "model_module_version": "1.5.0",
      "model_name": "HTMLModel",
      "state": {
       "layout": "IPY_MODEL_6d6739242111448eaf1e80a8962f1aac",
       "style": "IPY_MODEL_bf620c54949846b49135585c61101b19",
       "value": "<font size=4><B>Environment Information</B>"
      }
     },
     "26c0e699dae643b58817819a3d134e6f": {
      "model_module": "@jupyter-widgets/controls",
      "model_module_version": "1.5.0",
      "model_name": "VBoxModel",
      "state": {
       "children": [
        "IPY_MODEL_f29a7f4ff2a74bbf8d6485cbfb086152",
        "IPY_MODEL_bb5d38052b40427585a8ec928bdef7b5"
       ],
       "layout": "IPY_MODEL_d02f0cd6f8f94156ac86605286a6ee78"
      }
     },
     "27fbf57b093b4444b8990601eaddca26": {
      "model_module": "@jupyter-widgets/controls",
      "model_module_version": "1.5.0",
      "model_name": "GridBoxModel",
      "state": {
       "children": [
        "IPY_MODEL_01cece59d650454b9cf09d03e85a6a10",
        "IPY_MODEL_e09e0ff65ebf454b80a965aaa0f61d32",
        "IPY_MODEL_83c18b3b4c374f70947e47230ffe4f82",
        "IPY_MODEL_06d5c4249f3d404793fe2defc8eb0051"
       ],
       "layout": "IPY_MODEL_ff06931e66b544389c8f409734b472e3"
      }
     },
     "283080f17fcf4286b2e6e059bcda3370": {
      "model_module": "@jupyter-widgets/controls",
      "model_module_version": "1.5.0",
      "model_name": "LabelModel",
      "state": {
       "layout": "IPY_MODEL_4b23820dcff647a6ad204c7c4a596248",
       "style": "IPY_MODEL_1826b147229c4a96b6603cc13978a090",
       "value": "mode"
      }
     },
     "28ad6172b7f34ba9923847d24dd555b3": {
      "model_module": "@jupyter-widgets/base",
      "model_module_version": "1.2.0",
      "model_name": "LayoutModel",
      "state": {}
     },
     "294896e2ec5f413e9e23d9ec81e6bbbf": {
      "model_module": "@jupyter-widgets/controls",
      "model_module_version": "1.5.0",
      "model_name": "LabelModel",
      "state": {
       "layout": "IPY_MODEL_98824ad5eda8475394e9fb13819502a9",
       "style": "IPY_MODEL_79953b3e59c048548c96bb197d46a7ea",
       "value": "Network information:"
      }
     },
     "2982ccca674f4bfc839557e06cde9993": {
      "model_module": "@jupyter-widgets/controls",
      "model_module_version": "1.5.0",
      "model_name": "VBoxModel",
      "state": {
       "children": [
        "IPY_MODEL_14a01344ad1b48b3becfe74fa709a0c6",
        "IPY_MODEL_1022056a831a477e91366a9deda960de",
        "IPY_MODEL_814eef7fa97a4fa2b4c5f1ed1b3728f3",
        "IPY_MODEL_0c64eb2046714b6c885261124bcb09f8"
       ],
       "layout": "IPY_MODEL_223fd915d3a5472aabdde3b5dd47a5f1"
      }
     },
     "298f572cd2ec4a9ca5a6feafaf334040": {
      "model_module": "@jupyter-widgets/base",
      "model_module_version": "1.2.0",
      "model_name": "LayoutModel",
      "state": {
       "grid_area": "widget002"
      }
     },
     "29a207365d934cc4a402ed72a19194ca": {
      "model_module": "@jupyter-widgets/base",
      "model_module_version": "1.2.0",
      "model_name": "LayoutModel",
      "state": {
       "border": "solid"
      }
     },
     "2a9fb576ef6145abaf95398bf620cd8d": {
      "model_module": "@jupyter-widgets/base",
      "model_module_version": "1.2.0",
      "model_name": "LayoutModel",
      "state": {
       "align_items": "stretch",
       "display": "flex",
       "grid_area": "widget010",
       "justify_content": "center"
      }
     },
     "2ab7b4c8b49a4163b5521127d8329674": {
      "model_module": "@jupyter-widgets/controls",
      "model_module_version": "1.5.0",
      "model_name": "LabelModel",
      "state": {
       "layout": "IPY_MODEL_7d70e416e925499f93e5837aabc6afc2",
       "style": "IPY_MODEL_69268529fca5425e9f11506c968490e7",
       "value": "Dense(n_units=64, relu, in_channels='64', name='hidden_layer2')"
      }
     },
     "2b0d8567d4aa4e53a5837284b315cc58": {
      "model_module": "@jupyter-widgets/controls",
      "model_module_version": "1.5.0",
      "model_name": "SliderStyleModel",
      "state": {
       "description_width": ""
      }
     },
     "2bb83c7012914171b4b76d559b92034c": {
      "model_module": "@jupyter-widgets/controls",
      "model_module_version": "1.5.0",
      "model_name": "LabelModel",
      "state": {
       "layout": "IPY_MODEL_235af533ab1c41a6b82350c6f3a88426",
       "style": "IPY_MODEL_75c167ca66774581880b2500d5176a36",
       "value": "0.999"
      }
     },
     "2bea049f9ec74da0bcf2a7eeffce8720": {
      "model_module": "@jupyter-widgets/base",
      "model_module_version": "1.2.0",
      "model_name": "LayoutModel",
      "state": {}
     },
     "2c0353597c114ba184977dac607510c3": {
      "model_module": "@jupyter-widgets/base",
      "model_module_version": "1.2.0",
      "model_name": "LayoutModel",
      "state": {
       "grid_area": "widget006"
      }
     },
     "2c48650276864e79a7b82413ddd8c6fa": {
      "model_module": "@jupyter-widgets/controls",
      "model_module_version": "1.5.0",
      "model_name": "LabelModel",
      "state": {
       "layout": "IPY_MODEL_d34c7789bb974de1a36ef3cc45737b52",
       "style": "IPY_MODEL_626ae439ee1f4ce4895764fb66f9c6d3",
       "value": "0.999"
      }
     },
     "2c9a721e0f084f8f8f437a5d4d875e3f": {
      "model_module": "@jupyter-widgets/controls",
      "model_module_version": "1.5.0",
      "model_name": "DescriptionStyleModel",
      "state": {
       "description_width": ""
      }
     },
     "2d1f0d1b81ee4e1f85ae2f777dcd0db9": {
      "model_module": "@jupyter-widgets/controls",
      "model_module_version": "1.5.0",
      "model_name": "DescriptionStyleModel",
      "state": {
       "description_width": ""
      }
     },
     "2da2537f2e444e16ad634693e684af58": {
      "model_module": "@jupyter-widgets/controls",
      "model_module_version": "1.5.0",
      "model_name": "BoxModel",
      "state": {
       "children": [
        "IPY_MODEL_e4665eee9731436a839eaebea246f048"
       ],
       "layout": "IPY_MODEL_e944a76d793541058cf5f32563847fb3"
      }
     },
     "2dab24721ba34bd789afa55d1479464b": {
      "model_module": "@jupyter-widgets/base",
      "model_module_version": "1.2.0",
      "model_name": "LayoutModel",
      "state": {}
     },
     "2dece16eb4994e5082a1cbeeea4163d0": {
      "model_module": "@jupyter-widgets/base",
      "model_module_version": "1.2.0",
      "model_name": "LayoutModel",
      "state": {
       "grid_area": "widget002"
      }
     },
     "2e65a763e5db40ca8969c36950c0d9bd": {
      "model_module": "@jupyter-widgets/controls",
      "model_module_version": "1.5.0",
      "model_name": "LabelModel",
      "state": {
       "layout": "IPY_MODEL_1c75d4a07143476588ce4826116ea8ee",
       "style": "IPY_MODEL_15ae64b32d794189a34bba91e2f7a15b",
       "value": "Supported algorithms are shown below"
      }
     },
     "2e6e71650a6a48878fce055c8e563538": {
      "model_module": "@jupyter-widgets/controls",
      "model_module_version": "1.5.0",
      "model_name": "LabelModel",
      "state": {
       "layout": "IPY_MODEL_f1985e262a7d401ea97c903091713789",
       "style": "IPY_MODEL_2205db5769754bf0948d81dde160eab4",
       "value": "Dense(n_units=64, relu, in_channels='64', name='hidden_layer2')"
      }
     },
     "2e8b3025623248e2a92daa5a7750997f": {
      "model_module": "@jupyter-widgets/base",
      "model_module_version": "1.2.0",
      "model_name": "LayoutModel",
      "state": {}
     },
     "2ece943ff83c48e8b69e0b2396b6064c": {
      "model_module": "@jupyter-widgets/controls",
      "model_module_version": "1.5.0",
      "model_name": "LabelModel",
      "state": {
       "layout": "IPY_MODEL_aeecfc3325ec482ebd31ced3fc2e6839",
       "style": "IPY_MODEL_b979276c5b584ebab1400eea707b2c39",
       "value": "Pendulum-v0"
      }
     },
     "2ee89b46bdc146f9b9f4f48f5874a349": {
      "model_module": "@jupyter-widgets/base",
      "model_module_version": "1.2.0",
      "model_name": "LayoutModel",
      "state": {
       "grid_area": "widget008"
      }
     },
     "2f93a27048a44beda22771c8249fba0d": {
      "model_module": "@jupyter-widgets/base",
      "model_module_version": "1.2.0",
      "model_name": "LayoutModel",
      "state": {
       "border": "dotted",
       "grid_template_areas": "\"widget001 widget002\"\n\"widget003 widget004\"\n\"widget005 widget006\"\n\"widget007 widget008\"\n\"widget009 widget010\"\n\"widget011 widget012\"\n\"widget013 widget014\"",
       "grid_template_columns": "repeat(2, 1fr)",
       "grid_template_rows": "repeat(7, 1fr)"
      }
     },
     "3025ff51115247eebfcfe7e2a18e414e": {
      "model_module": "@jupyter-widgets/base",
      "model_module_version": "1.2.0",
      "model_name": "LayoutModel",
      "state": {
       "grid_area": "widget004"
      }
     },
     "3044da8a1f89485398f1ea9d4965bc55": {
      "model_module": "@jupyter-widgets/base",
      "model_module_version": "1.2.0",
      "model_name": "LayoutModel",
      "state": {
       "align_items": "stretch",
       "display": "flex",
       "grid_area": "widget006",
       "justify_content": "center"
      }
     },
     "304f4dcdb42b4bca91451ccfe7eba639": {
      "model_module": "@jupyter-widgets/controls",
      "model_module_version": "1.5.0",
      "model_name": "DescriptionStyleModel",
      "state": {
       "description_width": ""
      }
     },
     "30d87705b48648089aaa078817a89da2": {
      "model_module": "@jupyter-widgets/controls",
      "model_module_version": "1.5.0",
      "model_name": "LabelModel",
      "state": {
       "layout": "IPY_MODEL_c3c09aa3ecea45eda2b142c857c5d7c5",
       "style": "IPY_MODEL_e3adb676dd9b48a6bd4e895ac644b653",
       "value": "train_episodes"
      }
     },
     "31276a604cf14bcd82297907c46c17f8": {
      "model_module": "@jupyter-widgets/controls",
      "model_module_version": "1.5.0",
      "model_name": "FloatSliderModel",
      "state": {
       "continuous_update": false,
       "description": "Slider input:",
       "layout": "IPY_MODEL_a899edcecbcf49d1a1f57b48bed97865",
       "max": 400,
       "readout_format": ".0f",
       "style": "IPY_MODEL_4711e3b757ae4ba08ece2d994aa46c2a",
       "value": 200
      }
     },
     "31f3ea5f445a4342b1a4db664f61eb93": {
      "model_module": "@jupyter-widgets/controls",
      "model_module_version": "1.5.0",
      "model_name": "DescriptionStyleModel",
      "state": {
       "description_width": ""
      }
     },
     "31fe17808d8e4f7ead5964af2e4f5894": {
      "model_module": "@jupyter-widgets/base",
      "model_module_version": "1.2.0",
      "model_name": "LayoutModel",
      "state": {
       "border": "dotted",
       "grid_template_areas": "\"widget001 widget002\"\n\"widget003 widget004\"\n\"widget005 widget006\"\n\"widget007 widget008\"\n\"widget009 widget010\"\n\"widget011 widget012\"\n\"widget013 widget014\"",
       "grid_template_columns": "repeat(2, 1fr)",
       "grid_template_rows": "repeat(7, 1fr)"
      }
     },
     "329f804132904f47a73d10b3ccba4b4d": {
      "model_module": "@jupyter-widgets/controls",
      "model_module_version": "1.5.0",
      "model_name": "DropdownModel",
      "state": {
       "_options_labels": [
        "atari",
        "classic_control",
        "box2d",
        "mujoco",
        "robotics",
        "dm_control",
        "rlbench"
       ],
       "description": "env type:",
       "index": 1,
       "layout": "IPY_MODEL_8ae2c037e98f420486a61a8570daf106",
       "style": "IPY_MODEL_df84370f89e949518569f900854e2510"
      }
     },
     "334d1a726d2347db82e42df5760618b3": {
      "model_module": "@jupyter-widgets/controls",
      "model_module_version": "1.5.0",
      "model_name": "CheckboxModel",
      "state": {
       "disabled": false,
       "indent": false,
       "layout": "IPY_MODEL_c3d17e5a575344968f8b84a174b26ba9",
       "style": "IPY_MODEL_31f3ea5f445a4342b1a4db664f61eb93",
       "value": false
      }
     },
     "33ecf71f75a649a285ea6a8211b5acbd": {
      "model_module": "@jupyter-widgets/base",
      "model_module_version": "1.2.0",
      "model_name": "LayoutModel",
      "state": {}
     },
     "3488ba4c7374447794395c4c315a1193": {
      "model_module": "@jupyter-widgets/controls",
      "model_module_version": "1.5.0",
      "model_name": "DescriptionStyleModel",
      "state": {
       "description_width": ""
      }
     },
     "351ae05c16d040dab9a578c06a78858c": {
      "model_module": "@jupyter-widgets/controls",
      "model_module_version": "1.5.0",
      "model_name": "DescriptionStyleModel",
      "state": {
       "description_width": ""
      }
     },
     "35525c0fbffa497eb43f7d5bd081bb0b": {
      "model_module": "@jupyter-widgets/controls",
      "model_module_version": "1.5.0",
      "model_name": "SliderStyleModel",
      "state": {
       "description_width": "initial"
      }
     },
     "3556d6d1fe0c4e558b21b70b8c7b9395": {
      "model_module": "@jupyter-widgets/base",
      "model_module_version": "1.2.0",
      "model_name": "LayoutModel",
      "state": {
       "grid_area": "widget003"
      }
     },
     "3755df840c214a33941879b316489adf": {
      "model_module": "@jupyter-widgets/controls",
      "model_module_version": "1.5.0",
      "model_name": "LabelModel",
      "state": {
       "layout": "IPY_MODEL_e835260b70924edd959ac38cbdaa50d3",
       "style": "IPY_MODEL_7aa2babe24dc4fab84bfbd511f0b5e98",
       "value": "epsilon"
      }
     },
     "379d32750a8c4e88b3b6a8d76c3ee91b": {
      "model_module": "@jupyter-widgets/base",
      "model_module_version": "1.2.0",
      "model_name": "LayoutModel",
      "state": {
       "grid_area": "widget012"
      }
     },
     "383cf0cb101341d4bdfb65604a24a4d5": {
      "model_module": "@jupyter-widgets/base",
      "model_module_version": "1.2.0",
      "model_name": "LayoutModel",
      "state": {
       "grid_area": "widget003"
      }
     },
     "38484ea61c3449a1b809d8526ead582d": {
      "model_module": "@jupyter-widgets/base",
      "model_module_version": "1.2.0",
      "model_name": "LayoutModel",
      "state": {
       "grid_area": "widget006"
      }
     },
     "389174ab87e24a48a23ad5f81a32da61": {
      "model_module": "@jupyter-widgets/controls",
      "model_module_version": "1.5.0",
      "model_name": "LabelModel",
      "state": {
       "layout": "IPY_MODEL_d2ba7f491ec94768be174bba323aff6d",
       "style": "IPY_MODEL_a32e41356969452abe56558608109dc8",
       "value": "test_episodes"
      }
     },
     "38f46c0b84c84233a228758c9b306a79": {
      "model_module": "@jupyter-widgets/controls",
      "model_module_version": "1.5.0",
      "model_name": "DescriptionStyleModel",
      "state": {
       "description_width": ""
      }
     },
     "3909591203bd4321b62ed4e0aa575a3e": {
      "model_module": "@jupyter-widgets/controls",
      "model_module_version": "1.5.0",
      "model_name": "VBoxModel",
      "state": {
       "children": [
        "IPY_MODEL_a2bb633318304f79a811eb07e18da7f5",
        "IPY_MODEL_4ab1ce52edf54c879f2ee002e94c98f1",
        "IPY_MODEL_159f94f25de5436aafa6fec3c88e3356",
        "IPY_MODEL_4ab1ce52edf54c879f2ee002e94c98f1",
        "IPY_MODEL_88b977df9d82476298ff3c70d714afe0"
       ],
       "layout": "IPY_MODEL_886c73a1052a4a2da9ec06c958855a51"
      }
     },
     "39219af0b9a34c03a11682fdbaf85b04": {
      "model_module": "@jupyter-widgets/controls",
      "model_module_version": "1.5.0",
      "model_name": "VBoxModel",
      "state": {
       "children": [
        "IPY_MODEL_e9d6d91ceda64a63b9fe358e90337820",
        "IPY_MODEL_9694a75a41e543a3b2642aee3572857d"
       ],
       "layout": "IPY_MODEL_ed746bfae28741e9ae1d450dd1394423"
      }
     },
     "39c394badc7246fdb12032649f71a1b6": {
      "model_module": "@jupyter-widgets/base",
      "model_module_version": "1.2.0",
      "model_name": "LayoutModel",
      "state": {
       "grid_area": "widget003"
      }
     },
     "3a389cd3e9254722a3bef185d92c9ac4": {
      "model_module": "@jupyter-widgets/controls",
      "model_module_version": "1.5.0",
      "model_name": "DescriptionStyleModel",
      "state": {
       "description_width": ""
      }
     },
     "3a3916bde1e849aeae0e2701258ddc34": {
      "model_module": "@jupyter-widgets/controls",
      "model_module_version": "1.5.0",
      "model_name": "LabelModel",
      "state": {
       "layout": "IPY_MODEL_fc20a5f1e967425c840960c1948f00c8",
       "style": "IPY_MODEL_c75a9640bb26465785ca214520007519",
       "value": "train_episodes"
      }
     },
     "3a96e3ae233940e18c75f004da9e0459": {
      "model_module": "@jupyter-widgets/controls",
      "model_module_version": "1.5.0",
      "model_name": "LabelModel",
      "state": {
       "layout": "IPY_MODEL_bf7a578fb6204ce694235598a0f00ea2",
       "style": "IPY_MODEL_f2612900bd944258af3be77cacc7a46b",
       "value": "name"
      }
     },
     "3b0358464a32494ea410b866646b79b1": {
      "model_module": "@jupyter-widgets/controls",
      "model_module_version": "1.5.0",
      "model_name": "LabelModel",
      "state": {
       "layout": "IPY_MODEL_dd51349042bc4341b061da02df9f8be2",
       "style": "IPY_MODEL_63c30e87411c45dd8d58dfa485850fc2",
       "value": "learning_rate"
      }
     },
     "3c695e15ebbd4ecfb555b0fe5221ad10": {
      "model_module": "@jupyter-widgets/controls",
      "model_module_version": "1.5.0",
      "model_name": "LabelModel",
      "state": {
       "layout": "IPY_MODEL_9a247aedcd64492d9b4ddf9d76c13062",
       "style": "IPY_MODEL_96fc368f69794e5baa9433c3a31b1ec1",
       "value": "amsgrad"
      }
     },
     "3c77984eb49f4b3fbf5b78b313af8071": {
      "model_module": "@jupyter-widgets/base",
      "model_module_version": "1.2.0",
      "model_name": "LayoutModel",
      "state": {
       "grid_area": "widget013"
      }
     },
     "3cfd11894b514078901081bddd35c83d": {
      "model_module": "@jupyter-widgets/controls",
      "model_module_version": "1.5.0",
      "model_name": "DescriptionStyleModel",
      "state": {
       "description_width": ""
      }
     },
     "3d9166fc4fcf43f3b930ebc7f996a5bf": {
      "model_module": "@jupyter-widgets/controls",
      "model_module_version": "1.5.0",
      "model_name": "DescriptionStyleModel",
      "state": {
       "description_width": ""
      }
     },
     "3e9c9dcc814b47f8b2b392074c83d853": {
      "model_module": "@jupyter-widgets/base",
      "model_module_version": "1.2.0",
      "model_name": "LayoutModel",
      "state": {
       "grid_template_areas": "\n                                               \"a00 a01\"\n                                               \"a10 a11\"\n                                               \"a20 a21\"\n                                               \"t0 t1\"\n                                               "
      }
     },
     "3f7607f9884f482498bb28a91df5ab02": {
      "model_module": "@jupyter-widgets/controls",
      "model_module_version": "1.5.0",
      "model_name": "DescriptionStyleModel",
      "state": {
       "description_width": ""
      }
     },
     "40747ee3248e4cbca2b22e3201e7ae52": {
      "model_module": "@jupyter-widgets/base",
      "model_module_version": "1.2.0",
      "model_name": "LayoutModel",
      "state": {}
     },
     "4080aa3475b94001b5324fd14d18816c": {
      "model_module": "@jupyter-widgets/controls",
      "model_module_version": "1.5.0",
      "model_name": "SliderStyleModel",
      "state": {
       "description_width": "initial"
      }
     },
     "40848c8562dc485fa88be8cf89c7a5e2": {
      "model_module": "@jupyter-widgets/base",
      "model_module_version": "1.2.0",
      "model_name": "LayoutModel",
      "state": {}
     },
     "40c1e5560977460b86028ca09ee94662": {
      "model_module": "@jupyter-widgets/base",
      "model_module_version": "1.2.0",
      "model_name": "LayoutModel",
      "state": {
       "grid_area": "widget005"
      }
     },
     "4112e1653afc41a795418fc54377af6c": {
      "model_module": "@jupyter-widgets/controls",
      "model_module_version": "1.5.0",
      "model_name": "HTMLModel",
      "state": {
       "layout": "IPY_MODEL_808fb0e5d6b940388d588196c927564d",
       "style": "IPY_MODEL_9b276e72efa44a7e911ee209d08859b6",
       "value": "<font size=4><B>Learn Parameters</B>"
      }
     },
     "413fd706b68148a099ed9af1a952ec6d": {
      "model_module": "@jupyter-widgets/base",
      "model_module_version": "1.2.0",
      "model_name": "LayoutModel",
      "state": {}
     },
     "41425cf814dc44c49ac901aeec4c668f": {
      "model_module": "@jupyter-widgets/base",
      "model_module_version": "1.2.0",
      "model_name": "LayoutModel",
      "state": {}
     },
     "420cda5d7fd34a05b48fa845558987c4": {
      "model_module": "@jupyter-widgets/controls",
      "model_module_version": "1.5.0",
      "model_name": "FloatTextModel",
      "state": {
       "description": "Manual input:",
       "layout": "IPY_MODEL_cfc4c351d9da4a2bbe36bb1288f74e82",
       "step": null,
       "style": "IPY_MODEL_9b5f3fd4ebd341ac91227f9ded9fab19",
       "value": 200
      }
     },
     "42f8297b00d240308e7403a004a1c6b4": {
      "model_module": "@jupyter-widgets/base",
      "model_module_version": "1.2.0",
      "model_name": "LayoutModel",
      "state": {
       "grid_area": "widget003"
      }
     },
     "432a3a690b36409192aa3ee4dd5fedf8": {
      "model_module": "@jupyter-widgets/controls",
      "model_module_version": "1.5.0",
      "model_name": "FloatSliderModel",
      "state": {
       "continuous_update": false,
       "description": "Slider input:",
       "layout": "IPY_MODEL_45b014170b1e4c6b8efc9d245b587b48",
       "max": 1.8,
       "readout_format": ".1f",
       "step": 0.1,
       "style": "IPY_MODEL_4c528854314c4df18a84eafa4f1a7404",
       "value": 0.9
      }
     },
     "434eec441fb94a30bcb70bec50c60d78": {
      "model_module": "@jupyter-widgets/controls",
      "model_module_version": "1.5.0",
      "model_name": "VBoxModel",
      "state": {
       "children": [
        "IPY_MODEL_681fa50d92ed4da0afda87805d2383ca",
        "IPY_MODEL_18470dca56a94ced8388c8eec402515f",
        "IPY_MODEL_da5536ed85464ee5a97c44660b985348"
       ],
       "layout": "IPY_MODEL_74dc8e60490943c8b9601232bf24f608"
      }
     },
     "43730220bf8e489cae588fcf375d08cf": {
      "model_module": "@jupyter-widgets/controls",
      "model_module_version": "1.5.0",
      "model_name": "HBoxModel",
      "state": {
       "children": [
        "IPY_MODEL_31276a604cf14bcd82297907c46c17f8",
        "IPY_MODEL_420cda5d7fd34a05b48fa845558987c4"
       ],
       "layout": "IPY_MODEL_ddba268ea0db428898643ae0f9a259a3"
      }
     },
     "43ca75c41e054155b5ad51e493b3b990": {
      "model_module": "@jupyter-widgets/controls",
      "model_module_version": "1.5.0",
      "model_name": "LabelModel",
      "state": {
       "layout": "IPY_MODEL_e53d3b32848c4872a5e1254a2ed080f1",
       "style": "IPY_MODEL_e467ed3285684035a013df63ebb6b422",
       "value": "Tips:"
      }
     },
     "43f9446733e242f1977bbe394ddc479b": {
      "model_module": "@jupyter-widgets/base",
      "model_module_version": "1.2.0",
      "model_name": "LayoutModel",
      "state": {}
     },
     "452324b6d7cc4cf28d456787efc23b8f": {
      "model_module": "@jupyter-widgets/base",
      "model_module_version": "1.2.0",
      "model_name": "LayoutModel",
      "state": {}
     },
     "454021a337164bae8a96f5a5a7749b78": {
      "model_module": "@jupyter-widgets/controls",
      "model_module_version": "1.5.0",
      "model_name": "DescriptionStyleModel",
      "state": {
       "description_width": ""
      }
     },
     "454f999c2ca44e7b86263594806f6191": {
      "model_module": "@jupyter-widgets/controls",
      "model_module_version": "1.5.0",
      "model_name": "DescriptionStyleModel",
      "state": {
       "description_width": ""
      }
     },
     "455c6fed537d48b188edef0200ab0fb1": {
      "model_module": "@jupyter-widgets/controls",
      "model_module_version": "1.5.0",
      "model_name": "HTMLModel",
      "state": {
       "layout": "IPY_MODEL_07377f1ec0e74dd4897d484914a44f99",
       "style": "IPY_MODEL_a5d8986e9aad47b1ba7821ddf2850c7a",
       "value": "<font size=4><B>Algorithm Selector</B>"
      }
     },
     "45847f561d154d999d93f170524e2bdf": {
      "model_module": "@jupyter-widgets/controls",
      "model_module_version": "1.5.0",
      "model_name": "IntTextModel",
      "state": {
       "description": "multi envs:",
       "layout": "IPY_MODEL_4cff6dcb31874722a4fcd9052bb1f9b6",
       "step": 1,
       "style": "IPY_MODEL_e41fe8ee1bf04764abe02428057a540a",
       "value": 1
      }
     },
     "45850b0512424834a6d4c70e60892ae8": {
      "model_module": "@jupyter-widgets/controls",
      "model_module_version": "1.5.0",
      "model_name": "DescriptionStyleModel",
      "state": {
       "description_width": ""
      }
     },
     "45b014170b1e4c6b8efc9d245b587b48": {
      "model_module": "@jupyter-widgets/base",
      "model_module_version": "1.2.0",
      "model_name": "LayoutModel",
      "state": {}
     },
     "45e906bdfe7a464d848f9c972f536d31": {
      "model_module": "@jupyter-widgets/base",
      "model_module_version": "1.2.0",
      "model_name": "LayoutModel",
      "state": {}
     },
     "467644544d33439284f04fe2a9883182": {
      "model_module": "@jupyter-widgets/controls",
      "model_module_version": "1.5.0",
      "model_name": "DropdownModel",
      "state": {
       "_options_labels": [
        "Acrobot-v1",
        "CartPole-v1",
        "CartPole-v0",
        "MountainCar-v0",
        "MountainCarContinuous-v0",
        "Pendulum-v0"
       ],
       "description": "env name:",
       "index": 5,
       "layout": "IPY_MODEL_e210fdbc53d246a2ae55da6a3689745b",
       "style": "IPY_MODEL_f29ba87ee02f4fc38760b98a32e20581"
      }
     },
     "469da089cf804101a4cbc570975a1aed": {
      "model_module": "@jupyter-widgets/controls",
      "model_module_version": "1.5.0",
      "model_name": "LabelModel",
      "state": {
       "layout": "IPY_MODEL_ac4da45cf7d84d5fa0ea8963afbe5c12",
       "style": "IPY_MODEL_dc12042cc1bb40c98a69bef90468797a",
       "value": "gamma"
      }
     },
     "4711e3b757ae4ba08ece2d994aa46c2a": {
      "model_module": "@jupyter-widgets/controls",
      "model_module_version": "1.5.0",
      "model_name": "SliderStyleModel",
      "state": {
       "description_width": ""
      }
     },
     "4749f46df2c4438e874ed6912a4d7ef1": {
      "model_module": "@jupyter-widgets/base",
      "model_module_version": "1.2.0",
      "model_name": "LayoutModel",
      "state": {
       "grid_area": "widget009"
      }
     },
     "474e0de897334eb69236cc05ae69f164": {
      "model_module": "@jupyter-widgets/controls",
      "model_module_version": "1.5.0",
      "model_name": "FloatSliderModel",
      "state": {
       "continuous_update": false,
       "description": "Slider input:",
       "layout": "IPY_MODEL_c234ed19a3204e1d9452d6686e014efb",
       "max": 200,
       "readout_format": ".0f",
       "style": "IPY_MODEL_22126658c9d54cfab48b63029798c705",
       "value": 100
      }
     },
     "47513573787c4ab1bfafee8a38450355": {
      "model_module": "@jupyter-widgets/base",
      "model_module_version": "1.2.0",
      "model_name": "LayoutModel",
      "state": {}
     },
     "47d275b36e704a74a22098c38f14f301": {
      "model_module": "@jupyter-widgets/controls",
      "model_module_version": "1.5.0",
      "model_name": "DescriptionStyleModel",
      "state": {
       "description_width": ""
      }
     },
     "47ed36f4da904759bb9adcf9f1f1685b": {
      "model_module": "@jupyter-widgets/base",
      "model_module_version": "1.2.0",
      "model_name": "LayoutModel",
      "state": {
       "grid_area": "widget006"
      }
     },
     "48392da1f6c64d3fad859465d0d0095b": {
      "model_module": "@jupyter-widgets/base",
      "model_module_version": "1.2.0",
      "model_name": "LayoutModel",
      "state": {
       "align_items": "stretch",
       "display": "flex",
       "grid_area": "widget002",
       "justify_content": "center"
      }
     },
     "48a97cf1c4a44a858c3376f962060321": {
      "model_module": "@jupyter-widgets/base",
      "model_module_version": "1.2.0",
      "model_name": "LayoutModel",
      "state": {}
     },
     "48d65f9009904854b076047201074a2c": {
      "model_module": "@jupyter-widgets/base",
      "model_module_version": "1.2.0",
      "model_name": "LayoutModel",
      "state": {
       "grid_template_areas": "\n                                               \"a00 a01\"\n                                               \"a10 a11\"\n                                               \"a20 a21\"\n                                               \"t0 t1\"\n                                               "
      }
     },
     "494deb5503e842b78948ed2c14e28e3e": {
      "model_module": "@jupyter-widgets/base",
      "model_module_version": "1.2.0",
      "model_name": "LayoutModel",
      "state": {
       "grid_area": "widget009"
      }
     },
     "49c009585e524d98af99d984cf65a85b": {
      "model_module": "@jupyter-widgets/base",
      "model_module_version": "1.2.0",
      "model_name": "LayoutModel",
      "state": {}
     },
     "4a1bc5d7007848cb89e08eff1479ddf8": {
      "model_module": "@jupyter-widgets/controls",
      "model_module_version": "1.5.0",
      "model_name": "DescriptionStyleModel",
      "state": {
       "description_width": ""
      }
     },
     "4a2a0ec5e8f641f489d58e31f3f5fcef": {
      "model_module": "@jupyter-widgets/controls",
      "model_module_version": "1.5.0",
      "model_name": "LabelModel",
      "state": {
       "layout": "IPY_MODEL_d1b7a611e0ea474991c6034e7e7a9e98",
       "style": "IPY_MODEL_60104c359482485eaa44f621628fb667",
       "value": "Box(3,)"
      }
     },
     "4a88a99c974d47da993c8bde3faab362": {
      "model_module": "@jupyter-widgets/base",
      "model_module_version": "1.2.0",
      "model_name": "LayoutModel",
      "state": {
       "justify_content": "center"
      }
     },
     "4ab1ce52edf54c879f2ee002e94c98f1": {
      "model_module": "@jupyter-widgets/output",
      "model_module_version": "1.0.0",
      "model_name": "OutputModel",
      "state": {
       "layout": "IPY_MODEL_29a207365d934cc4a402ed72a19194ca"
      }
     },
     "4b23820dcff647a6ad204c7c4a596248": {
      "model_module": "@jupyter-widgets/base",
      "model_module_version": "1.2.0",
      "model_name": "LayoutModel",
      "state": {
       "grid_area": "widget001"
      }
     },
     "4b5dc49fbc1743c8abe6cded3f9ed703": {
      "model_module": "@jupyter-widgets/base",
      "model_module_version": "1.2.0",
      "model_name": "LayoutModel",
      "state": {
       "border": "dotted",
       "grid_template_areas": "\"widget001 widget002\"\n\"widget003 widget004\"\n\"widget005 widget006\"\n\"widget007 widget008\"\n\"widget009 widget010\"\n\"widget011 widget012\"\n\"widget013 widget014\"",
       "grid_template_columns": "repeat(2, 1fr)",
       "grid_template_rows": "repeat(7, 1fr)"
      }
     },
     "4b9184b437ac441e8c485894889e7fd4": {
      "model_module": "@jupyter-widgets/controls",
      "model_module_version": "1.5.0",
      "model_name": "GridBoxModel",
      "state": {
       "children": [
        "IPY_MODEL_8865f419c3a04323907d8e9d11f06c24",
        "IPY_MODEL_c60dc42b295c47138b76205df9071217",
        "IPY_MODEL_85165a2de0d64a2bb9baf9b64b3ffa38",
        "IPY_MODEL_bffd75c7e90346ebb8214c6fe0ce2ab4"
       ],
       "layout": "IPY_MODEL_1cb1d8e98bef410e85502ad2edb46c45"
      }
     },
     "4bbe95c5e6b34795a2058cc7bf7416f9": {
      "model_module": "@jupyter-widgets/controls",
      "model_module_version": "1.5.0",
      "model_name": "LabelModel",
      "state": {
       "layout": "IPY_MODEL_615934e58366458ea65a907cae98c64e",
       "style": "IPY_MODEL_570c4f6867da492cafc6318dd145f87d",
       "value": "Dense(n_units=64, relu, in_channels='3', name='hidden_layer1')"
      }
     },
     "4c528854314c4df18a84eafa4f1a7404": {
      "model_module": "@jupyter-widgets/controls",
      "model_module_version": "1.5.0",
      "model_name": "SliderStyleModel",
      "state": {
       "description_width": ""
      }
     },
     "4cff6dcb31874722a4fcd9052bb1f9b6": {
      "model_module": "@jupyter-widgets/base",
      "model_module_version": "1.2.0",
      "model_name": "LayoutModel",
      "state": {}
     },
     "4d8d22e583c64179817ad9c514bd4490": {
      "model_module": "@jupyter-widgets/base",
      "model_module_version": "1.2.0",
      "model_name": "LayoutModel",
      "state": {
       "grid_area": "widget004"
      }
     },
     "4e6414fcd34b454e94c982f7233402a7": {
      "model_module": "@jupyter-widgets/controls",
      "model_module_version": "1.5.0",
      "model_name": "DescriptionStyleModel",
      "state": {
       "description_width": ""
      }
     },
     "4ee9cbafcaad44de9f9e7453ee765047": {
      "model_module": "@jupyter-widgets/controls",
      "model_module_version": "1.5.0",
      "model_name": "HBoxModel",
      "state": {
       "children": [
        "IPY_MODEL_f74c2a3b52114bbc80056d7097731209",
        "IPY_MODEL_7fbbe1851a944d69a568c06875de2b0f"
       ],
       "layout": "IPY_MODEL_2a9fb576ef6145abaf95398bf620cd8d"
      }
     },
     "4fa0861e758940d9b9c2775304ebb140": {
      "model_module": "@jupyter-widgets/base",
      "model_module_version": "1.2.0",
      "model_name": "LayoutModel",
      "state": {}
     },
     "50ce374ed2fc4f2ebc2c156c16ba4f38": {
      "model_module": "@jupyter-widgets/controls",
      "model_module_version": "1.5.0",
      "model_name": "LabelModel",
      "state": {
       "layout": "IPY_MODEL_5ee808e0128f4e85921b2855f4ff3831",
       "style": "IPY_MODEL_6a001a1bb11844d0b85857486c544879",
       "value": "mode"
      }
     },
     "510e33d521264ac387af97dbbb46dd39": {
      "model_module": "@jupyter-widgets/base",
      "model_module_version": "1.2.0",
      "model_name": "LayoutModel",
      "state": {
       "align_content": "center",
       "align_items": "center",
       "border": "dotted"
      }
     },
     "516cc7132ca94faab3023ffcd1ed4cd4": {
      "model_module": "@jupyter-widgets/controls",
      "model_module_version": "1.5.0",
      "model_name": "LabelModel",
      "state": {
       "layout": "IPY_MODEL_5af150388cac4ebc96775a3696923399",
       "style": "IPY_MODEL_81621cd1e69f47a1868bf499caac5824",
       "value": "Choose your environment"
      }
     },
     "520b2e1af36547edbae1352d82099fda": {
      "model_module": "@jupyter-widgets/base",
      "model_module_version": "1.2.0",
      "model_name": "LayoutModel",
      "state": {
       "grid_area": "widget002"
      }
     },
     "5228a7a8160f421f846e2d7d06c9d159": {
      "model_module": "@jupyter-widgets/controls",
      "model_module_version": "1.5.0",
      "model_name": "DescriptionStyleModel",
      "state": {
       "description_width": ""
      }
     },
     "532ea00fd94045298f69a3917ced39c7": {
      "model_module": "@jupyter-widgets/base",
      "model_module_version": "1.2.0",
      "model_name": "LayoutModel",
      "state": {
       "align_items": "stretch",
       "display": "flex",
       "grid_area": "widget008",
       "justify_content": "center"
      }
     },
     "53c0481b6b294cf888f2b3abdc33a95c": {
      "model_module": "@jupyter-widgets/base",
      "model_module_version": "1.2.0",
      "model_name": "LayoutModel",
      "state": {}
     },
     "543b543dd8bb4fcb9dc9f4a16ac4bd6e": {
      "model_module": "@jupyter-widgets/base",
      "model_module_version": "1.2.0",
      "model_name": "LayoutModel",
      "state": {
       "grid_area": "widget005"
      }
     },
     "5446746816dd4edf8dffb29995d15715": {
      "model_module": "@jupyter-widgets/controls",
      "model_module_version": "1.5.0",
      "model_name": "LabelModel",
      "state": {
       "layout": "IPY_MODEL_6406ec864c1848d88b92c9b5248a9c9e",
       "style": "IPY_MODEL_891e2bdcc12d4314affa4fd372ed7ade",
       "value": "0.0"
      }
     },
     "5469680f21e44e77b1092b8354d9aee0": {
      "model_module": "@jupyter-widgets/controls",
      "model_module_version": "1.5.0",
      "model_name": "DescriptionStyleModel",
      "state": {
       "description_width": ""
      }
     },
     "547d2113aae04e20ba41d30deb33ec5f": {
      "model_module": "@jupyter-widgets/base",
      "model_module_version": "1.2.0",
      "model_name": "LayoutModel",
      "state": {
       "grid_area": "widget014"
      }
     },
     "54927f9f2cde4416bf0e3b782fbd5118": {
      "model_module": "@jupyter-widgets/base",
      "model_module_version": "1.2.0",
      "model_name": "LayoutModel",
      "state": {}
     },
     "5526ed8ea7b4499eadc0bbb165d7bbc4": {
      "model_module": "@jupyter-widgets/controls",
      "model_module_version": "1.5.0",
      "model_name": "VBoxModel",
      "state": {
       "children": [
        "IPY_MODEL_965b9a99694b4227a43121ae2e974290",
        "IPY_MODEL_e57f860aafca4775a03574208f4944b7"
       ],
       "layout": "IPY_MODEL_510e33d521264ac387af97dbbb46dd39"
      }
     },
     "5532430429754176a10d6ab53ba4b6d9": {
      "model_module": "@jupyter-widgets/base",
      "model_module_version": "1.2.0",
      "model_name": "LayoutModel",
      "state": {}
     },
     "55790721852a4ac38f0bf04e1016c16a": {
      "model_module": "@jupyter-widgets/controls",
      "model_module_version": "1.5.0",
      "model_name": "LabelModel",
      "state": {
       "layout": "IPY_MODEL_28ad6172b7f34ba9923847d24dd555b3",
       "style": "IPY_MODEL_c35cf89d5b4c42c886c9c83fdc93c8e6",
       "value": "Environment name:"
      }
     },
     "55abe6fb296b491ba2e2a09a492b5ae8": {
      "model_module": "@jupyter-widgets/controls",
      "model_module_version": "1.5.0",
      "model_name": "DescriptionStyleModel",
      "state": {
       "description_width": ""
      }
     },
     "570c4f6867da492cafc6318dd145f87d": {
      "model_module": "@jupyter-widgets/controls",
      "model_module_version": "1.5.0",
      "model_name": "DescriptionStyleModel",
      "state": {
       "description_width": ""
      }
     },
     "575f6d3a87c041e4a3005385d7ec75b4": {
      "model_module": "@jupyter-widgets/controls",
      "model_module_version": "1.5.0",
      "model_name": "VBoxModel",
      "state": {
       "children": [
        "IPY_MODEL_b20aaab10e6a49138d9cf0a414321c49",
        "IPY_MODEL_c2aa94c81efc4f3f826adcb847fbdb89"
       ],
       "layout": "IPY_MODEL_8173f889450249d58f18acfe83d63ddd"
      }
     },
     "57f97e2ebec542f8b297365916bf571e": {
      "model_module": "@jupyter-widgets/base",
      "model_module_version": "1.2.0",
      "model_name": "LayoutModel",
      "state": {
       "grid_area": "widget011"
      }
     },
     "58201f662dc74741bcdeb0e7753843c4": {
      "model_module": "@jupyter-widgets/base",
      "model_module_version": "1.2.0",
      "model_name": "LayoutModel",
      "state": {}
     },
     "593926166a704759992244f9732d0f8d": {
      "model_module": "@jupyter-widgets/base",
      "model_module_version": "1.2.0",
      "model_name": "LayoutModel",
      "state": {}
     },
     "595aeae2634948268510587998ec9587": {
      "model_module": "@jupyter-widgets/controls",
      "model_module_version": "1.5.0",
      "model_name": "HBoxModel",
      "state": {
       "children": [
        "IPY_MODEL_575f6d3a87c041e4a3005385d7ec75b4",
        "IPY_MODEL_080346c4f0ae457182549d3c68aaaaea"
       ],
       "layout": "IPY_MODEL_b9743661bbd24d94969c463e1f77d6e8"
      }
     },
     "59da397a7faa43c79c633dd523b6f07b": {
      "model_module": "@jupyter-widgets/base",
      "model_module_version": "1.2.0",
      "model_name": "LayoutModel",
      "state": {}
     },
     "5ac9e6a121a3488ea93f85f5589429a0": {
      "model_module": "@jupyter-widgets/base",
      "model_module_version": "1.2.0",
      "model_name": "LayoutModel",
      "state": {}
     },
     "5adceaf568da4a1d88d6bf7b379965c2": {
      "model_module": "@jupyter-widgets/controls",
      "model_module_version": "1.5.0",
      "model_name": "LabelModel",
      "state": {
       "layout": "IPY_MODEL_0e74af77352a4b40b0f9e5163d92a836",
       "style": "IPY_MODEL_c7a9f23b553e43a78d5c0ced37526327",
       "value": "beta_1"
      }
     },
     "5af150388cac4ebc96775a3696923399": {
      "model_module": "@jupyter-widgets/base",
      "model_module_version": "1.2.0",
      "model_name": "LayoutModel",
      "state": {}
     },
     "5af1a3e17ac64264905701b109c013e2": {
      "model_module": "@jupyter-widgets/controls",
      "model_module_version": "1.5.0",
      "model_name": "GridBoxModel",
      "state": {
       "children": [
        "IPY_MODEL_24f450d31f2d47a68aa2c58be28170fb",
        "IPY_MODEL_a7d002d3e5454965af1d9cdb2e54e7ca",
        "IPY_MODEL_3b0358464a32494ea410b866646b79b1",
        "IPY_MODEL_b4047180a5aa44479c358d8c12f0c5d5",
        "IPY_MODEL_9fd6a74ce4e54ae38816e55d19327281",
        "IPY_MODEL_0eb34e6e2b07401dae9a2bfa4f1d49df",
        "IPY_MODEL_5fc0273b28ca4f42b441948986c98e99",
        "IPY_MODEL_bd7afa2132154beebd89e4320ebcad26",
        "IPY_MODEL_d48e8464b37c4f0099d42e59369dbab6",
        "IPY_MODEL_07b0e1377c414989a1d7ce1bf1da1c4e",
        "IPY_MODEL_b04b868ce504489c82bd8818501b3ac3",
        "IPY_MODEL_d1ba6fbf21674589b3f585f6e0f9638b",
        "IPY_MODEL_c083a4b8f36848ed9f277f423ae18084",
        "IPY_MODEL_8c168f5c8ecc4d0ba203b60193856d1c"
       ],
       "layout": "IPY_MODEL_2f93a27048a44beda22771c8249fba0d"
      }
     },
     "5afcc13ec3d94e6299bd06fb87ed7885": {
      "model_module": "@jupyter-widgets/base",
      "model_module_version": "1.2.0",
      "model_name": "LayoutModel",
      "state": {
       "grid_area": "widget007"
      }
     },
     "5b759ba6fc8f451c97ee15467069a6ed": {
      "model_module": "@jupyter-widgets/base",
      "model_module_version": "1.2.0",
      "model_name": "LayoutModel",
      "state": {}
     },
     "5b87473fb6cc473a89998a285388f4da": {
      "model_module": "@jupyter-widgets/base",
      "model_module_version": "1.2.0",
      "model_name": "LayoutModel",
      "state": {}
     },
     "5bced3d11d4a41a4b3e1c712f83b98e4": {
      "model_module": "@jupyter-widgets/controls",
      "model_module_version": "1.5.0",
      "model_name": "DropdownModel",
      "state": {
       "_options_labels": [
        "default"
       ],
       "description": "state type:",
       "index": 0,
       "layout": "IPY_MODEL_f4d0297192f5464bac7ab02b3dabed2c",
       "style": "IPY_MODEL_7fea48aa29c24b4b94784890589e01e4"
      }
     },
     "5caab83d7d4d4658ac739d02b56e9fd6": {
      "model_module": "@jupyter-widgets/controls",
      "model_module_version": "1.5.0",
      "model_name": "DescriptionStyleModel",
      "state": {
       "description_width": ""
      }
     },
     "5daa3bcd6829495cb223328230f0f8e4": {
      "model_module": "@jupyter-widgets/controls",
      "model_module_version": "1.5.0",
      "model_name": "DescriptionStyleModel",
      "state": {
       "description_width": ""
      }
     },
     "5ee808e0128f4e85921b2855f4ff3831": {
      "model_module": "@jupyter-widgets/base",
      "model_module_version": "1.2.0",
      "model_name": "LayoutModel",
      "state": {
       "grid_area": "widget001"
      }
     },
     "5efb085669c2400a909ac37b5cb4e45e": {
      "model_module": "@jupyter-widgets/base",
      "model_module_version": "1.2.0",
      "model_name": "LayoutModel",
      "state": {
       "align_items": "stretch",
       "display": "flex",
       "grid_area": "widget008",
       "justify_content": "center"
      }
     },
     "5f1fda7eb4ac4ce694f721e312e205ab": {
      "model_module": "@jupyter-widgets/controls",
      "model_module_version": "1.5.0",
      "model_name": "DescriptionStyleModel",
      "state": {
       "description_width": ""
      }
     },
     "5fc0273b28ca4f42b441948986c98e99": {
      "model_module": "@jupyter-widgets/controls",
      "model_module_version": "1.5.0",
      "model_name": "LabelModel",
      "state": {
       "layout": "IPY_MODEL_18ea002dd43344a5864f8a8651ceeaeb",
       "style": "IPY_MODEL_e14f5611fa9242af879512207669394f",
       "value": "beta_1"
      }
     },
     "60104c359482485eaa44f621628fb667": {
      "model_module": "@jupyter-widgets/controls",
      "model_module_version": "1.5.0",
      "model_name": "DescriptionStyleModel",
      "state": {
       "description_width": ""
      }
     },
     "611b3bc2e8e749a38fe77bbdab064670": {
      "model_module": "@jupyter-widgets/controls",
      "model_module_version": "1.5.0",
      "model_name": "LabelModel",
      "state": {
       "layout": "IPY_MODEL_3c77984eb49f4b3fbf5b78b313af8071",
       "style": "IPY_MODEL_b64d5e345cb5482595aa92662c8f162c",
       "value": "epsilon"
      }
     },
     "615934e58366458ea65a907cae98c64e": {
      "model_module": "@jupyter-widgets/base",
      "model_module_version": "1.2.0",
      "model_name": "LayoutModel",
      "state": {}
     },
     "6187b72c80f64272a6c33c90cb582c4c": {
      "model_module": "@jupyter-widgets/base",
      "model_module_version": "1.2.0",
      "model_name": "LayoutModel",
      "state": {
       "align_items": "center"
      }
     },
     "626ae439ee1f4ce4895764fb66f9c6d3": {
      "model_module": "@jupyter-widgets/controls",
      "model_module_version": "1.5.0",
      "model_name": "DescriptionStyleModel",
      "state": {
       "description_width": ""
      }
     },
     "629ece3b43ac4c8a8c2f83733a180978": {
      "model_module": "@jupyter-widgets/base",
      "model_module_version": "1.2.0",
      "model_name": "LayoutModel",
      "state": {
       "grid_area": "widget005"
      }
     },
     "62a5e4f04f554e6580d63bb32f36b3be": {
      "model_module": "@jupyter-widgets/base",
      "model_module_version": "1.2.0",
      "model_name": "LayoutModel",
      "state": {
       "align_items": "stretch",
       "display": "flex",
       "grid_area": "widget012",
       "justify_content": "center"
      }
     },
     "63c30e87411c45dd8d58dfa485850fc2": {
      "model_module": "@jupyter-widgets/controls",
      "model_module_version": "1.5.0",
      "model_name": "DescriptionStyleModel",
      "state": {
       "description_width": ""
      }
     },
     "63d55c74d6ed493abe58361958b23046": {
      "model_module": "@jupyter-widgets/controls",
      "model_module_version": "1.5.0",
      "model_name": "DescriptionStyleModel",
      "state": {
       "description_width": ""
      }
     },
     "6406ec864c1848d88b92c9b5248a9c9e": {
      "model_module": "@jupyter-widgets/base",
      "model_module_version": "1.2.0",
      "model_name": "LayoutModel",
      "state": {
       "grid_area": "widget012"
      }
     },
     "64750206fa3a48119aa85e75f5ff2de8": {
      "model_module": "@jupyter-widgets/controls",
      "model_module_version": "1.5.0",
      "model_name": "GridBoxModel",
      "state": {
       "children": [
        "IPY_MODEL_55790721852a4ac38f0bf04e1016c16a",
        "IPY_MODEL_2ece943ff83c48e8b69e0b2396b6064c",
        "IPY_MODEL_7a5d99612efa45acb82149814a4a7e82",
        "IPY_MODEL_87b22017505c4d14a335692f09abd816",
        "IPY_MODEL_8f5e2c19238240c38947f1a5d8e72792",
        "IPY_MODEL_2da2537f2e444e16ad634693e684af58",
        "IPY_MODEL_6e144126a66b48f9a22641284932ad73",
        "IPY_MODEL_ef95b43fb5cd436cb6f737f2defc8e38"
       ],
       "layout": "IPY_MODEL_48d65f9009904854b076047201074a2c"
      }
     },
     "660e8c250f974ff685128c61b3d57fe3": {
      "model_module": "@jupyter-widgets/controls",
      "model_module_version": "1.5.0",
      "model_name": "DescriptionStyleModel",
      "state": {
       "description_width": ""
      }
     },
     "661fd55473c0431aa9dffd6876d1d559": {
      "model_module": "@jupyter-widgets/controls",
      "model_module_version": "1.5.0",
      "model_name": "DescriptionStyleModel",
      "state": {
       "description_width": ""
      }
     },
     "66bc7fd58a2743a0960e9dd5df378998": {
      "model_module": "@jupyter-widgets/base",
      "model_module_version": "1.2.0",
      "model_name": "LayoutModel",
      "state": {
       "align_items": "stretch",
       "display": "flex",
       "grid_area": "widget010",
       "justify_content": "center"
      }
     },
     "677e2010d7ce45eb9adc6f26a8977636": {
      "model_module": "@jupyter-widgets/controls",
      "model_module_version": "1.5.0",
      "model_name": "LabelModel",
      "state": {
       "layout": "IPY_MODEL_3556d6d1fe0c4e558b21b70b8c7b9395",
       "style": "IPY_MODEL_0580852520e142a89d7b42c50bfef6a1",
       "value": "learning_rate"
      }
     },
     "67a79ba4cbf84418967857e237a5a1be": {
      "model_module": "@jupyter-widgets/controls",
      "model_module_version": "1.5.0",
      "model_name": "DescriptionStyleModel",
      "state": {
       "description_width": ""
      }
     },
     "681fa50d92ed4da0afda87805d2383ca": {
      "model_module": "@jupyter-widgets/controls",
      "model_module_version": "1.5.0",
      "model_name": "HTMLModel",
      "state": {
       "layout": "IPY_MODEL_fb19638e8a38465f844aaf06c6378b29",
       "style": "IPY_MODEL_47d275b36e704a74a22098c38f14f301",
       "value": "<font size=4><B>Algorithm Parameters</B>"
      }
     },
     "683e3afa65604f1b85604a79ec228a2b": {
      "model_module": "@jupyter-widgets/controls",
      "model_module_version": "1.5.0",
      "model_name": "DescriptionStyleModel",
      "state": {
       "description_width": ""
      }
     },
     "689e8f05af2f4f159239a896e7e9843a": {
      "model_module": "@jupyter-widgets/base",
      "model_module_version": "1.2.0",
      "model_name": "LayoutModel",
      "state": {}
     },
     "68d4eab6f1cf4e2fa0e229ecdce8d392": {
      "model_module": "@jupyter-widgets/base",
      "model_module_version": "1.2.0",
      "model_name": "LayoutModel",
      "state": {
       "grid_area": "widget005"
      }
     },
     "68fcf5652dd14e5fad220fcbe777ddbb": {
      "model_module": "@jupyter-widgets/controls",
      "model_module_version": "1.5.0",
      "model_name": "ProgressStyleModel",
      "state": {
       "description_width": ""
      }
     },
     "691c17934ca3435eb36a2d84d15ecdf7": {
      "model_module": "@jupyter-widgets/controls",
      "model_module_version": "1.5.0",
      "model_name": "GridBoxModel",
      "state": {
       "children": [
        "IPY_MODEL_3a96e3ae233940e18c75f004da9e0459",
        "IPY_MODEL_8d18e0fa10b94372a3edf64edb4814bc",
        "IPY_MODEL_677e2010d7ce45eb9adc6f26a8977636",
        "IPY_MODEL_e224793bc1524f0c91ce3d7ef0e98f8e",
        "IPY_MODEL_c34d5f3024f24951b4f478bca62dd7c7",
        "IPY_MODEL_6bb0b7ee0cdf49ca97bb0c3b528131e8",
        "IPY_MODEL_5adceaf568da4a1d88d6bf7b379965c2",
        "IPY_MODEL_6c1a4850cad844f4bd144b78177e6d31",
        "IPY_MODEL_c12ffb6b4533460bbdfc7404ff89d807",
        "IPY_MODEL_e6c798aa900740009741c67dfccb0d92",
        "IPY_MODEL_75b1aa83fa184214aecc8ea858858cd3",
        "IPY_MODEL_e1f03c622ff64b3bb4e59fc54e7898a6",
        "IPY_MODEL_611b3bc2e8e749a38fe77bbdab064670",
        "IPY_MODEL_eb54eb7b3c674e67b10610ce2aaf309a"
       ],
       "layout": "IPY_MODEL_fb06877af7ae451baefc12dfd27d9348"
      }
     },
     "6923c73eeac747fdbe41b2062e257a58": {
      "model_module": "@jupyter-widgets/base",
      "model_module_version": "1.2.0",
      "model_name": "LayoutModel",
      "state": {
       "grid_area": "widget007"
      }
     },
     "69268529fca5425e9f11506c968490e7": {
      "model_module": "@jupyter-widgets/controls",
      "model_module_version": "1.5.0",
      "model_name": "DescriptionStyleModel",
      "state": {
       "description_width": ""
      }
     },
     "698f9329e3754e7482dc32690ba58f4a": {
      "model_module": "@jupyter-widgets/controls",
      "model_module_version": "1.5.0",
      "model_name": "DescriptionStyleModel",
      "state": {
       "description_width": ""
      }
     },
     "6a001a1bb11844d0b85857486c544879": {
      "model_module": "@jupyter-widgets/controls",
      "model_module_version": "1.5.0",
      "model_name": "DescriptionStyleModel",
      "state": {
       "description_width": ""
      }
     },
     "6ab9513a615a4551a596a3d2e637d181": {
      "model_module": "@jupyter-widgets/controls",
      "model_module_version": "1.5.0",
      "model_name": "DescriptionStyleModel",
      "state": {
       "description_width": ""
      }
     },
     "6bb0b7ee0cdf49ca97bb0c3b528131e8": {
      "model_module": "@jupyter-widgets/controls",
      "model_module_version": "1.5.0",
      "model_name": "LabelModel",
      "state": {
       "layout": "IPY_MODEL_2c0353597c114ba184977dac607510c3",
       "style": "IPY_MODEL_82c3b758724944d0b02d17ecfdd05698",
       "value": "False"
      }
     },
     "6c1a4850cad844f4bd144b78177e6d31": {
      "model_module": "@jupyter-widgets/controls",
      "model_module_version": "1.5.0",
      "model_name": "LabelModel",
      "state": {
       "layout": "IPY_MODEL_e255dc6e7af7487e8a2729f670bffd8a",
       "style": "IPY_MODEL_012eeb7c3bab46d9baa05356cd4ff0f6",
       "value": "0.9"
      }
     },
     "6c751fa2c2aa415ea57d3c9b0e11b22d": {
      "model_module": "@jupyter-widgets/controls",
      "model_module_version": "1.5.0",
      "model_name": "LabelModel",
      "state": {
       "layout": "IPY_MODEL_254576dd293543d384c9e5620c3db225",
       "style": "IPY_MODEL_304f4dcdb42b4bca91451ccfe7eba639",
       "value": "max_steps"
      }
     },
     "6caef128e4df40ebb76ef90ad9a40d41": {
      "model_module": "@jupyter-widgets/controls",
      "model_module_version": "1.5.0",
      "model_name": "VBoxModel",
      "state": {
       "children": [
        "IPY_MODEL_a496bd2aabab465fbcf0022dc1acd19f",
        "IPY_MODEL_2982ccca674f4bfc839557e06cde9993"
       ],
       "layout": "IPY_MODEL_fbd450c8b01f4ab9ae7ea1caa129bd66"
      }
     },
     "6cb628f08ae2469db2ee42e38ca4de74": {
      "model_module": "@jupyter-widgets/controls",
      "model_module_version": "1.5.0",
      "model_name": "BoxModel",
      "state": {
       "children": [
        "IPY_MODEL_90d52d8b63c342f087384246a76680d7"
       ],
       "layout": "IPY_MODEL_759fddd650134c46bbbbd4b4c6f8c744"
      }
     },
     "6d5b0a5b26874cfd874c4a0bdf307eff": {
      "model_module": "@jupyter-widgets/controls",
      "model_module_version": "1.5.0",
      "model_name": "VBoxModel",
      "state": {
       "children": [
        "IPY_MODEL_1537ab75a9dd4f429ffb3812c485116f",
        "IPY_MODEL_a18265de326b4d399e760f9d2e5bb238"
       ],
       "layout": "IPY_MODEL_7208b8f21c77462dad67124eb0fd8164"
      }
     },
     "6d6739242111448eaf1e80a8962f1aac": {
      "model_module": "@jupyter-widgets/base",
      "model_module_version": "1.2.0",
      "model_name": "LayoutModel",
      "state": {}
     },
     "6db9105409df4485909f169fc6e6d696": {
      "model_module": "@jupyter-widgets/base",
      "model_module_version": "1.2.0",
      "model_name": "LayoutModel",
      "state": {
       "grid_area": "widget003"
      }
     },
     "6dc0399123f94dd1831a2b2cfb6c3078": {
      "model_module": "@jupyter-widgets/controls",
      "model_module_version": "1.5.0",
      "model_name": "DescriptionStyleModel",
      "state": {
       "description_width": ""
      }
     },
     "6e144126a66b48f9a22641284932ad73": {
      "model_module": "@jupyter-widgets/controls",
      "model_module_version": "1.5.0",
      "model_name": "LabelModel",
      "state": {
       "layout": "IPY_MODEL_53c0481b6b294cf888f2b3abdc33a95c",
       "style": "IPY_MODEL_a8e550f371f94677a29e238776be2cdb",
       "value": "Tips:"
      }
     },
     "6efa143c4b9d43aa94ed8cfe56824583": {
      "model_module": "@jupyter-widgets/controls",
      "model_module_version": "1.5.0",
      "model_name": "DescriptionStyleModel",
      "state": {
       "description_width": ""
      }
     },
     "6f0bd8ffadf44461a70b1031b3f65064": {
      "model_module": "@jupyter-widgets/controls",
      "model_module_version": "1.5.0",
      "model_name": "FloatSliderModel",
      "state": {
       "continuous_update": false,
       "description": "learning curve smooth factor",
       "layout": "IPY_MODEL_145001c5826a41cd989997ea61244ca1",
       "max": 1,
       "step": 0.01,
       "style": "IPY_MODEL_4080aa3475b94001b5324fd14d18816c",
       "value": 0.8
      }
     },
     "6f525160109d45299758550c08196bd9": {
      "model_module": "@jupyter-widgets/controls",
      "model_module_version": "1.5.0",
      "model_name": "ProgressStyleModel",
      "state": {
       "description_width": ""
      }
     },
     "70c300868924433094e74b74d260a4a2": {
      "model_module": "@jupyter-widgets/base",
      "model_module_version": "1.2.0",
      "model_name": "LayoutModel",
      "state": {
       "justify_content": "center"
      }
     },
     "715b10d741354c8db506fb8ba945a074": {
      "model_module": "@jupyter-widgets/controls",
      "model_module_version": "1.5.0",
      "model_name": "LabelModel",
      "state": {
       "layout": "IPY_MODEL_1e327c8e4b844c2fbb017a5544fa678e",
       "style": "IPY_MODEL_6ab9513a615a4551a596a3d2e637d181",
       "value": "0.0001"
      }
     },
     "7208b8f21c77462dad67124eb0fd8164": {
      "model_module": "@jupyter-widgets/base",
      "model_module_version": "1.2.0",
      "model_name": "LayoutModel",
      "state": {}
     },
     "731d299fb9dd45c1a41a5d4df4f41f94": {
      "model_module": "@jupyter-widgets/controls",
      "model_module_version": "1.5.0",
      "model_name": "SliderStyleModel",
      "state": {
       "description_width": ""
      }
     },
     "747e88ebfefc4efb95f60f63e725dcc1": {
      "model_module": "@jupyter-widgets/base",
      "model_module_version": "1.2.0",
      "model_name": "LayoutModel",
      "state": {}
     },
     "74d03d1491d4451d879384ab357f33a9": {
      "model_module": "@jupyter-widgets/base",
      "model_module_version": "1.2.0",
      "model_name": "LayoutModel",
      "state": {
       "align_items": "center"
      }
     },
     "74dc8e60490943c8b9601232bf24f608": {
      "model_module": "@jupyter-widgets/base",
      "model_module_version": "1.2.0",
      "model_name": "LayoutModel",
      "state": {}
     },
     "7532b84aea3a4f4290efa4b0369e846a": {
      "model_module": "@jupyter-widgets/controls",
      "model_module_version": "1.5.0",
      "model_name": "DescriptionStyleModel",
      "state": {
       "description_width": ""
      }
     },
     "759c11789beb46f798f3b48c4cf88577": {
      "model_module": "@jupyter-widgets/base",
      "model_module_version": "1.2.0",
      "model_name": "LayoutModel",
      "state": {}
     },
     "759fddd650134c46bbbbd4b4c6f8c744": {
      "model_module": "@jupyter-widgets/base",
      "model_module_version": "1.2.0",
      "model_name": "LayoutModel",
      "state": {}
     },
     "75b1aa83fa184214aecc8ea858858cd3": {
      "model_module": "@jupyter-widgets/controls",
      "model_module_version": "1.5.0",
      "model_name": "LabelModel",
      "state": {
       "layout": "IPY_MODEL_7cdb0eb01b9b434ca4c08fd25f243f09",
       "style": "IPY_MODEL_3cfd11894b514078901081bddd35c83d",
       "value": "decay"
      }
     },
     "75c167ca66774581880b2500d5176a36": {
      "model_module": "@jupyter-widgets/controls",
      "model_module_version": "1.5.0",
      "model_name": "DescriptionStyleModel",
      "state": {
       "description_width": ""
      }
     },
     "76c7ceb7a42e44048e694b71f27f56eb": {
      "model_module": "@jupyter-widgets/base",
      "model_module_version": "1.2.0",
      "model_name": "LayoutModel",
      "state": {}
     },
     "76d1b335a0134c19852090005ae135c4": {
      "model_module": "@jupyter-widgets/controls",
      "model_module_version": "1.5.0",
      "model_name": "LabelModel",
      "state": {
       "layout": "IPY_MODEL_e8260cb1f55049a49bdaf024528d43c4",
       "style": "IPY_MODEL_def02ee29d9a44b19a1fd20f8a4be1a0",
       "value": "name"
      }
     },
     "76dec90334724f3ba9e51ba05856ff79": {
      "model_module": "@jupyter-widgets/controls",
      "model_module_version": "1.5.0",
      "model_name": "DescriptionStyleModel",
      "state": {
       "description_width": ""
      }
     },
     "776cdbcecc004924a856eb45ec0a5699": {
      "model_module": "@jupyter-widgets/controls",
      "model_module_version": "1.5.0",
      "model_name": "LabelModel",
      "state": {
       "layout": "IPY_MODEL_98eeb6cc7ac643ac882d54fab647de04",
       "style": "IPY_MODEL_a02320673c484c46848d7aeb6fda6e18",
       "value": "1e-07"
      }
     },
     "78f5897896d144fe839fafd65e76816e": {
      "model_module": "@jupyter-widgets/controls",
      "model_module_version": "1.5.0",
      "model_name": "DescriptionStyleModel",
      "state": {
       "description_width": ""
      }
     },
     "79611f87c64c431794f17eccbbd60f38": {
      "model_module": "@jupyter-widgets/base",
      "model_module_version": "1.2.0",
      "model_name": "LayoutModel",
      "state": {
       "grid_area": "widget012"
      }
     },
     "79953b3e59c048548c96bb197d46a7ea": {
      "model_module": "@jupyter-widgets/controls",
      "model_module_version": "1.5.0",
      "model_name": "DescriptionStyleModel",
      "state": {
       "description_width": ""
      }
     },
     "7a4be7c4229640b18c29d60d30cc0e70": {
      "model_module": "@jupyter-widgets/base",
      "model_module_version": "1.2.0",
      "model_name": "LayoutModel",
      "state": {}
     },
     "7a5d99612efa45acb82149814a4a7e82": {
      "model_module": "@jupyter-widgets/controls",
      "model_module_version": "1.5.0",
      "model_name": "LabelModel",
      "state": {
       "layout": "IPY_MODEL_7e40917d81264ee9986d07bae8291022",
       "style": "IPY_MODEL_1e6d0c80ceaa4e58846e9f554371b363",
       "value": "Observation space:"
      }
     },
     "7a6c0819e1344119aae9ef136830ad44": {
      "model_module": "@jupyter-widgets/base",
      "model_module_version": "1.2.0",
      "model_name": "LayoutModel",
      "state": {}
     },
     "7a7ebee6dcf34f36b1d55d2cb443e387": {
      "model_module": "@jupyter-widgets/base",
      "model_module_version": "1.2.0",
      "model_name": "LayoutModel",
      "state": {}
     },
     "7a807eea55d14bae96d792b1e475adcb": {
      "model_module": "@jupyter-widgets/controls",
      "model_module_version": "1.5.0",
      "model_name": "DescriptionStyleModel",
      "state": {
       "description_width": ""
      }
     },
     "7aa2babe24dc4fab84bfbd511f0b5e98": {
      "model_module": "@jupyter-widgets/controls",
      "model_module_version": "1.5.0",
      "model_name": "DescriptionStyleModel",
      "state": {
       "description_width": ""
      }
     },
     "7aba7921241e41af9a32cbe042699485": {
      "model_module": "@jupyter-widgets/controls",
      "model_module_version": "1.5.0",
      "model_name": "DescriptionStyleModel",
      "state": {
       "description_width": ""
      }
     },
     "7af9623e94c64555b01efa581f338e60": {
      "model_module": "@jupyter-widgets/controls",
      "model_module_version": "1.5.0",
      "model_name": "HBoxModel",
      "state": {
       "children": [
        "IPY_MODEL_841b7f5d915e4f639784140b23610d75",
        "IPY_MODEL_e904337542fd4e5d8187b9b9190b7522"
       ],
       "layout": "IPY_MODEL_532ea00fd94045298f69a3917ced39c7"
      }
     },
     "7b48f1fae96e40519787018ed628b99b": {
      "model_module": "@jupyter-widgets/controls",
      "model_module_version": "1.5.0",
      "model_name": "DescriptionStyleModel",
      "state": {
       "description_width": ""
      }
     },
     "7cc3bf6293494425b70569d1eca3af03": {
      "model_module": "@jupyter-widgets/controls",
      "model_module_version": "1.5.0",
      "model_name": "DescriptionStyleModel",
      "state": {
       "description_width": ""
      }
     },
     "7cdb0eb01b9b434ca4c08fd25f243f09": {
      "model_module": "@jupyter-widgets/base",
      "model_module_version": "1.2.0",
      "model_name": "LayoutModel",
      "state": {
       "grid_area": "widget011"
      }
     },
     "7d163d682d5744d6ac7be041fb66c158": {
      "model_module": "@jupyter-widgets/base",
      "model_module_version": "1.2.0",
      "model_name": "LayoutModel",
      "state": {}
     },
     "7d64c7c8f2dc4d4eb6218e55ae44bfbe": {
      "model_module": "@jupyter-widgets/controls",
      "model_module_version": "1.5.0",
      "model_name": "DescriptionStyleModel",
      "state": {
       "description_width": ""
      }
     },
     "7d70e416e925499f93e5837aabc6afc2": {
      "model_module": "@jupyter-widgets/base",
      "model_module_version": "1.2.0",
      "model_name": "LayoutModel",
      "state": {}
     },
     "7dc1333733194435934e6ca098ede1ad": {
      "model_module": "@jupyter-widgets/controls",
      "model_module_version": "1.5.0",
      "model_name": "DescriptionStyleModel",
      "state": {
       "description_width": ""
      }
     },
     "7df23ef826fb4c568071b0667bafcd3b": {
      "model_module": "@jupyter-widgets/controls",
      "model_module_version": "1.5.0",
      "model_name": "LabelModel",
      "state": {
       "layout": "IPY_MODEL_6db9105409df4485909f169fc6e6d696",
       "style": "IPY_MODEL_84111028e0ea4937a6fea8f96b279bec",
       "value": "model save path"
      }
     },
     "7e128d275e3c4e88829167514cec3bc6": {
      "model_module": "@jupyter-widgets/base",
      "model_module_version": "1.2.0",
      "model_name": "LayoutModel",
      "state": {}
     },
     "7e40917d81264ee9986d07bae8291022": {
      "model_module": "@jupyter-widgets/base",
      "model_module_version": "1.2.0",
      "model_name": "LayoutModel",
      "state": {}
     },
     "7f3f44cbaac94755810c0e589d048490": {
      "model_module": "@jupyter-widgets/controls",
      "model_module_version": "1.5.0",
      "model_name": "DescriptionStyleModel",
      "state": {
       "description_width": ""
      }
     },
     "7f9233b831cc448a97a909e398122bb9": {
      "model_module": "@jupyter-widgets/base",
      "model_module_version": "1.2.0",
      "model_name": "LayoutModel",
      "state": {}
     },
     "7f94bb571172453a920e7bd6d7a9050f": {
      "model_module": "@jupyter-widgets/controls",
      "model_module_version": "1.5.0",
      "model_name": "FloatSliderModel",
      "state": {
       "continuous_update": false,
       "description": "Slider input:",
       "layout": "IPY_MODEL_58201f662dc74741bcdeb0e7753843c4",
       "max": 600,
       "min": -400,
       "readout_format": ".0f",
       "style": "IPY_MODEL_b5dd447dec9c48bc8b1bb664c9553912",
       "value": 100
      }
     },
     "7fbbe1851a944d69a568c06875de2b0f": {
      "model_module": "@jupyter-widgets/controls",
      "model_module_version": "1.5.0",
      "model_name": "FloatTextModel",
      "state": {
       "description": "Manual input:",
       "layout": "IPY_MODEL_12e50eba7f3e4e9f888416f46172b60f",
       "step": null,
       "style": "IPY_MODEL_18a7121ba72e42af9a496a39fb8c6f6a",
       "value": 100
      }
     },
     "7fea48aa29c24b4b94784890589e01e4": {
      "model_module": "@jupyter-widgets/controls",
      "model_module_version": "1.5.0",
      "model_name": "DescriptionStyleModel",
      "state": {
       "description_width": ""
      }
     },
     "7ff9e3e9f09b40d398b6c898e5ee9653": {
      "model_module": "@jupyter-widgets/controls",
      "model_module_version": "1.5.0",
      "model_name": "DescriptionStyleModel",
      "state": {
       "description_width": ""
      }
     },
     "808fb0e5d6b940388d588196c927564d": {
      "model_module": "@jupyter-widgets/base",
      "model_module_version": "1.2.0",
      "model_name": "LayoutModel",
      "state": {}
     },
     "80d9bf94c37c49708820ccb5a2aa8f8b": {
      "model_module": "@jupyter-widgets/base",
      "model_module_version": "1.2.0",
      "model_name": "LayoutModel",
      "state": {}
     },
     "814eef7fa97a4fa2b4c5f1ed1b3728f3": {
      "model_module": "@jupyter-widgets/controls",
      "model_module_version": "1.5.0",
      "model_name": "LabelModel",
      "state": {
       "layout": "IPY_MODEL_2e8b3025623248e2a92daa5a7750997f",
       "style": "IPY_MODEL_bb04f52581bb496e9a6931ce291714c9",
       "value": "Dense(n_units=64, relu, in_channels='64', name='hidden_layer2')"
      }
     },
     "81621cd1e69f47a1868bf499caac5824": {
      "model_module": "@jupyter-widgets/controls",
      "model_module_version": "1.5.0",
      "model_name": "DescriptionStyleModel",
      "state": {
       "description_width": ""
      }
     },
     "8173f889450249d58f18acfe83d63ddd": {
      "model_module": "@jupyter-widgets/base",
      "model_module_version": "1.2.0",
      "model_name": "LayoutModel",
      "state": {}
     },
     "8178676fb5e441ec92464938695643a8": {
      "model_module": "@jupyter-widgets/base",
      "model_module_version": "1.2.0",
      "model_name": "LayoutModel",
      "state": {}
     },
     "81a50427a5384feeaaee374a19ad5931": {
      "model_module": "@jupyter-widgets/base",
      "model_module_version": "1.2.0",
      "model_name": "LayoutModel",
      "state": {
       "grid_template_areas": "\"widget001 widget002\"\n\"widget003 widget004\"\n\"widget005 widget006\"\n\"widget007 widget008\"\n\"widget009 widget010\"\n\"widget011 widget012\"",
       "grid_template_columns": "repeat(2, 1fr)",
       "grid_template_rows": "repeat(6, 1fr)"
      }
     },
     "81d1f55272ef4977b06be173bdd59b8c": {
      "model_module": "@jupyter-widgets/base",
      "model_module_version": "1.2.0",
      "model_name": "LayoutModel",
      "state": {}
     },
     "81f34a95028440608c8a5a307cd7ee9b": {
      "model_module": "@jupyter-widgets/base",
      "model_module_version": "1.2.0",
      "model_name": "LayoutModel",
      "state": {
       "align_content": "center",
       "align_items": "center",
       "border": "dotted"
      }
     },
     "82c3b758724944d0b02d17ecfdd05698": {
      "model_module": "@jupyter-widgets/controls",
      "model_module_version": "1.5.0",
      "model_name": "DescriptionStyleModel",
      "state": {
       "description_width": ""
      }
     },
     "831ed45407f74193acc07dacada162a9": {
      "model_module": "@jupyter-widgets/controls",
      "model_module_version": "1.5.0",
      "model_name": "DescriptionStyleModel",
      "state": {
       "description_width": ""
      }
     },
     "835ef9a1125846679a65d679afb62013": {
      "model_module": "@jupyter-widgets/controls",
      "model_module_version": "1.5.0",
      "model_name": "DescriptionStyleModel",
      "state": {
       "description_width": ""
      }
     },
     "8387714984af4e9cbaf16cbff2a45cbb": {
      "model_module": "@jupyter-widgets/base",
      "model_module_version": "1.2.0",
      "model_name": "LayoutModel",
      "state": {
       "grid_area": "widget001"
      }
     },
     "83c18b3b4c374f70947e47230ffe4f82": {
      "model_module": "@jupyter-widgets/controls",
      "model_module_version": "1.5.0",
      "model_name": "LabelModel",
      "state": {
       "layout": "IPY_MODEL_be4d4fbbc53d4705963f9b343aff399f",
       "style": "IPY_MODEL_8efed772f09f4ea1a1dabf91598fd49a",
       "value": "Optimizer information:"
      }
     },
     "84111028e0ea4937a6fea8f96b279bec": {
      "model_module": "@jupyter-widgets/controls",
      "model_module_version": "1.5.0",
      "model_name": "DescriptionStyleModel",
      "state": {
       "description_width": ""
      }
     },
     "841b7f5d915e4f639784140b23610d75": {
      "model_module": "@jupyter-widgets/controls",
      "model_module_version": "1.5.0",
      "model_name": "FloatSliderModel",
      "state": {
       "continuous_update": false,
       "description": "Slider input:",
       "layout": "IPY_MODEL_0b081708649d446ab37f522f5a019e19",
       "readout_format": ".0f",
       "style": "IPY_MODEL_12a0f20f2ecd423889594f36b15647f1",
       "value": 50
      }
     },
     "842ea79123034275adec1df392a4846d": {
      "model_module": "@jupyter-widgets/base",
      "model_module_version": "1.2.0",
      "model_name": "LayoutModel",
      "state": {
       "grid_area": "widget009"
      }
     },
     "84f7291061b34bfaaaec0711bd0cca56": {
      "model_module": "@jupyter-widgets/controls",
      "model_module_version": "1.5.0",
      "model_name": "LabelModel",
      "state": {
       "layout": "IPY_MODEL_ae877e1e2a554a19b78fb9a12f60e5d3",
       "style": "IPY_MODEL_1f0e424278554da08fbb15138e571a62",
       "value": "The action space is continuous."
      }
     },
     "85165a2de0d64a2bb9baf9b64b3ffa38": {
      "model_module": "@jupyter-widgets/controls",
      "model_module_version": "1.5.0",
      "model_name": "LabelModel",
      "state": {
       "layout": "IPY_MODEL_383cf0cb101341d4bdfb65604a24a4d5",
       "style": "IPY_MODEL_23424247d797485dba0788eb6b7614aa",
       "value": "model save path"
      }
     },
     "85514e8a938240e7b2df7c2a8ad6b6e8": {
      "model_module": "@jupyter-widgets/controls",
      "model_module_version": "1.5.0",
      "model_name": "DescriptionStyleModel",
      "state": {
       "description_width": ""
      }
     },
     "85d35dbed0594a3a837f536309af0b59": {
      "model_module": "@jupyter-widgets/controls",
      "model_module_version": "1.5.0",
      "model_name": "FloatSliderModel",
      "state": {
       "continuous_update": false,
       "description": "Slider input:",
       "layout": "IPY_MODEL_1db128fafd984258b040b5295b477f0d",
       "max": 74,
       "min": -26,
       "readout_format": ".0f",
       "style": "IPY_MODEL_066c122ea5f64991b7347279a79e8061",
       "value": 24
      }
     },
     "86e357397076415ba3ac239b26a8bc8f": {
      "model_module": "@jupyter-widgets/base",
      "model_module_version": "1.2.0",
      "model_name": "LayoutModel",
      "state": {
       "grid_area": "widget006"
      }
     },
     "8784dbc322c7455aaef2b352bae2f205": {
      "model_module": "@jupyter-widgets/controls",
      "model_module_version": "1.5.0",
      "model_name": "DescriptionStyleModel",
      "state": {
       "description_width": ""
      }
     },
     "87b22017505c4d14a335692f09abd816": {
      "model_module": "@jupyter-widgets/controls",
      "model_module_version": "1.5.0",
      "model_name": "BoxModel",
      "state": {
       "children": [
        "IPY_MODEL_4a2a0ec5e8f641f489d58e31f3f5fcef"
       ],
       "layout": "IPY_MODEL_1f37fdacb85646a1b5ff9a2b1d6ab38a"
      }
     },
     "885608d7df064c51ac0523ef9928e6b6": {
      "model_module": "@jupyter-widgets/controls",
      "model_module_version": "1.5.0",
      "model_name": "LabelModel",
      "state": {
       "layout": "IPY_MODEL_689e8f05af2f4f159239a896e7e9843a",
       "style": "IPY_MODEL_b85dbc19731e4b84bb6122ea52367809",
       "value": "Action space:"
      }
     },
     "8865f419c3a04323907d8e9d11f06c24": {
      "model_module": "@jupyter-widgets/controls",
      "model_module_version": "1.5.0",
      "model_name": "LabelModel",
      "state": {
       "layout": "IPY_MODEL_8387714984af4e9cbaf16cbff2a45cbb",
       "style": "IPY_MODEL_5daa3bcd6829495cb223328230f0f8e4",
       "value": "gamma"
      }
     },
     "886c73a1052a4a2da9ec06c958855a51": {
      "model_module": "@jupyter-widgets/base",
      "model_module_version": "1.2.0",
      "model_name": "LayoutModel",
      "state": {}
     },
     "88aafdf648784ac7954ce933431f9a3a": {
      "model_module": "@jupyter-widgets/controls",
      "model_module_version": "1.5.0",
      "model_name": "HBoxModel",
      "state": {
       "children": [
        "IPY_MODEL_8d80128792d44bf1a0467b7e86df0b54",
        "IPY_MODEL_d91d58d65e864faa90c9cc7bfd2959b0"
       ],
       "layout": "IPY_MODEL_8ff956034aa047d0a8809922cbefa856"
      }
     },
     "88b977df9d82476298ff3c70d714afe0": {
      "model_module": "@jupyter-widgets/controls",
      "model_module_version": "1.5.0",
      "model_name": "FloatSliderModel",
      "state": {
       "continuous_update": false,
       "description": "learning curve smooth factor",
       "layout": "IPY_MODEL_7f9233b831cc448a97a909e398122bb9",
       "max": 1,
       "step": 0.01,
       "style": "IPY_MODEL_35525c0fbffa497eb43f7d5bd081bb0b",
       "value": 0.8
      }
     },
     "88fc41c33c024f4eb22b13e0ea98e605": {
      "model_module": "@jupyter-widgets/base",
      "model_module_version": "1.2.0",
      "model_name": "LayoutModel",
      "state": {
       "grid_area": "widget003"
      }
     },
     "891909eab8204a4bb78c9a468bc20112": {
      "model_module": "@jupyter-widgets/output",
      "model_module_version": "1.0.0",
      "model_name": "OutputModel",
      "state": {
       "layout": "IPY_MODEL_e1f175e02edf40f39585c485ec11cbff",
       "outputs": [
        {
         "data": {
          "image/png": "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\n",
          "text/plain": "<Figure size 432x288 with 1 Axes>"
         },
         "metadata": {
          "needs_background": "light"
         },
         "output_type": "display_data"
        }
       ]
      }
     },
     "891e2bdcc12d4314affa4fd372ed7ade": {
      "model_module": "@jupyter-widgets/controls",
      "model_module_version": "1.5.0",
      "model_name": "DescriptionStyleModel",
      "state": {
       "description_width": ""
      }
     },
     "89880b2c3e03469da53b8a7e9e2e930b": {
      "model_module": "@jupyter-widgets/base",
      "model_module_version": "1.2.0",
      "model_name": "LayoutModel",
      "state": {}
     },
     "8991ca296f464086aab8e12cc644430c": {
      "model_module": "@jupyter-widgets/base",
      "model_module_version": "1.2.0",
      "model_name": "LayoutModel",
      "state": {
       "grid_area": "widget011"
      }
     },
     "89ae5379ee8b4e2d92f116a018b9420e": {
      "model_module": "@jupyter-widgets/controls",
      "model_module_version": "1.5.0",
      "model_name": "HBoxModel",
      "state": {
       "children": [
        "IPY_MODEL_c2eca071d21942c98a47aaf881130883",
        "IPY_MODEL_a6a4d48baea44d659e3b2dd7e54fcd17"
       ],
       "layout": "IPY_MODEL_3044da8a1f89485398f1ea9d4965bc55"
      }
     },
     "8ae2c037e98f420486a61a8570daf106": {
      "model_module": "@jupyter-widgets/base",
      "model_module_version": "1.2.0",
      "model_name": "LayoutModel",
      "state": {}
     },
     "8b14eeb5b78e4e4cb98441ffaeccf4fb": {
      "model_module": "@jupyter-widgets/base",
      "model_module_version": "1.2.0",
      "model_name": "LayoutModel",
      "state": {
       "grid_area": "widget002"
      }
     },
     "8c168f5c8ecc4d0ba203b60193856d1c": {
      "model_module": "@jupyter-widgets/controls",
      "model_module_version": "1.5.0",
      "model_name": "LabelModel",
      "state": {
       "layout": "IPY_MODEL_b9ad33908a4f4a6ba687c820c123c37a",
       "style": "IPY_MODEL_094d34956035446984a6cb8a6efc22a7",
       "value": "1e-07"
      }
     },
     "8c27b4b759354d64b25bcb3462c444ef": {
      "model_module": "@jupyter-widgets/controls",
      "model_module_version": "1.5.0",
      "model_name": "DropdownModel",
      "state": {
       "_options_labels": [
        "AC",
        "DDPG",
        "PG",
        "PPO",
        "SAC",
        "TD3",
        "TRPO"
       ],
       "description": "Algorithms:",
       "index": 0,
       "layout": "IPY_MODEL_b5ac8df291f9438bacc64a6cb2805620",
       "style": "IPY_MODEL_45850b0512424834a6d4c70e60892ae8"
      }
     },
     "8c59866961674911b2157bded443e366": {
      "model_module": "@jupyter-widgets/controls",
      "model_module_version": "1.5.0",
      "model_name": "VBoxModel",
      "state": {
       "children": [
        "IPY_MODEL_fc69d16aa7e547b09859e2ca7dbfbde8",
        "IPY_MODEL_6caef128e4df40ebb76ef90ad9a40d41"
       ],
       "layout": "IPY_MODEL_00663174be1342fbbd29bc99cdd6d3aa"
      }
     },
     "8ca1f8992583484a8a0ff2f7f46afee2": {
      "model_module": "@jupyter-widgets/controls",
      "model_module_version": "1.5.0",
      "model_name": "LabelModel",
      "state": {
       "layout": "IPY_MODEL_76c7ceb7a42e44048e694b71f27f56eb",
       "style": "IPY_MODEL_97b119b9f8fc4a5f80b7f35b2fbc20dd",
       "value": "Input(shape=(None, 3), name='input_layer')"
      }
     },
     "8d025735275c4dfdbbbf2d491e727c08": {
      "model_module": "@jupyter-widgets/output",
      "model_module_version": "1.0.0",
      "model_name": "OutputModel",
      "state": {
       "layout": "IPY_MODEL_ce5b912531614dfe90ee3e20fa7ba467",
       "outputs": [
        {
         "data": {
          "image/png": "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\n",
          "text/plain": "<Figure size 432x288 with 1 Axes>"
         },
         "metadata": {
          "needs_background": "light"
         },
         "output_type": "display_data"
        }
       ]
      }
     },
     "8d18e0fa10b94372a3edf64edb4814bc": {
      "model_module": "@jupyter-widgets/controls",
      "model_module_version": "1.5.0",
      "model_name": "LabelModel",
      "state": {
       "layout": "IPY_MODEL_8b14eeb5b78e4e4cb98441ffaeccf4fb",
       "style": "IPY_MODEL_a89219097e994deb9caa9b27d8bd2866",
       "value": "Adam"
      }
     },
     "8d80128792d44bf1a0467b7e86df0b54": {
      "model_module": "@jupyter-widgets/controls",
      "model_module_version": "1.5.0",
      "model_name": "FloatSliderModel",
      "state": {
       "continuous_update": false,
       "description": "Slider input:",
       "layout": "IPY_MODEL_09c74a8b5d1a43828034e148d2edfbfc",
       "max": 510,
       "min": -490,
       "readout_format": ".0f",
       "style": "IPY_MODEL_e318e3ad8e11430d840261e7eb1b540e",
       "value": 10
      }
     },
     "8efed772f09f4ea1a1dabf91598fd49a": {
      "model_module": "@jupyter-widgets/controls",
      "model_module_version": "1.5.0",
      "model_name": "DescriptionStyleModel",
      "state": {
       "description_width": ""
      }
     },
     "8f01f6cb90754bcb8b2e64809505291d": {
      "model_module": "@jupyter-widgets/base",
      "model_module_version": "1.2.0",
      "model_name": "LayoutModel",
      "state": {}
     },
     "8f5e2c19238240c38947f1a5d8e72792": {
      "model_module": "@jupyter-widgets/controls",
      "model_module_version": "1.5.0",
      "model_name": "LabelModel",
      "state": {
       "layout": "IPY_MODEL_413fd706b68148a099ed9af1a952ec6d",
       "style": "IPY_MODEL_ff0e9f4940eb4b57bd99d96059b5e194",
       "value": "Action space:"
      }
     },
     "8f90c0a8d78442cfa05aff9b006a94d6": {
      "model_module": "@jupyter-widgets/base",
      "model_module_version": "1.2.0",
      "model_name": "LayoutModel",
      "state": {
       "grid_area": "widget013"
      }
     },
     "8f9477722bb54e6185f07c7069ed73bc": {
      "model_module": "@jupyter-widgets/controls",
      "model_module_version": "1.5.0",
      "model_name": "SliderStyleModel",
      "state": {
       "description_width": ""
      }
     },
     "8fd0788ed947457d8556dc976e0eda38": {
      "model_module": "@jupyter-widgets/base",
      "model_module_version": "1.2.0",
      "model_name": "LayoutModel",
      "state": {}
     },
     "8ff956034aa047d0a8809922cbefa856": {
      "model_module": "@jupyter-widgets/base",
      "model_module_version": "1.2.0",
      "model_name": "LayoutModel",
      "state": {
       "align_items": "stretch",
       "display": "flex",
       "grid_area": "widget012",
       "justify_content": "center"
      }
     },
     "90d52d8b63c342f087384246a76680d7": {
      "model_module": "@jupyter-widgets/controls",
      "model_module_version": "1.5.0",
      "model_name": "LabelModel",
      "state": {
       "layout": "IPY_MODEL_f6f23b9ba55946d0aa626d62ba4bbdf5",
       "style": "IPY_MODEL_3488ba4c7374447794395c4c315a1193",
       "value": "Box(3,)"
      }
     },
     "91d86c9ddbfa4acdaf18e13d8adf3862": {
      "model_module": "@jupyter-widgets/controls",
      "model_module_version": "1.5.0",
      "model_name": "LabelModel",
      "state": {
       "layout": "IPY_MODEL_298f572cd2ec4a9ca5a6feafaf334040",
       "style": "IPY_MODEL_de8a6e2e9cb447439055e987582fc63e",
       "value": "Adam"
      }
     },
     "9384c24875c24e5b8be37d4c55e04820": {
      "model_module": "@jupyter-widgets/base",
      "model_module_version": "1.2.0",
      "model_name": "LayoutModel",
      "state": {
       "grid_area": "widget008"
      }
     },
     "93fcd071ff834486b199ab26105f6901": {
      "model_module": "@jupyter-widgets/controls",
      "model_module_version": "1.5.0",
      "model_name": "DescriptionStyleModel",
      "state": {
       "description_width": ""
      }
     },
     "946c2a2e7e8f4e36b0311e922520272f": {
      "model_module": "@jupyter-widgets/controls",
      "model_module_version": "1.5.0",
      "model_name": "DescriptionStyleModel",
      "state": {
       "description_width": ""
      }
     },
     "965b9a99694b4227a43121ae2e974290": {
      "model_module": "@jupyter-widgets/controls",
      "model_module_version": "1.5.0",
      "model_name": "LabelModel",
      "state": {
       "layout": "IPY_MODEL_bcb79998188240e99279f9cda7e004d9",
       "style": "IPY_MODEL_02904d8bc2d442deb3da0b5e6e0363a9",
       "value": "StochasticPolicyNetwork"
      }
     },
     "9689f9977c7f455282a9831bcd81905c": {
      "model_module": "@jupyter-widgets/controls",
      "model_module_version": "1.5.0",
      "model_name": "LabelModel",
      "state": {
       "layout": "IPY_MODEL_59da397a7faa43c79c633dd523b6f07b",
       "style": "IPY_MODEL_ec6b04eac2cd4e5a821244a954846a39",
       "value": "Dense(n_units=1, tanh, in_channels='64', name='dense_2')"
      }
     },
     "9694a75a41e543a3b2642aee3572857d": {
      "model_module": "@jupyter-widgets/controls",
      "model_module_version": "1.5.0",
      "model_name": "GridBoxModel",
      "state": {
       "children": [
        "IPY_MODEL_1202663af1bf4653bc967824c8574e1a",
        "IPY_MODEL_e1d753092ae3420ead7a3086b9405f2a",
        "IPY_MODEL_182107ee16aa4bfba497dd033e347d65",
        "IPY_MODEL_6cb628f08ae2469db2ee42e38ca4de74",
        "IPY_MODEL_885608d7df064c51ac0523ef9928e6b6",
        "IPY_MODEL_22ff0e7129b04334b71044d77e3c9298",
        "IPY_MODEL_43ca75c41e054155b5ad51e493b3b990",
        "IPY_MODEL_84f7291061b34bfaaaec0711bd0cca56"
       ],
       "layout": "IPY_MODEL_3e9c9dcc814b47f8b2b392074c83d853"
      }
     },
     "96fc368f69794e5baa9433c3a31b1ec1": {
      "model_module": "@jupyter-widgets/controls",
      "model_module_version": "1.5.0",
      "model_name": "DescriptionStyleModel",
      "state": {
       "description_width": ""
      }
     },
     "9705108e9dd540fa8e02c1933e03eadd": {
      "model_module": "@jupyter-widgets/base",
      "model_module_version": "1.2.0",
      "model_name": "LayoutModel",
      "state": {}
     },
     "97b119b9f8fc4a5f80b7f35b2fbc20dd": {
      "model_module": "@jupyter-widgets/controls",
      "model_module_version": "1.5.0",
      "model_name": "DescriptionStyleModel",
      "state": {
       "description_width": ""
      }
     },
     "97f58376ed524fab85dde1ea5f67ee17": {
      "model_module": "@jupyter-widgets/controls",
      "model_module_version": "1.5.0",
      "model_name": "LabelModel",
      "state": {
       "layout": "IPY_MODEL_8fd0788ed947457d8556dc976e0eda38",
       "style": "IPY_MODEL_c480ff00167c4205a51065548cbea855",
       "value": "StochasticPolicyNetwork"
      }
     },
     "98824ad5eda8475394e9fb13819502a9": {
      "model_module": "@jupyter-widgets/base",
      "model_module_version": "1.2.0",
      "model_name": "LayoutModel",
      "state": {}
     },
     "98eeb6cc7ac643ac882d54fab647de04": {
      "model_module": "@jupyter-widgets/base",
      "model_module_version": "1.2.0",
      "model_name": "LayoutModel",
      "state": {
       "grid_area": "widget014"
      }
     },
     "98f2c9b34e884cada9e2eedac93e1912": {
      "model_module": "@jupyter-widgets/base",
      "model_module_version": "1.2.0",
      "model_name": "LayoutModel",
      "state": {}
     },
     "99ac959475eb4f75b586ed6599b99113": {
      "model_module": "@jupyter-widgets/controls",
      "model_module_version": "1.5.0",
      "model_name": "LabelModel",
      "state": {
       "layout": "IPY_MODEL_7a7ebee6dcf34f36b1d55d2cb443e387",
       "style": "IPY_MODEL_55abe6fb296b491ba2e2a09a492b5ae8",
       "value": "Dense(n_units=64, relu, in_channels='3', name='hidden_layer1')"
      }
     },
     "9a247aedcd64492d9b4ddf9d76c13062": {
      "model_module": "@jupyter-widgets/base",
      "model_module_version": "1.2.0",
      "model_name": "LayoutModel",
      "state": {
       "grid_area": "widget005"
      }
     },
     "9ac98c15de5a4548a99d80e8ea3004c9": {
      "model_module": "@jupyter-widgets/controls",
      "model_module_version": "1.5.0",
      "model_name": "HTMLModel",
      "state": {
       "layout": "IPY_MODEL_d9b467355fa940af8f164b0b53137582",
       "style": "IPY_MODEL_351ae05c16d040dab9a578c06a78858c",
       "value": "<font size=4><B>Environment Selector</B>"
      }
     },
     "9b276e72efa44a7e911ee209d08859b6": {
      "model_module": "@jupyter-widgets/controls",
      "model_module_version": "1.5.0",
      "model_name": "DescriptionStyleModel",
      "state": {
       "description_width": ""
      }
     },
     "9b5f3fd4ebd341ac91227f9ded9fab19": {
      "model_module": "@jupyter-widgets/controls",
      "model_module_version": "1.5.0",
      "model_name": "DescriptionStyleModel",
      "state": {
       "description_width": ""
      }
     },
     "9c226167c8fb4cfab3a7161a87588ae1": {
      "model_module": "@jupyter-widgets/base",
      "model_module_version": "1.2.0",
      "model_name": "LayoutModel",
      "state": {}
     },
     "9ce0362f9fac4e45a87ebe7a085a24af": {
      "model_module": "@jupyter-widgets/controls",
      "model_module_version": "1.5.0",
      "model_name": "DropdownModel",
      "state": {
       "_options_labels": [
        "default"
       ],
       "description": "state type:",
       "index": 0,
       "layout": "IPY_MODEL_a6379873f0434d53a6ad52553c164bdb",
       "style": "IPY_MODEL_dceb338b27c742cd8733350448a2e798"
      }
     },
     "9dd1d4acaad44f16b1bbf0693ee9fad5": {
      "model_module": "@jupyter-widgets/controls",
      "model_module_version": "1.5.0",
      "model_name": "LabelModel",
      "state": {
       "layout": "IPY_MODEL_7e128d275e3c4e88829167514cec3bc6",
       "style": "IPY_MODEL_10b2a84971164564ac50d9f53bd98579",
       "value": "Input(shape=(None, 3), name='input_layer')"
      }
     },
     "9dfcd5e4ec744ed4a0a9091bed5ed2d8": {
      "model_module": "@jupyter-widgets/controls",
      "model_module_version": "1.5.0",
      "model_name": "LabelModel",
      "state": {
       "layout": "IPY_MODEL_88fc41c33c024f4eb22b13e0ea98e605",
       "style": "IPY_MODEL_5caab83d7d4d4658ac739d02b56e9fd6",
       "value": "render"
      }
     },
     "9e37b046f2d841dd9572b2284a729bf5": {
      "model_module": "@jupyter-widgets/controls",
      "model_module_version": "1.5.0",
      "model_name": "FloatProgressModel",
      "state": {
       "description": "Progress",
       "layout": "IPY_MODEL_33ecf71f75a649a285ea6a8211b5acbd",
       "style": "IPY_MODEL_68fcf5652dd14e5fad220fcbe777ddbb",
       "value": 18
      }
     },
     "9ee876553e424052a509a2daed8da1c6": {
      "model_module": "@jupyter-widgets/controls",
      "model_module_version": "1.5.0",
      "model_name": "LabelModel",
      "state": {
       "layout": "IPY_MODEL_cefe9c21582d46dc9471bee195b466b7",
       "style": "IPY_MODEL_b04de6976e7d476fa4981293ded26bd6",
       "value": "Dense(n_units=64, relu, in_channels='64', name='hidden_layer2')"
      }
     },
     "9fc5c513843a4c0fa7ae9c8b37c3b4ff": {
      "model_module": "@jupyter-widgets/controls",
      "model_module_version": "1.5.0",
      "model_name": "DescriptionStyleModel",
      "state": {
       "description_width": ""
      }
     },
     "9fd6a74ce4e54ae38816e55d19327281": {
      "model_module": "@jupyter-widgets/controls",
      "model_module_version": "1.5.0",
      "model_name": "LabelModel",
      "state": {
       "layout": "IPY_MODEL_68d4eab6f1cf4e2fa0e229ecdce8d392",
       "style": "IPY_MODEL_bb0110f57f39444db2d635a30437c85d",
       "value": "amsgrad"
      }
     },
     "a01f34500cfc486289f3334e3cd222df": {
      "model_module": "@jupyter-widgets/controls",
      "model_module_version": "1.5.0",
      "model_name": "HTMLModel",
      "state": {
       "layout": "IPY_MODEL_7a4be7c4229640b18c29d60d30cc0e70",
       "style": "IPY_MODEL_7d64c7c8f2dc4d4eb6218e55ae44bfbe",
       "value": "<font size=4><B>Algorithm Selector</B>"
      }
     },
     "a02320673c484c46848d7aeb6fda6e18": {
      "model_module": "@jupyter-widgets/controls",
      "model_module_version": "1.5.0",
      "model_name": "DescriptionStyleModel",
      "state": {
       "description_width": ""
      }
     },
     "a0371ec3949944198211395dc7848ba6": {
      "model_module": "@jupyter-widgets/controls",
      "model_module_version": "1.5.0",
      "model_name": "DropdownModel",
      "state": {
       "_options_labels": [
        "Acrobot-v1",
        "CartPole-v1",
        "CartPole-v0",
        "MountainCar-v0",
        "MountainCarContinuous-v0",
        "Pendulum-v0"
       ],
       "description": "env name:",
       "index": 5,
       "layout": "IPY_MODEL_45e906bdfe7a464d848f9c972f536d31",
       "style": "IPY_MODEL_ad07aedb699c4a3da0110a187e381619"
      }
     },
     "a038c2e1def5473484b4d9bbc5393145": {
      "model_module": "@jupyter-widgets/controls",
      "model_module_version": "1.5.0",
      "model_name": "LabelModel",
      "state": {
       "layout": "IPY_MODEL_6923c73eeac747fdbe41b2062e257a58",
       "style": "IPY_MODEL_93fcd071ff834486b199ab26105f6901",
       "value": "save_interval"
      }
     },
     "a0b2c18704554c60bfb62c5c7ea46e34": {
      "model_module": "@jupyter-widgets/controls",
      "model_module_version": "1.5.0",
      "model_name": "LabelModel",
      "state": {
       "layout": "IPY_MODEL_40747ee3248e4cbca2b22e3201e7ae52",
       "style": "IPY_MODEL_7f3f44cbaac94755810c0e589d048490",
       "value": "ValueNetwork"
      }
     },
     "a18265de326b4d399e760f9d2e5bb238": {
      "model_module": "@jupyter-widgets/controls",
      "model_module_version": "1.5.0",
      "model_name": "GridBoxModel",
      "state": {
       "children": [
        "IPY_MODEL_76d1b335a0134c19852090005ae135c4",
        "IPY_MODEL_dd631605869640d9b8564da50fd7f14e",
        "IPY_MODEL_dd3cb8ec44e2454a9fd787b26a794aa2",
        "IPY_MODEL_e2d50772ac80494ea293f047efb33527",
        "IPY_MODEL_3c695e15ebbd4ecfb555b0fe5221ad10",
        "IPY_MODEL_f401d82a291f4cdb9d44cf62f1c48978",
        "IPY_MODEL_f8eb99b0291b45dda1b391805141e984",
        "IPY_MODEL_1d03aaf95d45497ca74e337a82632cee",
        "IPY_MODEL_ec1d469669a2411f9a5a7a1774480576",
        "IPY_MODEL_2c48650276864e79a7b82413ddd8c6fa",
        "IPY_MODEL_e923a0f829b14a6b83f8ef159b7e1e67",
        "IPY_MODEL_ad74a56ab452440e86d1ff508a37e2fc",
        "IPY_MODEL_a8c7fbd1b9e64ebebfc11f7da9dfbfd5",
        "IPY_MODEL_1eec2203d3bf49c2876604c21291cc18"
       ],
       "layout": "IPY_MODEL_31fe17808d8e4f7ead5964af2e4f5894"
      }
     },
     "a23a881ee9034a33a8d23c63c65490c7": {
      "model_module": "@jupyter-widgets/base",
      "model_module_version": "1.2.0",
      "model_name": "LayoutModel",
      "state": {}
     },
     "a2bb633318304f79a811eb07e18da7f5": {
      "model_module": "@jupyter-widgets/controls",
      "model_module_version": "1.5.0",
      "model_name": "VBoxModel",
      "state": {
       "children": [
        "IPY_MODEL_fca1d8802f264b48aa3f7bef2b5f5b81",
        "IPY_MODEL_27fbf57b093b4444b8990601eaddca26",
        "IPY_MODEL_4b9184b437ac441e8c485894889e7fd4"
       ],
       "layout": "IPY_MODEL_1c09f9523eb2469ab864ddcd5f15f417"
      }
     },
     "a2bf112fa96c4e8aba14a96af2788dbc": {
      "model_module": "@jupyter-widgets/controls",
      "model_module_version": "1.5.0",
      "model_name": "DescriptionStyleModel",
      "state": {
       "description_width": ""
      }
     },
     "a32e41356969452abe56558608109dc8": {
      "model_module": "@jupyter-widgets/controls",
      "model_module_version": "1.5.0",
      "model_name": "DescriptionStyleModel",
      "state": {
       "description_width": ""
      }
     },
     "a496bd2aabab465fbcf0022dc1acd19f": {
      "model_module": "@jupyter-widgets/controls",
      "model_module_version": "1.5.0",
      "model_name": "LabelModel",
      "state": {
       "layout": "IPY_MODEL_f72ef10c1acd44608d2db2b932f2b167",
       "style": "IPY_MODEL_077609b632e64492acbc9a009222e086",
       "value": "ValueNetwork"
      }
     },
     "a517b57a04ed49bf82a0820df4bcf3b2": {
      "model_module": "@jupyter-widgets/base",
      "model_module_version": "1.2.0",
      "model_name": "LayoutModel",
      "state": {
       "align_items": "center"
      }
     },
     "a592a51f7f3d40cf81de06ff0c9e1546": {
      "model_module": "@jupyter-widgets/base",
      "model_module_version": "1.2.0",
      "model_name": "LayoutModel",
      "state": {
       "grid_area": "widget004"
      }
     },
     "a5d8986e9aad47b1ba7821ddf2850c7a": {
      "model_module": "@jupyter-widgets/controls",
      "model_module_version": "1.5.0",
      "model_name": "DescriptionStyleModel",
      "state": {
       "description_width": ""
      }
     },
     "a6379873f0434d53a6ad52553c164bdb": {
      "model_module": "@jupyter-widgets/base",
      "model_module_version": "1.2.0",
      "model_name": "LayoutModel",
      "state": {}
     },
     "a6a4d48baea44d659e3b2dd7e54fcd17": {
      "model_module": "@jupyter-widgets/controls",
      "model_module_version": "1.5.0",
      "model_name": "FloatTextModel",
      "state": {
       "description": "Manual input:",
       "layout": "IPY_MODEL_f9cd83ba01bb440b9510e0ada3cfd4aa",
       "step": null,
       "style": "IPY_MODEL_1a3aa6da2cad4cfd9696b32125ab645b",
       "value": 200
      }
     },
     "a7d002d3e5454965af1d9cdb2e54e7ca": {
      "model_module": "@jupyter-widgets/controls",
      "model_module_version": "1.5.0",
      "model_name": "LabelModel",
      "state": {
       "layout": "IPY_MODEL_1b48b0f90cef4077aa20b9ee8be52e9b",
       "style": "IPY_MODEL_3d9166fc4fcf43f3b930ebc7f996a5bf",
       "value": "Adam"
      }
     },
     "a7d8b17ff9fd43298bc30e0471ade94f": {
      "model_module": "@jupyter-widgets/controls",
      "model_module_version": "1.5.0",
      "model_name": "DescriptionStyleModel",
      "state": {
       "description_width": ""
      }
     },
     "a860d9c958c646aa89ae598dc67eaa08": {
      "model_module": "@jupyter-widgets/base",
      "model_module_version": "1.2.0",
      "model_name": "LayoutModel",
      "state": {}
     },
     "a89219097e994deb9caa9b27d8bd2866": {
      "model_module": "@jupyter-widgets/controls",
      "model_module_version": "1.5.0",
      "model_name": "DescriptionStyleModel",
      "state": {
       "description_width": ""
      }
     },
     "a899edcecbcf49d1a1f57b48bed97865": {
      "model_module": "@jupyter-widgets/base",
      "model_module_version": "1.2.0",
      "model_name": "LayoutModel",
      "state": {}
     },
     "a8c7fbd1b9e64ebebfc11f7da9dfbfd5": {
      "model_module": "@jupyter-widgets/controls",
      "model_module_version": "1.5.0",
      "model_name": "LabelModel",
      "state": {
       "layout": "IPY_MODEL_ae3b1f8332bd40ab9ef5ec6dfd688123",
       "style": "IPY_MODEL_6efa143c4b9d43aa94ed8cfe56824583",
       "value": "epsilon"
      }
     },
     "a8e550f371f94677a29e238776be2cdb": {
      "model_module": "@jupyter-widgets/controls",
      "model_module_version": "1.5.0",
      "model_name": "DescriptionStyleModel",
      "state": {
       "description_width": ""
      }
     },
     "aafbebe0ec5b4425acf54f0ad9f6c80f": {
      "model_module": "@jupyter-widgets/controls",
      "model_module_version": "1.5.0",
      "model_name": "FloatTextModel",
      "state": {
       "description": "Manual input:",
       "layout": "IPY_MODEL_49c009585e524d98af99d984cf65a85b",
       "step": null,
       "style": "IPY_MODEL_76dec90334724f3ba9e51ba05856ff79",
       "value": 100
      }
     },
     "ab2e3b3dc5024debb0c00c3d27d48a8b": {
      "model_module": "@jupyter-widgets/base",
      "model_module_version": "1.2.0",
      "model_name": "LayoutModel",
      "state": {}
     },
     "ac4da45cf7d84d5fa0ea8963afbe5c12": {
      "model_module": "@jupyter-widgets/base",
      "model_module_version": "1.2.0",
      "model_name": "LayoutModel",
      "state": {
       "grid_area": "widget001"
      }
     },
     "ad07aedb699c4a3da0110a187e381619": {
      "model_module": "@jupyter-widgets/controls",
      "model_module_version": "1.5.0",
      "model_name": "DescriptionStyleModel",
      "state": {
       "description_width": ""
      }
     },
     "ad34362a6d0b43edb782d9f50d666a41": {
      "model_module": "@jupyter-widgets/base",
      "model_module_version": "1.2.0",
      "model_name": "LayoutModel",
      "state": {}
     },
     "ad74a56ab452440e86d1ff508a37e2fc": {
      "model_module": "@jupyter-widgets/controls",
      "model_module_version": "1.5.0",
      "model_name": "LabelModel",
      "state": {
       "layout": "IPY_MODEL_379d32750a8c4e88b3b6a8d76c3ee91b",
       "style": "IPY_MODEL_b1240a01113b4044b84ce15397d29251",
       "value": "0.0"
      }
     },
     "ae1716b3153545b394ccc02357c0cecc": {
      "model_module": "@jupyter-widgets/base",
      "model_module_version": "1.2.0",
      "model_name": "LayoutModel",
      "state": {}
     },
     "ae3b1f8332bd40ab9ef5ec6dfd688123": {
      "model_module": "@jupyter-widgets/base",
      "model_module_version": "1.2.0",
      "model_name": "LayoutModel",
      "state": {
       "grid_area": "widget013"
      }
     },
     "ae877e1e2a554a19b78fb9a12f60e5d3": {
      "model_module": "@jupyter-widgets/base",
      "model_module_version": "1.2.0",
      "model_name": "LayoutModel",
      "state": {}
     },
     "aeecfc3325ec482ebd31ced3fc2e6839": {
      "model_module": "@jupyter-widgets/base",
      "model_module_version": "1.2.0",
      "model_name": "LayoutModel",
      "state": {}
     },
     "af4e53453b1a434e9426fd63d61888c5": {
      "model_module": "@jupyter-widgets/controls",
      "model_module_version": "1.5.0",
      "model_name": "VBoxModel",
      "state": {
       "children": [
        "IPY_MODEL_fca98009fe56433b97f1fd16969f9a35",
        "IPY_MODEL_0c0d922d9ed14199ab9b8f48b9e8ba1d",
        "IPY_MODEL_5bced3d11d4a41a4b3e1c712f83b98e4"
       ],
       "layout": "IPY_MODEL_7a6c0819e1344119aae9ef136830ad44"
      }
     },
     "afeba836a14d4fb6a7c5407794848b80": {
      "model_module": "@jupyter-widgets/base",
      "model_module_version": "1.2.0",
      "model_name": "LayoutModel",
      "state": {
       "grid_area": "widget004"
      }
     },
     "b04b868ce504489c82bd8818501b3ac3": {
      "model_module": "@jupyter-widgets/controls",
      "model_module_version": "1.5.0",
      "model_name": "LabelModel",
      "state": {
       "layout": "IPY_MODEL_8991ca296f464086aab8e12cc644430c",
       "style": "IPY_MODEL_683e3afa65604f1b85604a79ec228a2b",
       "value": "decay"
      }
     },
     "b04de6976e7d476fa4981293ded26bd6": {
      "model_module": "@jupyter-widgets/controls",
      "model_module_version": "1.5.0",
      "model_name": "DescriptionStyleModel",
      "state": {
       "description_width": ""
      }
     },
     "b04fb98f9bb24f24bfa2c883cb8bd2fc": {
      "model_module": "@jupyter-widgets/controls",
      "model_module_version": "1.5.0",
      "model_name": "VBoxModel",
      "state": {
       "children": [
        "IPY_MODEL_434eec441fb94a30bcb70bec50c60d78",
        "IPY_MODEL_0b1a53d081f547f8ab913cd15fe70058",
        "IPY_MODEL_0af6103ca9e44bb4a44c62b84b39415f",
        "IPY_MODEL_0b1a53d081f547f8ab913cd15fe70058",
        "IPY_MODEL_6f0bd8ffadf44461a70b1031b3f65064"
       ],
       "layout": "IPY_MODEL_452324b6d7cc4cf28d456787efc23b8f"
      }
     },
     "b106f6f6a7f047a4a11ec9f9a23804e2": {
      "model_module": "@jupyter-widgets/controls",
      "model_module_version": "1.5.0",
      "model_name": "DropdownModel",
      "state": {
       "_options_labels": [
        "AC",
        "DDPG",
        "PG",
        "PPO",
        "SAC",
        "TD3",
        "TRPO"
       ],
       "description": "Algorithms:",
       "index": 0,
       "layout": "IPY_MODEL_eb5620a9d421450a9c0b629c52d3d8ba",
       "style": "IPY_MODEL_1dbbcf0744194117b3463d5ae8af00ef"
      }
     },
     "b1240a01113b4044b84ce15397d29251": {
      "model_module": "@jupyter-widgets/controls",
      "model_module_version": "1.5.0",
      "model_name": "DescriptionStyleModel",
      "state": {
       "description_width": ""
      }
     },
     "b18ac7a05b7c4d58813a3e735173a3ca": {
      "model_module": "@jupyter-widgets/controls",
      "model_module_version": "1.5.0",
      "model_name": "LabelModel",
      "state": {
       "layout": "IPY_MODEL_a23a881ee9034a33a8d23c63c65490c7",
       "style": "IPY_MODEL_014bf4270fea44b6aad4c80c7a5979b7",
       "value": "Choose your environment"
      }
     },
     "b20aaab10e6a49138d9cf0a414321c49": {
      "model_module": "@jupyter-widgets/controls",
      "model_module_version": "1.5.0",
      "model_name": "VBoxModel",
      "state": {
       "children": [
        "IPY_MODEL_c06d332516bf42b2b764cc7b6117aade",
        "IPY_MODEL_891909eab8204a4bb78c9a468bc20112"
       ],
       "layout": "IPY_MODEL_ce069bda2c504adabddf4308b196d410"
      }
     },
     "b2ed3221465c4c7097b79683b8e5c5f0": {
      "model_module": "@jupyter-widgets/base",
      "model_module_version": "1.2.0",
      "model_name": "LayoutModel",
      "state": {
       "align_items": "stretch",
       "display": "flex",
       "grid_area": "widget002",
       "justify_content": "center"
      }
     },
     "b316a517fda34deba03047080e565a59": {
      "model_module": "@jupyter-widgets/base",
      "model_module_version": "1.2.0",
      "model_name": "LayoutModel",
      "state": {
       "grid_area": "widget008"
      }
     },
     "b3a43d5f73df48299fdf24a855c623a7": {
      "model_module": "@jupyter-widgets/controls",
      "model_module_version": "1.5.0",
      "model_name": "DescriptionStyleModel",
      "state": {
       "description_width": ""
      }
     },
     "b4047180a5aa44479c358d8c12f0c5d5": {
      "model_module": "@jupyter-widgets/controls",
      "model_module_version": "1.5.0",
      "model_name": "LabelModel",
      "state": {
       "layout": "IPY_MODEL_3025ff51115247eebfcfe7e2a18e414e",
       "style": "IPY_MODEL_5f1fda7eb4ac4ce694f721e312e205ab",
       "value": "0.0001"
      }
     },
     "b42c755dec514e6fa26ca97f3f0ef923": {
      "model_module": "@jupyter-widgets/controls",
      "model_module_version": "1.5.0",
      "model_name": "HBoxModel",
      "state": {
       "children": [
        "IPY_MODEL_85d35dbed0594a3a837f536309af0b59",
        "IPY_MODEL_0201bde3e922471d9bb86857be61df95"
       ],
       "layout": "IPY_MODEL_5efb085669c2400a909ac37b5cb4e45e"
      }
     },
     "b4d945e45eae41ceb40de345939615ad": {
      "model_module": "@jupyter-widgets/controls",
      "model_module_version": "1.5.0",
      "model_name": "LabelModel",
      "state": {
       "layout": "IPY_MODEL_42f8297b00d240308e7403a004a1c6b4",
       "style": "IPY_MODEL_f48e72d8d0b5470798d5faeed3dc8e40",
       "value": "learning_rate"
      }
     },
     "b50b99192c944a348df722c9f5cdaa90": {
      "model_module": "@jupyter-widgets/base",
      "model_module_version": "1.2.0",
      "model_name": "LayoutModel",
      "state": {}
     },
     "b5214d589d704727964cdb67261b2d47": {
      "model_module": "@jupyter-widgets/controls",
      "model_module_version": "1.5.0",
      "model_name": "FloatTextModel",
      "state": {
       "description": "Manual input:",
       "layout": "IPY_MODEL_ad34362a6d0b43edb782d9f50d666a41",
       "step": null,
       "style": "IPY_MODEL_dca0afd22296462f8a0e11b82566f289",
       "value": 0.9
      }
     },
     "b58381d8050044ee9df6c0857e3a06e4": {
      "model_module": "@jupyter-widgets/base",
      "model_module_version": "1.2.0",
      "model_name": "LayoutModel",
      "state": {
       "grid_template_areas": "\n                                           \"net_label net_info\"\n                                           \"opt_label opt_info\"\n                                           "
      }
     },
     "b5ac8df291f9438bacc64a6cb2805620": {
      "model_module": "@jupyter-widgets/base",
      "model_module_version": "1.2.0",
      "model_name": "LayoutModel",
      "state": {}
     },
     "b5bcfb7873f44eba8f8f90e018f09b6a": {
      "model_module": "@jupyter-widgets/base",
      "model_module_version": "1.2.0",
      "model_name": "LayoutModel",
      "state": {
       "grid_area": "widget012"
      }
     },
     "b5dd447dec9c48bc8b1bb664c9553912": {
      "model_module": "@jupyter-widgets/controls",
      "model_module_version": "1.5.0",
      "model_name": "SliderStyleModel",
      "state": {
       "description_width": ""
      }
     },
     "b64d5e345cb5482595aa92662c8f162c": {
      "model_module": "@jupyter-widgets/controls",
      "model_module_version": "1.5.0",
      "model_name": "DescriptionStyleModel",
      "state": {
       "description_width": ""
      }
     },
     "b672fea2d3ac4732a92e992eaaef260e": {
      "model_module": "@jupyter-widgets/base",
      "model_module_version": "1.2.0",
      "model_name": "LayoutModel",
      "state": {
       "grid_area": "widget009"
      }
     },
     "b85dbc19731e4b84bb6122ea52367809": {
      "model_module": "@jupyter-widgets/controls",
      "model_module_version": "1.5.0",
      "model_name": "DescriptionStyleModel",
      "state": {
       "description_width": ""
      }
     },
     "b92bc4065ee4473aa6e1b4051e044dee": {
      "model_module": "@jupyter-widgets/controls",
      "model_module_version": "1.5.0",
      "model_name": "LabelModel",
      "state": {
       "layout": "IPY_MODEL_629ece3b43ac4c8a8c2f83733a180978",
       "style": "IPY_MODEL_38f46c0b84c84233a228758c9b306a79",
       "value": "amsgrad"
      }
     },
     "b9743661bbd24d94969c463e1f77d6e8": {
      "model_module": "@jupyter-widgets/base",
      "model_module_version": "1.2.0",
      "model_name": "LayoutModel",
      "state": {}
     },
     "b979276c5b584ebab1400eea707b2c39": {
      "model_module": "@jupyter-widgets/controls",
      "model_module_version": "1.5.0",
      "model_name": "DescriptionStyleModel",
      "state": {
       "description_width": ""
      }
     },
     "b9ad33908a4f4a6ba687c820c123c37a": {
      "model_module": "@jupyter-widgets/base",
      "model_module_version": "1.2.0",
      "model_name": "LayoutModel",
      "state": {
       "grid_area": "widget014"
      }
     },
     "bb0110f57f39444db2d635a30437c85d": {
      "model_module": "@jupyter-widgets/controls",
      "model_module_version": "1.5.0",
      "model_name": "DescriptionStyleModel",
      "state": {
       "description_width": ""
      }
     },
     "bb04f52581bb496e9a6931ce291714c9": {
      "model_module": "@jupyter-widgets/controls",
      "model_module_version": "1.5.0",
      "model_name": "DescriptionStyleModel",
      "state": {
       "description_width": ""
      }
     },
     "bb5d38052b40427585a8ec928bdef7b5": {
      "model_module": "@jupyter-widgets/controls",
      "model_module_version": "1.5.0",
      "model_name": "HBoxModel",
      "state": {
       "children": [
        "IPY_MODEL_ca41ace6e197496b8d0e375f53b92729",
        "IPY_MODEL_081136f1075542a3999ce83eba68fdb5"
       ],
       "layout": "IPY_MODEL_4a88a99c974d47da993c8bde3faab362"
      }
     },
     "bcb79998188240e99279f9cda7e004d9": {
      "model_module": "@jupyter-widgets/base",
      "model_module_version": "1.2.0",
      "model_name": "LayoutModel",
      "state": {}
     },
     "bd7afa2132154beebd89e4320ebcad26": {
      "model_module": "@jupyter-widgets/controls",
      "model_module_version": "1.5.0",
      "model_name": "LabelModel",
      "state": {
       "layout": "IPY_MODEL_b316a517fda34deba03047080e565a59",
       "style": "IPY_MODEL_d21ecfeb69a54154ad0c0cadf69db4fa",
       "value": "0.9"
      }
     },
     "bdb404863da84bdf870e550898f54848": {
      "model_module": "@jupyter-widgets/controls",
      "model_module_version": "1.5.0",
      "model_name": "HBoxModel",
      "state": {
       "children": [
        "IPY_MODEL_7f94bb571172453a920e7bd6d7a9050f",
        "IPY_MODEL_e2ecea0189544c41a0ca172743cf16a1"
       ],
       "layout": "IPY_MODEL_62a5e4f04f554e6580d63bb32f36b3be"
      }
     },
     "be4d4fbbc53d4705963f9b343aff399f": {
      "model_module": "@jupyter-widgets/base",
      "model_module_version": "1.2.0",
      "model_name": "LayoutModel",
      "state": {}
     },
     "bebb739676c74aacb396889de39592e6": {
      "model_module": "@jupyter-widgets/controls",
      "model_module_version": "1.5.0",
      "model_name": "DescriptionStyleModel",
      "state": {
       "description_width": ""
      }
     },
     "bf3a856d0c5f4d47abf596f528a2d947": {
      "model_module": "@jupyter-widgets/base",
      "model_module_version": "1.2.0",
      "model_name": "LayoutModel",
      "state": {}
     },
     "bf620c54949846b49135585c61101b19": {
      "model_module": "@jupyter-widgets/controls",
      "model_module_version": "1.5.0",
      "model_name": "DescriptionStyleModel",
      "state": {
       "description_width": ""
      }
     },
     "bf7a578fb6204ce694235598a0f00ea2": {
      "model_module": "@jupyter-widgets/base",
      "model_module_version": "1.2.0",
      "model_name": "LayoutModel",
      "state": {
       "grid_area": "widget001"
      }
     },
     "bfa16a837ebd4ec795d5aa0a893d5298": {
      "model_module": "@jupyter-widgets/base",
      "model_module_version": "1.2.0",
      "model_name": "LayoutModel",
      "state": {}
     },
     "bfdfc9d77a654743a9ebdfc08ab167da": {
      "model_module": "@jupyter-widgets/base",
      "model_module_version": "1.2.0",
      "model_name": "LayoutModel",
      "state": {}
     },
     "bffd75c7e90346ebb8214c6fe0ce2ab4": {
      "model_module": "@jupyter-widgets/controls",
      "model_module_version": "1.5.0",
      "model_name": "LabelModel",
      "state": {
       "layout": "IPY_MODEL_d9864398064d4a4ea93f2f985bf70bb5",
       "style": "IPY_MODEL_835ef9a1125846679a65d679afb62013",
       "value": "./model/AC-Pendulum-v0"
      }
     },
     "c06d332516bf42b2b764cc7b6117aade": {
      "model_module": "@jupyter-widgets/controls",
      "model_module_version": "1.5.0",
      "model_name": "LabelModel",
      "state": {
       "layout": "IPY_MODEL_d466ecd3ea76446fa72d90acf2d7c5ba",
       "style": "IPY_MODEL_c726054bb59f40aab21ea2d4485ce77e",
       "value": "Learning curve"
      }
     },
     "c083a4b8f36848ed9f277f423ae18084": {
      "model_module": "@jupyter-widgets/controls",
      "model_module_version": "1.5.0",
      "model_name": "LabelModel",
      "state": {
       "layout": "IPY_MODEL_8f90c0a8d78442cfa05aff9b006a94d6",
       "style": "IPY_MODEL_d220d182817c44408e2df2a364760e43",
       "value": "epsilon"
      }
     },
     "c096b60cb96b4aa68be8728e6feb2366": {
      "model_module": "@jupyter-widgets/base",
      "model_module_version": "1.2.0",
      "model_name": "LayoutModel",
      "state": {}
     },
     "c12ffb6b4533460bbdfc7404ff89d807": {
      "model_module": "@jupyter-widgets/controls",
      "model_module_version": "1.5.0",
      "model_name": "LabelModel",
      "state": {
       "layout": "IPY_MODEL_842ea79123034275adec1df392a4846d",
       "style": "IPY_MODEL_0cabfd585d5d4421a05805698bc1c8ad",
       "value": "beta_2"
      }
     },
     "c2160078393b421d9f3a4343f37307e2": {
      "model_module": "@jupyter-widgets/controls",
      "model_module_version": "1.5.0",
      "model_name": "LabelModel",
      "state": {
       "layout": "IPY_MODEL_38484ea61c3449a1b809d8526ead582d",
       "style": "IPY_MODEL_7ff9e3e9f09b40d398b6c898e5ee9653",
       "value": "False"
      }
     },
     "c234ed19a3204e1d9452d6686e014efb": {
      "model_module": "@jupyter-widgets/base",
      "model_module_version": "1.2.0",
      "model_name": "LayoutModel",
      "state": {}
     },
     "c2aa94c81efc4f3f826adcb847fbdb89": {
      "model_module": "@jupyter-widgets/controls",
      "model_module_version": "1.5.0",
      "model_name": "FloatProgressModel",
      "state": {
       "description": "Progress",
       "layout": "IPY_MODEL_5b87473fb6cc473a89998a285388f4da",
       "max": 10,
       "style": "IPY_MODEL_6f525160109d45299758550c08196bd9",
       "value": 10
      }
     },
     "c2eca071d21942c98a47aaf881130883": {
      "model_module": "@jupyter-widgets/controls",
      "model_module_version": "1.5.0",
      "model_name": "FloatSliderModel",
      "state": {
       "continuous_update": false,
       "description": "Slider input:",
       "layout": "IPY_MODEL_ae1716b3153545b394ccc02357c0cecc",
       "max": 400,
       "readout_format": ".0f",
       "style": "IPY_MODEL_8f9477722bb54e6185f07c7069ed73bc",
       "value": 200
      }
     },
     "c3233dc4967548279ff54f73e91e27a0": {
      "model_module": "@jupyter-widgets/controls",
      "model_module_version": "1.5.0",
      "model_name": "DescriptionStyleModel",
      "state": {
       "description_width": ""
      }
     },
     "c34d5f3024f24951b4f478bca62dd7c7": {
      "model_module": "@jupyter-widgets/controls",
      "model_module_version": "1.5.0",
      "model_name": "LabelModel",
      "state": {
       "layout": "IPY_MODEL_40c1e5560977460b86028ca09ee94662",
       "style": "IPY_MODEL_e00c049b23f34848a62ee225b63ec0b7",
       "value": "amsgrad"
      }
     },
     "c35cf89d5b4c42c886c9c83fdc93c8e6": {
      "model_module": "@jupyter-widgets/controls",
      "model_module_version": "1.5.0",
      "model_name": "DescriptionStyleModel",
      "state": {
       "description_width": ""
      }
     },
     "c3c09aa3ecea45eda2b142c857c5d7c5": {
      "model_module": "@jupyter-widgets/base",
      "model_module_version": "1.2.0",
      "model_name": "LayoutModel",
      "state": {
       "grid_area": "widget011"
      }
     },
     "c3d17e5a575344968f8b84a174b26ba9": {
      "model_module": "@jupyter-widgets/base",
      "model_module_version": "1.2.0",
      "model_name": "LayoutModel",
      "state": {
       "grid_area": "widget004"
      }
     },
     "c3ef353dd171416da3dc55582107fa67": {
      "model_module": "@jupyter-widgets/controls",
      "model_module_version": "1.5.0",
      "model_name": "VBoxModel",
      "state": {
       "children": [
        "IPY_MODEL_266e10703ed340a78b259c7d3ddc8836",
        "IPY_MODEL_64750206fa3a48119aa85e75f5ff2de8"
       ],
       "layout": "IPY_MODEL_a517b57a04ed49bf82a0820df4bcf3b2"
      }
     },
     "c4662ffdadef4c7d82aba5ddca1fbfda": {
      "model_module": "@jupyter-widgets/controls",
      "model_module_version": "1.5.0",
      "model_name": "DescriptionStyleModel",
      "state": {
       "description_width": ""
      }
     },
     "c480ff00167c4205a51065548cbea855": {
      "model_module": "@jupyter-widgets/controls",
      "model_module_version": "1.5.0",
      "model_name": "DescriptionStyleModel",
      "state": {
       "description_width": ""
      }
     },
     "c60dc42b295c47138b76205df9071217": {
      "model_module": "@jupyter-widgets/controls",
      "model_module_version": "1.5.0",
      "model_name": "HBoxModel",
      "state": {
       "children": [
        "IPY_MODEL_432a3a690b36409192aa3ee4dd5fedf8",
        "IPY_MODEL_08f5684d8e194916ac04ed379e2bf022"
       ],
       "layout": "IPY_MODEL_48392da1f6c64d3fad859465d0d0095b"
      }
     },
     "c726054bb59f40aab21ea2d4485ce77e": {
      "model_module": "@jupyter-widgets/controls",
      "model_module_version": "1.5.0",
      "model_name": "DescriptionStyleModel",
      "state": {
       "description_width": ""
      }
     },
     "c75a9640bb26465785ca214520007519": {
      "model_module": "@jupyter-widgets/controls",
      "model_module_version": "1.5.0",
      "model_name": "DescriptionStyleModel",
      "state": {
       "description_width": ""
      }
     },
     "c7a9f23b553e43a78d5c0ced37526327": {
      "model_module": "@jupyter-widgets/controls",
      "model_module_version": "1.5.0",
      "model_name": "DescriptionStyleModel",
      "state": {
       "description_width": ""
      }
     },
     "c90e24c07a754360836c2acc6f3a7e22": {
      "model_module": "@jupyter-widgets/controls",
      "model_module_version": "1.5.0",
      "model_name": "VBoxModel",
      "state": {
       "children": [
        "IPY_MODEL_9ac98c15de5a4548a99d80e8ea3004c9",
        "IPY_MODEL_f10d3787733a4ece9120c3641017114b"
       ],
       "layout": "IPY_MODEL_6187b72c80f64272a6c33c90cb582c4c"
      }
     },
     "ca41ace6e197496b8d0e375f53b92729": {
      "model_module": "@jupyter-widgets/controls",
      "model_module_version": "1.5.0",
      "model_name": "VBoxModel",
      "state": {
       "children": [
        "IPY_MODEL_516cc7132ca94faab3023ffcd1ed4cd4",
        "IPY_MODEL_329f804132904f47a73d10b3ccba4b4d",
        "IPY_MODEL_a0371ec3949944198211395dc7848ba6"
       ],
       "layout": "IPY_MODEL_9c226167c8fb4cfab3a7161a87588ae1"
      }
     },
     "ce069bda2c504adabddf4308b196d410": {
      "model_module": "@jupyter-widgets/base",
      "model_module_version": "1.2.0",
      "model_name": "LayoutModel",
      "state": {}
     },
     "ce5b0166c393435a840819472b761b8c": {
      "model_module": "@jupyter-widgets/controls",
      "model_module_version": "1.5.0",
      "model_name": "DescriptionStyleModel",
      "state": {
       "description_width": ""
      }
     },
     "ce5b912531614dfe90ee3e20fa7ba467": {
      "model_module": "@jupyter-widgets/base",
      "model_module_version": "1.2.0",
      "model_name": "LayoutModel",
      "state": {
       "height": "250px",
       "width": "350px"
      }
     },
     "ce777268358f48608666122680449e3c": {
      "model_module": "@jupyter-widgets/controls",
      "model_module_version": "1.5.0",
      "model_name": "DescriptionStyleModel",
      "state": {
       "description_width": ""
      }
     },
     "ce96b4fa2ae14c6f8f4af830f9442000": {
      "model_module": "@jupyter-widgets/controls",
      "model_module_version": "1.5.0",
      "model_name": "DescriptionStyleModel",
      "state": {
       "description_width": ""
      }
     },
     "cefe9c21582d46dc9471bee195b466b7": {
      "model_module": "@jupyter-widgets/base",
      "model_module_version": "1.2.0",
      "model_name": "LayoutModel",
      "state": {}
     },
     "cf3de6c59d124068af4aef37293c26e2": {
      "model_module": "@jupyter-widgets/base",
      "model_module_version": "1.2.0",
      "model_name": "LayoutModel",
      "state": {
       "grid_area": "widget003"
      }
     },
     "cfb6b6bcedad4f61893206fb1eb28385": {
      "model_module": "@jupyter-widgets/controls",
      "model_module_version": "1.5.0",
      "model_name": "GridBoxModel",
      "state": {
       "children": [
        "IPY_MODEL_283080f17fcf4286b2e6e059bcda3370",
        "IPY_MODEL_04461564de8c45d6af4c6055f7b4c17f",
        "IPY_MODEL_9dfcd5e4ec744ed4a0a9091bed5ed2d8",
        "IPY_MODEL_334d1a726d2347db82e42df5760618b3",
        "IPY_MODEL_6c751fa2c2aa415ea57d3c9b0e11b22d",
        "IPY_MODEL_43730220bf8e489cae588fcf375d08cf",
        "IPY_MODEL_a038c2e1def5473484b4d9bbc5393145",
        "IPY_MODEL_7af9623e94c64555b01efa581f338e60",
        "IPY_MODEL_389174ab87e24a48a23ad5f81a32da61",
        "IPY_MODEL_4ee9cbafcaad44de9f9e7453ee765047",
        "IPY_MODEL_3a3916bde1e849aeae0e2701258ddc34",
        "IPY_MODEL_88aafdf648784ac7954ce933431f9a3a"
       ],
       "layout": "IPY_MODEL_19b0d8173d9141e0a0db8d0b2110c98c"
      }
     },
     "cfc4c351d9da4a2bbe36bb1288f74e82": {
      "model_module": "@jupyter-widgets/base",
      "model_module_version": "1.2.0",
      "model_name": "LayoutModel",
      "state": {}
     },
     "d02f0cd6f8f94156ac86605286a6ee78": {
      "model_module": "@jupyter-widgets/base",
      "model_module_version": "1.2.0",
      "model_name": "LayoutModel",
      "state": {
       "align_items": "center"
      }
     },
     "d16d026731104f40ad77f1c7b8f77bf6": {
      "model_module": "@jupyter-widgets/base",
      "model_module_version": "1.2.0",
      "model_name": "LayoutModel",
      "state": {
       "grid_area": "widget009"
      }
     },
     "d1b7a611e0ea474991c6034e7e7a9e98": {
      "model_module": "@jupyter-widgets/base",
      "model_module_version": "1.2.0",
      "model_name": "LayoutModel",
      "state": {}
     },
     "d1ba6fbf21674589b3f585f6e0f9638b": {
      "model_module": "@jupyter-widgets/controls",
      "model_module_version": "1.5.0",
      "model_name": "LabelModel",
      "state": {
       "layout": "IPY_MODEL_79611f87c64c431794f17eccbbd60f38",
       "style": "IPY_MODEL_a2bf112fa96c4e8aba14a96af2788dbc",
       "value": "0.0"
      }
     },
     "d20f2266d6fc44df988c78b63b202a81": {
      "model_module": "@jupyter-widgets/base",
      "model_module_version": "1.2.0",
      "model_name": "LayoutModel",
      "state": {
       "grid_area": "widget014"
      }
     },
     "d21ecfeb69a54154ad0c0cadf69db4fa": {
      "model_module": "@jupyter-widgets/controls",
      "model_module_version": "1.5.0",
      "model_name": "DescriptionStyleModel",
      "state": {
       "description_width": ""
      }
     },
     "d220d182817c44408e2df2a364760e43": {
      "model_module": "@jupyter-widgets/controls",
      "model_module_version": "1.5.0",
      "model_name": "DescriptionStyleModel",
      "state": {
       "description_width": ""
      }
     },
     "d2ba7f491ec94768be174bba323aff6d": {
      "model_module": "@jupyter-widgets/base",
      "model_module_version": "1.2.0",
      "model_name": "LayoutModel",
      "state": {
       "grid_area": "widget009"
      }
     },
     "d34c7789bb974de1a36ef3cc45737b52": {
      "model_module": "@jupyter-widgets/base",
      "model_module_version": "1.2.0",
      "model_name": "LayoutModel",
      "state": {
       "grid_area": "widget010"
      }
     },
     "d439f3de7aeb4f059483dedb8aca131a": {
      "model_module": "@jupyter-widgets/controls",
      "model_module_version": "1.5.0",
      "model_name": "DescriptionStyleModel",
      "state": {
       "description_width": ""
      }
     },
     "d466ecd3ea76446fa72d90acf2d7c5ba": {
      "model_module": "@jupyter-widgets/base",
      "model_module_version": "1.2.0",
      "model_name": "LayoutModel",
      "state": {}
     },
     "d48e8464b37c4f0099d42e59369dbab6": {
      "model_module": "@jupyter-widgets/controls",
      "model_module_version": "1.5.0",
      "model_name": "LabelModel",
      "state": {
       "layout": "IPY_MODEL_b672fea2d3ac4732a92e992eaaef260e",
       "style": "IPY_MODEL_f834d6547a954a478d9e755653e4f5a1",
       "value": "beta_2"
      }
     },
     "d4c91e304ca34f88a4c959ecc4683678": {
      "model_module": "@jupyter-widgets/controls",
      "model_module_version": "1.5.0",
      "model_name": "DescriptionStyleModel",
      "state": {
       "description_width": ""
      }
     },
     "d5a3129aed5d47718c478523d35359ad": {
      "model_module": "@jupyter-widgets/controls",
      "model_module_version": "1.5.0",
      "model_name": "DescriptionStyleModel",
      "state": {
       "description_width": ""
      }
     },
     "d6a04d9b77b54ae89af21fa5551e205e": {
      "model_module": "@jupyter-widgets/controls",
      "model_module_version": "1.5.0",
      "model_name": "LabelModel",
      "state": {
       "layout": "IPY_MODEL_214c87e57eb641bb89644c9f465889ca",
       "style": "IPY_MODEL_7a807eea55d14bae96d792b1e475adcb",
       "value": "save_interval"
      }
     },
     "d6ddb43e654a421ead72beacfae7145e": {
      "model_module": "@jupyter-widgets/controls",
      "model_module_version": "1.5.0",
      "model_name": "LabelModel",
      "state": {
       "layout": "IPY_MODEL_2dab24721ba34bd789afa55d1479464b",
       "style": "IPY_MODEL_0a21d0f35913467a9b266a75d2af8db0",
       "value": "Supported algorithms are shown below"
      }
     },
     "d915d378018e4bd085cf4a0a935e2aaa": {
      "model_module": "@jupyter-widgets/controls",
      "model_module_version": "1.5.0",
      "model_name": "LabelModel",
      "state": {
       "layout": "IPY_MODEL_d16d026731104f40ad77f1c7b8f77bf6",
       "style": "IPY_MODEL_7aba7921241e41af9a32cbe042699485",
       "value": "test_episodes"
      }
     },
     "d91d58d65e864faa90c9cc7bfd2959b0": {
      "model_module": "@jupyter-widgets/controls",
      "model_module_version": "1.5.0",
      "model_name": "FloatTextModel",
      "state": {
       "description": "Manual input:",
       "layout": "IPY_MODEL_182c5797541f4476bb02c95a710f1bca",
       "step": null,
       "style": "IPY_MODEL_6dc0399123f94dd1831a2b2cfb6c3078",
       "value": 10
      }
     },
     "d932e823fc31419d9d00cb89736f8a5f": {
      "model_module": "@jupyter-widgets/controls",
      "model_module_version": "1.5.0",
      "model_name": "VBoxModel",
      "state": {
       "children": [
        "IPY_MODEL_a0b2c18704554c60bfb62c5c7ea46e34",
        "IPY_MODEL_f80bd1f80d99494595e88c9fc5f055d2"
       ],
       "layout": "IPY_MODEL_f3645a595f8c4e1f82d71ed6f97e7dd6"
      }
     },
     "d9864398064d4a4ea93f2f985bf70bb5": {
      "model_module": "@jupyter-widgets/base",
      "model_module_version": "1.2.0",
      "model_name": "LayoutModel",
      "state": {
       "grid_area": "widget004"
      }
     },
     "d99dceda8ae6483f8df298525d45be82": {
      "model_module": "@jupyter-widgets/base",
      "model_module_version": "1.2.0",
      "model_name": "LayoutModel",
      "state": {
       "border": "solid"
      }
     },
     "d9b467355fa940af8f164b0b53137582": {
      "model_module": "@jupyter-widgets/base",
      "model_module_version": "1.2.0",
      "model_name": "LayoutModel",
      "state": {}
     },
     "da04b8e9a4464f7ea141e41904fa3b0f": {
      "model_module": "@jupyter-widgets/controls",
      "model_module_version": "1.5.0",
      "model_name": "DescriptionStyleModel",
      "state": {
       "description_width": ""
      }
     },
     "da5536ed85464ee5a97c44660b985348": {
      "model_module": "@jupyter-widgets/controls",
      "model_module_version": "1.5.0",
      "model_name": "GridBoxModel",
      "state": {
       "children": [
        "IPY_MODEL_469da089cf804101a4cbc570975a1aed",
        "IPY_MODEL_dc4226a0086147b29ba43f099ccad551",
        "IPY_MODEL_7df23ef826fb4c568071b0667bafcd3b",
        "IPY_MODEL_f5879b9ebaab4df9b53830cef8c25e62"
       ],
       "layout": "IPY_MODEL_de78a9211dba417182808fc83d0ebbf8"
      }
     },
     "da5694fd870b41e79f41ebc7d7b8db5e": {
      "model_module": "@jupyter-widgets/base",
      "model_module_version": "1.2.0",
      "model_name": "LayoutModel",
      "state": {
       "grid_area": "widget002"
      }
     },
     "dc12042cc1bb40c98a69bef90468797a": {
      "model_module": "@jupyter-widgets/controls",
      "model_module_version": "1.5.0",
      "model_name": "DescriptionStyleModel",
      "state": {
       "description_width": ""
      }
     },
     "dc4226a0086147b29ba43f099ccad551": {
      "model_module": "@jupyter-widgets/controls",
      "model_module_version": "1.5.0",
      "model_name": "HBoxModel",
      "state": {
       "children": [
        "IPY_MODEL_f5c5c8e022aa4f239006a40e2ac8b990",
        "IPY_MODEL_b5214d589d704727964cdb67261b2d47"
       ],
       "layout": "IPY_MODEL_b2ed3221465c4c7097b79683b8e5c5f0"
      }
     },
     "dca0afd22296462f8a0e11b82566f289": {
      "model_module": "@jupyter-widgets/controls",
      "model_module_version": "1.5.0",
      "model_name": "DescriptionStyleModel",
      "state": {
       "description_width": ""
      }
     },
     "dceb338b27c742cd8733350448a2e798": {
      "model_module": "@jupyter-widgets/controls",
      "model_module_version": "1.5.0",
      "model_name": "DescriptionStyleModel",
      "state": {
       "description_width": ""
      }
     },
     "dd3cb8ec44e2454a9fd787b26a794aa2": {
      "model_module": "@jupyter-widgets/controls",
      "model_module_version": "1.5.0",
      "model_name": "LabelModel",
      "state": {
       "layout": "IPY_MODEL_39c394badc7246fdb12032649f71a1b6",
       "style": "IPY_MODEL_ce96b4fa2ae14c6f8f4af830f9442000",
       "value": "learning_rate"
      }
     },
     "dd51349042bc4341b061da02df9f8be2": {
      "model_module": "@jupyter-widgets/base",
      "model_module_version": "1.2.0",
      "model_name": "LayoutModel",
      "state": {
       "grid_area": "widget003"
      }
     },
     "dd631605869640d9b8564da50fd7f14e": {
      "model_module": "@jupyter-widgets/controls",
      "model_module_version": "1.5.0",
      "model_name": "LabelModel",
      "state": {
       "layout": "IPY_MODEL_2dece16eb4994e5082a1cbeeea4163d0",
       "style": "IPY_MODEL_d439f3de7aeb4f059483dedb8aca131a",
       "value": "Adam"
      }
     },
     "ddaf2150308c4af2876f9f423d0b803d": {
      "model_module": "@jupyter-widgets/controls",
      "model_module_version": "1.5.0",
      "model_name": "DescriptionStyleModel",
      "state": {
       "description_width": ""
      }
     },
     "ddba268ea0db428898643ae0f9a259a3": {
      "model_module": "@jupyter-widgets/base",
      "model_module_version": "1.2.0",
      "model_name": "LayoutModel",
      "state": {
       "align_items": "stretch",
       "display": "flex",
       "grid_area": "widget006",
       "justify_content": "center"
      }
     },
     "de78a9211dba417182808fc83d0ebbf8": {
      "model_module": "@jupyter-widgets/base",
      "model_module_version": "1.2.0",
      "model_name": "LayoutModel",
      "state": {
       "grid_template_areas": "\"widget001 widget002\"\n\"widget003 widget004\"",
       "grid_template_columns": "repeat(2, 1fr)",
       "grid_template_rows": "repeat(2, 1fr)"
      }
     },
     "de8a6e2e9cb447439055e987582fc63e": {
      "model_module": "@jupyter-widgets/controls",
      "model_module_version": "1.5.0",
      "model_name": "DescriptionStyleModel",
      "state": {
       "description_width": ""
      }
     },
     "def02ee29d9a44b19a1fd20f8a4be1a0": {
      "model_module": "@jupyter-widgets/controls",
      "model_module_version": "1.5.0",
      "model_name": "DescriptionStyleModel",
      "state": {
       "description_width": ""
      }
     },
     "df228d4f3b644bb081011555c9f36485": {
      "model_module": "@jupyter-widgets/base",
      "model_module_version": "1.2.0",
      "model_name": "LayoutModel",
      "state": {
       "grid_area": "widget010"
      }
     },
     "df84370f89e949518569f900854e2510": {
      "model_module": "@jupyter-widgets/controls",
      "model_module_version": "1.5.0",
      "model_name": "DescriptionStyleModel",
      "state": {
       "description_width": ""
      }
     },
     "e00c049b23f34848a62ee225b63ec0b7": {
      "model_module": "@jupyter-widgets/controls",
      "model_module_version": "1.5.0",
      "model_name": "DescriptionStyleModel",
      "state": {
       "description_width": ""
      }
     },
     "e09e0ff65ebf454b80a965aaa0f61d32": {
      "model_module": "@jupyter-widgets/controls",
      "model_module_version": "1.5.0",
      "model_name": "VBoxModel",
      "state": {
       "children": [
        "IPY_MODEL_5526ed8ea7b4499eadc0bbb165d7bbc4",
        "IPY_MODEL_d932e823fc31419d9d00cb89736f8a5f"
       ],
       "layout": "IPY_MODEL_54927f9f2cde4416bf0e3b782fbd5118"
      }
     },
     "e0a1f12f4f0e4e31adc281b1fe6dee11": {
      "model_module": "@jupyter-widgets/controls",
      "model_module_version": "1.5.0",
      "model_name": "DescriptionStyleModel",
      "state": {
       "description_width": ""
      }
     },
     "e14f5611fa9242af879512207669394f": {
      "model_module": "@jupyter-widgets/controls",
      "model_module_version": "1.5.0",
      "model_name": "DescriptionStyleModel",
      "state": {
       "description_width": ""
      }
     },
     "e1d753092ae3420ead7a3086b9405f2a": {
      "model_module": "@jupyter-widgets/controls",
      "model_module_version": "1.5.0",
      "model_name": "LabelModel",
      "state": {
       "layout": "IPY_MODEL_e9add15a402448ee8f55d0a65f2d460c",
       "style": "IPY_MODEL_ddaf2150308c4af2876f9f423d0b803d",
       "value": "Pendulum-v0"
      }
     },
     "e1f03c622ff64b3bb4e59fc54e7898a6": {
      "model_module": "@jupyter-widgets/controls",
      "model_module_version": "1.5.0",
      "model_name": "LabelModel",
      "state": {
       "layout": "IPY_MODEL_b5bcfb7873f44eba8f8f90e018f09b6a",
       "style": "IPY_MODEL_c3233dc4967548279ff54f73e91e27a0",
       "value": "0.0"
      }
     },
     "e1f175e02edf40f39585c485ec11cbff": {
      "model_module": "@jupyter-widgets/base",
      "model_module_version": "1.2.0",
      "model_name": "LayoutModel",
      "state": {
       "height": "250px",
       "width": "350px"
      }
     },
     "e210fdbc53d246a2ae55da6a3689745b": {
      "model_module": "@jupyter-widgets/base",
      "model_module_version": "1.2.0",
      "model_name": "LayoutModel",
      "state": {}
     },
     "e224793bc1524f0c91ce3d7ef0e98f8e": {
      "model_module": "@jupyter-widgets/controls",
      "model_module_version": "1.5.0",
      "model_name": "LabelModel",
      "state": {
       "layout": "IPY_MODEL_4d8d22e583c64179817ad9c514bd4490",
       "style": "IPY_MODEL_f91418c725364297a60aa4983253ae07",
       "value": "0.0002"
      }
     },
     "e255dc6e7af7487e8a2729f670bffd8a": {
      "model_module": "@jupyter-widgets/base",
      "model_module_version": "1.2.0",
      "model_name": "LayoutModel",
      "state": {
       "grid_area": "widget008"
      }
     },
     "e27f2db74f874171acd272cf848ddc80": {
      "model_module": "@jupyter-widgets/base",
      "model_module_version": "1.2.0",
      "model_name": "LayoutModel",
      "state": {
       "grid_area": "widget011"
      }
     },
     "e2d50772ac80494ea293f047efb33527": {
      "model_module": "@jupyter-widgets/controls",
      "model_module_version": "1.5.0",
      "model_name": "LabelModel",
      "state": {
       "layout": "IPY_MODEL_a592a51f7f3d40cf81de06ff0c9e1546",
       "style": "IPY_MODEL_d5a3129aed5d47718c478523d35359ad",
       "value": "0.0002"
      }
     },
     "e2ecea0189544c41a0ca172743cf16a1": {
      "model_module": "@jupyter-widgets/controls",
      "model_module_version": "1.5.0",
      "model_name": "FloatTextModel",
      "state": {
       "description": "Manual input:",
       "layout": "IPY_MODEL_1adbcde168d04bcdaed1c410feae74ac",
       "step": null,
       "style": "IPY_MODEL_4e6414fcd34b454e94c982f7233402a7",
       "value": 100
      }
     },
     "e318e3ad8e11430d840261e7eb1b540e": {
      "model_module": "@jupyter-widgets/controls",
      "model_module_version": "1.5.0",
      "model_name": "SliderStyleModel",
      "state": {
       "description_width": ""
      }
     },
     "e35bce23c28f4af3b0d4dce2266ed2e8": {
      "model_module": "@jupyter-widgets/controls",
      "model_module_version": "1.5.0",
      "model_name": "DescriptionStyleModel",
      "state": {
       "description_width": ""
      }
     },
     "e3adb676dd9b48a6bd4e895ac644b653": {
      "model_module": "@jupyter-widgets/controls",
      "model_module_version": "1.5.0",
      "model_name": "DescriptionStyleModel",
      "state": {
       "description_width": ""
      }
     },
     "e41fe8ee1bf04764abe02428057a540a": {
      "model_module": "@jupyter-widgets/controls",
      "model_module_version": "1.5.0",
      "model_name": "DescriptionStyleModel",
      "state": {
       "description_width": ""
      }
     },
     "e4665eee9731436a839eaebea246f048": {
      "model_module": "@jupyter-widgets/controls",
      "model_module_version": "1.5.0",
      "model_name": "LabelModel",
      "state": {
       "layout": "IPY_MODEL_0d95601931d94f8cac55349f5886038a",
       "style": "IPY_MODEL_ee84c4f73d284618aa3241fcb758da9f",
       "value": "Box(1,)"
      }
     },
     "e467ed3285684035a013df63ebb6b422": {
      "model_module": "@jupyter-widgets/controls",
      "model_module_version": "1.5.0",
      "model_name": "DescriptionStyleModel",
      "state": {
       "description_width": ""
      }
     },
     "e527873f8829445dbdb49e0710132c63": {
      "model_module": "@jupyter-widgets/base",
      "model_module_version": "1.2.0",
      "model_name": "LayoutModel",
      "state": {}
     },
     "e53d3b32848c4872a5e1254a2ed080f1": {
      "model_module": "@jupyter-widgets/base",
      "model_module_version": "1.2.0",
      "model_name": "LayoutModel",
      "state": {}
     },
     "e57f860aafca4775a03574208f4944b7": {
      "model_module": "@jupyter-widgets/controls",
      "model_module_version": "1.5.0",
      "model_name": "VBoxModel",
      "state": {
       "children": [
        "IPY_MODEL_fd1693effce0420c8f4bbbebde0ef7c3",
        "IPY_MODEL_4bbe95c5e6b34795a2058cc7bf7416f9",
        "IPY_MODEL_9ee876553e424052a509a2daed8da1c6",
        "IPY_MODEL_07b040199f664673b2cb1b45c5a5af34"
       ],
       "layout": "IPY_MODEL_41425cf814dc44c49ac901aeec4c668f"
      }
     },
     "e62a214128d34799be2e1cc2cdb98b8c": {
      "model_module": "@jupyter-widgets/controls",
      "model_module_version": "1.5.0",
      "model_name": "DescriptionStyleModel",
      "state": {
       "description_width": ""
      }
     },
     "e6958eae462d43d8bdb9c6227deddcc7": {
      "model_module": "@jupyter-widgets/base",
      "model_module_version": "1.2.0",
      "model_name": "LayoutModel",
      "state": {}
     },
     "e6c798aa900740009741c67dfccb0d92": {
      "model_module": "@jupyter-widgets/controls",
      "model_module_version": "1.5.0",
      "model_name": "LabelModel",
      "state": {
       "layout": "IPY_MODEL_df228d4f3b644bb081011555c9f36485",
       "style": "IPY_MODEL_63d55c74d6ed493abe58361958b23046",
       "value": "0.999"
      }
     },
     "e8260cb1f55049a49bdaf024528d43c4": {
      "model_module": "@jupyter-widgets/base",
      "model_module_version": "1.2.0",
      "model_name": "LayoutModel",
      "state": {
       "grid_area": "widget001"
      }
     },
     "e835260b70924edd959ac38cbdaa50d3": {
      "model_module": "@jupyter-widgets/base",
      "model_module_version": "1.2.0",
      "model_name": "LayoutModel",
      "state": {
       "grid_area": "widget013"
      }
     },
     "e8b87d816ccb409083b0c522ef0bd9dd": {
      "model_module": "@jupyter-widgets/base",
      "model_module_version": "1.2.0",
      "model_name": "LayoutModel",
      "state": {
       "grid_area": "widget004"
      }
     },
     "e904337542fd4e5d8187b9b9190b7522": {
      "model_module": "@jupyter-widgets/controls",
      "model_module_version": "1.5.0",
      "model_name": "FloatTextModel",
      "state": {
       "description": "Manual input:",
       "layout": "IPY_MODEL_b50b99192c944a348df722c9f5cdaa90",
       "step": null,
       "style": "IPY_MODEL_831ed45407f74193acc07dacada162a9",
       "value": 50
      }
     },
     "e923a0f829b14a6b83f8ef159b7e1e67": {
      "model_module": "@jupyter-widgets/controls",
      "model_module_version": "1.5.0",
      "model_name": "LabelModel",
      "state": {
       "layout": "IPY_MODEL_e27f2db74f874171acd272cf848ddc80",
       "style": "IPY_MODEL_b3a43d5f73df48299fdf24a855c623a7",
       "value": "decay"
      }
     },
     "e944a76d793541058cf5f32563847fb3": {
      "model_module": "@jupyter-widgets/base",
      "model_module_version": "1.2.0",
      "model_name": "LayoutModel",
      "state": {}
     },
     "e9794b57be6c4c0e981a017d3fa82a36": {
      "model_module": "@jupyter-widgets/base",
      "model_module_version": "1.2.0",
      "model_name": "LayoutModel",
      "state": {}
     },
     "e9add15a402448ee8f55d0a65f2d460c": {
      "model_module": "@jupyter-widgets/base",
      "model_module_version": "1.2.0",
      "model_name": "LayoutModel",
      "state": {}
     },
     "e9d6d91ceda64a63b9fe358e90337820": {
      "model_module": "@jupyter-widgets/controls",
      "model_module_version": "1.5.0",
      "model_name": "HTMLModel",
      "state": {
       "layout": "IPY_MODEL_fe785154b75c4badbab0d946f05802cf",
       "style": "IPY_MODEL_78f5897896d144fe839fafd65e76816e",
       "value": "<font size=4><B>Environment Information</B>"
      }
     },
     "eb54eb7b3c674e67b10610ce2aaf309a": {
      "model_module": "@jupyter-widgets/controls",
      "model_module_version": "1.5.0",
      "model_name": "LabelModel",
      "state": {
       "layout": "IPY_MODEL_547d2113aae04e20ba41d30deb33ec5f",
       "style": "IPY_MODEL_7b48f1fae96e40519787018ed628b99b",
       "value": "1e-07"
      }
     },
     "eb5620a9d421450a9c0b629c52d3d8ba": {
      "model_module": "@jupyter-widgets/base",
      "model_module_version": "1.2.0",
      "model_name": "LayoutModel",
      "state": {}
     },
     "eb5fdb48aa1d483fa9acf05a229ef307": {
      "model_module": "@jupyter-widgets/base",
      "model_module_version": "1.2.0",
      "model_name": "LayoutModel",
      "state": {}
     },
     "ebff747fea3f4cf2abb9efcd9f998ddb": {
      "model_module": "@jupyter-widgets/controls",
      "model_module_version": "1.5.0",
      "model_name": "DescriptionStyleModel",
      "state": {
       "description_width": ""
      }
     },
     "ec1d469669a2411f9a5a7a1774480576": {
      "model_module": "@jupyter-widgets/controls",
      "model_module_version": "1.5.0",
      "model_name": "LabelModel",
      "state": {
       "layout": "IPY_MODEL_4749f46df2c4438e874ed6912a4d7ef1",
       "style": "IPY_MODEL_7cc3bf6293494425b70569d1eca3af03",
       "value": "beta_2"
      }
     },
     "ec6b04eac2cd4e5a821244a954846a39": {
      "model_module": "@jupyter-widgets/controls",
      "model_module_version": "1.5.0",
      "model_name": "DescriptionStyleModel",
      "state": {
       "description_width": ""
      }
     },
     "ecc6da99cf7944f5a5a6cfd1f0516aa6": {
      "model_module": "@jupyter-widgets/base",
      "model_module_version": "1.2.0",
      "model_name": "LayoutModel",
      "state": {}
     },
     "ed746bfae28741e9ae1d450dd1394423": {
      "model_module": "@jupyter-widgets/base",
      "model_module_version": "1.2.0",
      "model_name": "LayoutModel",
      "state": {
       "align_items": "center"
      }
     },
     "ee84c4f73d284618aa3241fcb758da9f": {
      "model_module": "@jupyter-widgets/controls",
      "model_module_version": "1.5.0",
      "model_name": "DescriptionStyleModel",
      "state": {
       "description_width": ""
      }
     },
     "eef437964b4e4fa29ea42afc6b9a69ce": {
      "model_module": "@jupyter-widgets/controls",
      "model_module_version": "1.5.0",
      "model_name": "LabelModel",
      "state": {
       "layout": "IPY_MODEL_8f01f6cb90754bcb8b2e64809505291d",
       "style": "IPY_MODEL_ce777268358f48608666122680449e3c",
       "value": "Box(1,)"
      }
     },
     "ef95b43fb5cd436cb6f737f2defc8e38": {
      "model_module": "@jupyter-widgets/controls",
      "model_module_version": "1.5.0",
      "model_name": "LabelModel",
      "state": {
       "layout": "IPY_MODEL_747e88ebfefc4efb95f60f63e725dcc1",
       "style": "IPY_MODEL_078c44ca72d24661bbeb9921196ddace",
       "value": "The action space is continuous."
      }
     },
     "f10d3787733a4ece9120c3641017114b": {
      "model_module": "@jupyter-widgets/controls",
      "model_module_version": "1.5.0",
      "model_name": "HBoxModel",
      "state": {
       "children": [
        "IPY_MODEL_26036b1a064245a6a1cef60ec7d39376",
        "IPY_MODEL_af4e53453b1a434e9426fd63d61888c5"
       ],
       "layout": "IPY_MODEL_70c300868924433094e74b74d260a4a2"
      }
     },
     "f1888922c93c435f8bac11033ae325e9": {
      "model_module": "@jupyter-widgets/controls",
      "model_module_version": "1.5.0",
      "model_name": "VBoxModel",
      "state": {
       "children": [
        "IPY_MODEL_455c6fed537d48b188edef0200ab0fb1",
        "IPY_MODEL_2e65a763e5db40ca8969c36950c0d9bd",
        "IPY_MODEL_8c27b4b759354d64b25bcb3462c444ef"
       ],
       "layout": "IPY_MODEL_74d03d1491d4451d879384ab357f33a9"
      }
     },
     "f1985e262a7d401ea97c903091713789": {
      "model_module": "@jupyter-widgets/base",
      "model_module_version": "1.2.0",
      "model_name": "LayoutModel",
      "state": {}
     },
     "f2612900bd944258af3be77cacc7a46b": {
      "model_module": "@jupyter-widgets/controls",
      "model_module_version": "1.5.0",
      "model_name": "DescriptionStyleModel",
      "state": {
       "description_width": ""
      }
     },
     "f29a7f4ff2a74bbf8d6485cbfb086152": {
      "model_module": "@jupyter-widgets/controls",
      "model_module_version": "1.5.0",
      "model_name": "HTMLModel",
      "state": {
       "layout": "IPY_MODEL_bf3a856d0c5f4d47abf596f528a2d947",
       "style": "IPY_MODEL_10685777c5384041b62b4ce3aa26bf6e",
       "value": "<font size=4><B>Environment Selector</B>"
      }
     },
     "f29ba87ee02f4fc38760b98a32e20581": {
      "model_module": "@jupyter-widgets/controls",
      "model_module_version": "1.5.0",
      "model_name": "DescriptionStyleModel",
      "state": {
       "description_width": ""
      }
     },
     "f2db93e6094b47d0bfce3821b33d707a": {
      "model_module": "@jupyter-widgets/base",
      "model_module_version": "1.2.0",
      "model_name": "LayoutModel",
      "state": {}
     },
     "f2ffc80dd5074916b1a69e9de91149f9": {
      "model_module": "@jupyter-widgets/base",
      "model_module_version": "1.2.0",
      "model_name": "LayoutModel",
      "state": {
       "grid_area": "widget001"
      }
     },
     "f3645a595f8c4e1f82d71ed6f97e7dd6": {
      "model_module": "@jupyter-widgets/base",
      "model_module_version": "1.2.0",
      "model_name": "LayoutModel",
      "state": {
       "align_content": "center",
       "align_items": "center",
       "border": "dotted"
      }
     },
     "f401d82a291f4cdb9d44cf62f1c48978": {
      "model_module": "@jupyter-widgets/controls",
      "model_module_version": "1.5.0",
      "model_name": "LabelModel",
      "state": {
       "layout": "IPY_MODEL_86e357397076415ba3ac239b26a8bc8f",
       "style": "IPY_MODEL_faea715cb8894b8ca444f80d17c07e12",
       "value": "False"
      }
     },
     "f48e72d8d0b5470798d5faeed3dc8e40": {
      "model_module": "@jupyter-widgets/controls",
      "model_module_version": "1.5.0",
      "model_name": "DescriptionStyleModel",
      "state": {
       "description_width": ""
      }
     },
     "f4d0297192f5464bac7ab02b3dabed2c": {
      "model_module": "@jupyter-widgets/base",
      "model_module_version": "1.2.0",
      "model_name": "LayoutModel",
      "state": {}
     },
     "f5879b9ebaab4df9b53830cef8c25e62": {
      "model_module": "@jupyter-widgets/controls",
      "model_module_version": "1.5.0",
      "model_name": "LabelModel",
      "state": {
       "layout": "IPY_MODEL_afeba836a14d4fb6a7c5407794848b80",
       "style": "IPY_MODEL_9fc5c513843a4c0fa7ae9c8b37c3b4ff",
       "value": "./model/AC-Pendulum-v0"
      }
     },
     "f5c5c8e022aa4f239006a40e2ac8b990": {
      "model_module": "@jupyter-widgets/controls",
      "model_module_version": "1.5.0",
      "model_name": "FloatSliderModel",
      "state": {
       "continuous_update": false,
       "description": "Slider input:",
       "layout": "IPY_MODEL_e527873f8829445dbdb49e0710132c63",
       "max": 1.8,
       "readout_format": ".1f",
       "step": 0.1,
       "style": "IPY_MODEL_2b0d8567d4aa4e53a5837284b315cc58",
       "value": 0.9
      }
     },
     "f63f7fca433e4d32ad6252416895155b": {
      "model_module": "@jupyter-widgets/controls",
      "model_module_version": "1.5.0",
      "model_name": "DescriptionStyleModel",
      "state": {
       "description_width": ""
      }
     },
     "f6f23b9ba55946d0aa626d62ba4bbdf5": {
      "model_module": "@jupyter-widgets/base",
      "model_module_version": "1.2.0",
      "model_name": "LayoutModel",
      "state": {}
     },
     "f72ef10c1acd44608d2db2b932f2b167": {
      "model_module": "@jupyter-widgets/base",
      "model_module_version": "1.2.0",
      "model_name": "LayoutModel",
      "state": {}
     },
     "f74c2a3b52114bbc80056d7097731209": {
      "model_module": "@jupyter-widgets/controls",
      "model_module_version": "1.5.0",
      "model_name": "FloatSliderModel",
      "state": {
       "continuous_update": false,
       "description": "Slider input:",
       "layout": "IPY_MODEL_80d9bf94c37c49708820ccb5a2aa8f8b",
       "max": 200,
       "readout_format": ".0f",
       "style": "IPY_MODEL_731d299fb9dd45c1a41a5d4df4f41f94",
       "value": 100
      }
     },
     "f77e6fff86704faea6c01e0262104c70": {
      "model_module": "@jupyter-widgets/controls",
      "model_module_version": "1.5.0",
      "model_name": "VBoxModel",
      "state": {
       "children": [
        "IPY_MODEL_0a575cd57803474a9574922e07d3d316",
        "IPY_MODEL_8d025735275c4dfdbbbf2d491e727c08"
       ],
       "layout": "IPY_MODEL_5b759ba6fc8f451c97ee15467069a6ed"
      }
     },
     "f80bd1f80d99494595e88c9fc5f055d2": {
      "model_module": "@jupyter-widgets/controls",
      "model_module_version": "1.5.0",
      "model_name": "VBoxModel",
      "state": {
       "children": [
        "IPY_MODEL_9dd1d4acaad44f16b1bbf0693ee9fad5",
        "IPY_MODEL_1cb88e139a0642afb2f3c958dff539aa",
        "IPY_MODEL_2e6e71650a6a48878fce055c8e563538",
        "IPY_MODEL_fe6a7094bdd649e6b5270a701e12253a"
       ],
       "layout": "IPY_MODEL_bfa16a837ebd4ec795d5aa0a893d5298"
      }
     },
     "f834d6547a954a478d9e755653e4f5a1": {
      "model_module": "@jupyter-widgets/controls",
      "model_module_version": "1.5.0",
      "model_name": "DescriptionStyleModel",
      "state": {
       "description_width": ""
      }
     },
     "f8a20f2f4b8b4c03857bcd85bf96b136": {
      "model_module": "@jupyter-widgets/controls",
      "model_module_version": "1.5.0",
      "model_name": "DescriptionStyleModel",
      "state": {
       "description_width": ""
      }
     },
     "f8eb99b0291b45dda1b391805141e984": {
      "model_module": "@jupyter-widgets/controls",
      "model_module_version": "1.5.0",
      "model_name": "LabelModel",
      "state": {
       "layout": "IPY_MODEL_5afcc13ec3d94e6299bd06fb87ed7885",
       "style": "IPY_MODEL_d4c91e304ca34f88a4c959ecc4683678",
       "value": "beta_1"
      }
     },
     "f91418c725364297a60aa4983253ae07": {
      "model_module": "@jupyter-widgets/controls",
      "model_module_version": "1.5.0",
      "model_name": "DescriptionStyleModel",
      "state": {
       "description_width": ""
      }
     },
     "f9a9a8529629435f926e28c9e2ff6d21": {
      "model_module": "@jupyter-widgets/controls",
      "model_module_version": "1.5.0",
      "model_name": "DescriptionStyleModel",
      "state": {
       "description_width": ""
      }
     },
     "f9b983bef3a14087b6d1f966b8b041ed": {
      "model_module": "@jupyter-widgets/base",
      "model_module_version": "1.2.0",
      "model_name": "LayoutModel",
      "state": {}
     },
     "f9cd83ba01bb440b9510e0ada3cfd4aa": {
      "model_module": "@jupyter-widgets/base",
      "model_module_version": "1.2.0",
      "model_name": "LayoutModel",
      "state": {}
     },
     "fa3877a284354fd08f33d320314b6765": {
      "model_module": "@jupyter-widgets/controls",
      "model_module_version": "1.5.0",
      "model_name": "LabelModel",
      "state": {
       "layout": "IPY_MODEL_57f97e2ebec542f8b297365916bf571e",
       "style": "IPY_MODEL_454021a337164bae8a96f5a5a7749b78",
       "value": "decay"
      }
     },
     "faea715cb8894b8ca444f80d17c07e12": {
      "model_module": "@jupyter-widgets/controls",
      "model_module_version": "1.5.0",
      "model_name": "DescriptionStyleModel",
      "state": {
       "description_width": ""
      }
     },
     "fb06877af7ae451baefc12dfd27d9348": {
      "model_module": "@jupyter-widgets/base",
      "model_module_version": "1.2.0",
      "model_name": "LayoutModel",
      "state": {
       "border": "dotted",
       "grid_template_areas": "\"widget001 widget002\"\n\"widget003 widget004\"\n\"widget005 widget006\"\n\"widget007 widget008\"\n\"widget009 widget010\"\n\"widget011 widget012\"\n\"widget013 widget014\"",
       "grid_template_columns": "repeat(2, 1fr)",
       "grid_template_rows": "repeat(7, 1fr)"
      }
     },
     "fb19638e8a38465f844aaf06c6378b29": {
      "model_module": "@jupyter-widgets/base",
      "model_module_version": "1.2.0",
      "model_name": "LayoutModel",
      "state": {}
     },
     "fbd450c8b01f4ab9ae7ea1caa129bd66": {
      "model_module": "@jupyter-widgets/base",
      "model_module_version": "1.2.0",
      "model_name": "LayoutModel",
      "state": {
       "align_content": "center",
       "align_items": "center",
       "border": "dotted"
      }
     },
     "fc20a5f1e967425c840960c1948f00c8": {
      "model_module": "@jupyter-widgets/base",
      "model_module_version": "1.2.0",
      "model_name": "LayoutModel",
      "state": {
       "grid_area": "widget011"
      }
     },
     "fc69d16aa7e547b09859e2ca7dbfbde8": {
      "model_module": "@jupyter-widgets/controls",
      "model_module_version": "1.5.0",
      "model_name": "VBoxModel",
      "state": {
       "children": [
        "IPY_MODEL_97f58376ed524fab85dde1ea5f67ee17",
        "IPY_MODEL_0dc03ae5db46484a85272ce1899e53c0"
       ],
       "layout": "IPY_MODEL_81f34a95028440608c8a5a307cd7ee9b"
      }
     },
     "fc6a2f4827034d64b99a15547f3d9f43": {
      "model_module": "@jupyter-widgets/controls",
      "model_module_version": "1.5.0",
      "model_name": "LabelModel",
      "state": {
       "layout": "IPY_MODEL_cf3de6c59d124068af4aef37293c26e2",
       "style": "IPY_MODEL_1222c8a942134f83aa262d9b321ee413",
       "value": "render"
      }
     },
     "fc83fd9df36b4c0fa6ee544fe520cde7": {
      "model_module": "@jupyter-widgets/base",
      "model_module_version": "1.2.0",
      "model_name": "LayoutModel",
      "state": {
       "grid_area": "widget007"
      }
     },
     "fca1d8802f264b48aa3f7bef2b5f5b81": {
      "model_module": "@jupyter-widgets/controls",
      "model_module_version": "1.5.0",
      "model_name": "HTMLModel",
      "state": {
       "layout": "IPY_MODEL_c096b60cb96b4aa68be8728e6feb2366",
       "style": "IPY_MODEL_7532b84aea3a4f4290efa4b0369e846a",
       "value": "<font size=4><B>Algorithm Parameters</B>"
      }
     },
     "fca98009fe56433b97f1fd16969f9a35": {
      "model_module": "@jupyter-widgets/controls",
      "model_module_version": "1.5.0",
      "model_name": "LabelModel",
      "state": {
       "layout": "IPY_MODEL_43f9446733e242f1977bbe394ddc479b",
       "style": "IPY_MODEL_660e8c250f974ff685128c61b3d57fe3",
       "value": "Environment settings"
      }
     },
     "fd1693effce0420c8f4bbbebde0ef7c3": {
      "model_module": "@jupyter-widgets/controls",
      "model_module_version": "1.5.0",
      "model_name": "LabelModel",
      "state": {
       "layout": "IPY_MODEL_4fa0861e758940d9b9c2775304ebb140",
       "style": "IPY_MODEL_661fd55473c0431aa9dffd6876d1d559",
       "value": "Input(shape=(None, 3), name='input_layer')"
      }
     },
     "fe547223f16e423fa8493d4c6ae577ba": {
      "model_module": "@jupyter-widgets/controls",
      "model_module_version": "1.5.0",
      "model_name": "VBoxModel",
      "state": {
       "children": [
        "IPY_MODEL_f77e6fff86704faea6c01e0262104c70",
        "IPY_MODEL_9e37b046f2d841dd9572b2284a729bf5"
       ],
       "layout": "IPY_MODEL_48a97cf1c4a44a858c3376f962060321"
      }
     },
     "fe6a7094bdd649e6b5270a701e12253a": {
      "model_module": "@jupyter-widgets/controls",
      "model_module_version": "1.5.0",
      "model_name": "LabelModel",
      "state": {
       "layout": "IPY_MODEL_a860d9c958c646aa89ae598dc67eaa08",
       "style": "IPY_MODEL_85514e8a938240e7b2df7c2a8ad6b6e8",
       "value": "Dense(n_units=1, No Activation, in_channels='64', name='dense_1')"
      }
     },
     "fe785154b75c4badbab0d946f05802cf": {
      "model_module": "@jupyter-widgets/base",
      "model_module_version": "1.2.0",
      "model_name": "LayoutModel",
      "state": {}
     },
     "ff06931e66b544389c8f409734b472e3": {
      "model_module": "@jupyter-widgets/base",
      "model_module_version": "1.2.0",
      "model_name": "LayoutModel",
      "state": {
       "grid_template_areas": "\n                                           \"net_label net_info\"\n                                           \"opt_label opt_info\"\n                                           "
      }
     },
     "ff0e9f4940eb4b57bd99d96059b5e194": {
      "model_module": "@jupyter-widgets/controls",
      "model_module_version": "1.5.0",
      "model_name": "DescriptionStyleModel",
      "state": {
       "description_width": ""
      }
     },
     "ffce2434eb114cd1a7f6961dd71ff755": {
      "model_module": "@jupyter-widgets/base",
      "model_module_version": "1.2.0",
      "model_name": "LayoutModel",
      "state": {
       "align_items": "center"
      }
     }
    },
    "version_major": 2,
    "version_minor": 0
   }
  }
 },
 "nbformat": 4,
 "nbformat_minor": 4
}
